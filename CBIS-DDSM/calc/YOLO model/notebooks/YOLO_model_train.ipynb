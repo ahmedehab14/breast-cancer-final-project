{
 "cells": [
  {
   "cell_type": "markdown",
   "id": "daee9d4d",
   "metadata": {},
   "source": [
    "Introduction\n",
    "--------\n",
    "In this notebook I convert my curated CBIS-DDSM calcification table into a YOLO-style object-detection dataset, visually audit the generated labels, write a minimal dataset YAML, and launch a baseline YOLOv8 training run. I keep the process deterministic and auditable so I can iterate on model capacity and augmentation later without re-engineering the data path.\n",
    "\n",
    "Workflow\n",
    "- environment setup and imports\n",
    "- dataset configuration and folder scaffold for YOLO\n",
    "- box synthesis from precomputed cropped ROIs via template matching\n",
    "- quick visualization loop to QA labels\n",
    "- dataset YAML materialization\n",
    "- YOLOv8 training with explicit hyperparameters\n",
    "\n",
    "Assumptions\n",
    "- `calc_preprocessed_clean.csv` contains full-image paths and cropped ROI paths that are consistent on disk\n",
    "- each cropped ROI truly originates from its corresponding full image\n",
    "- I treat all detections as a single class (`lesion`) for this baseline"
   ]
  },
  {
   "cell_type": "code",
   "execution_count": 1,
   "id": "ce43a7e1",
   "metadata": {},
   "outputs": [],
   "source": [
    "# === Environment Configuration ===\n",
    "import os\n",
    "os.environ[\"KMP_DUPLICATE_LIB_OK\"] = \"TRUE\"  # allow MKL/OpenMP coexistence to avoid import warnings on some setups\n",
    "\n",
    "# === Core Libraries ===\n",
    "import os\n",
    "import cv2\n",
    "import pandas as pd\n",
    "from tqdm import tqdm\n",
    "import matplotlib.pyplot as plt\n",
    "from pathlib import Path\n",
    "\n",
    "# === Ultralytics YOLO ===\n",
    "from ultralytics import YOLO  # entrypoint for training/eval/inference\n",
    "\n",
    "# === IMPORTS ===\n",
    "from pathlib import Path\n",
    "import os\n",
    "import cv2\n",
    "import matplotlib.pyplot as plt"
   ]
  },
  {
   "cell_type": "markdown",
   "id": "f197c5d0",
   "metadata": {},
   "source": [
    "Configuration and directory scaffold\n",
    "------------------------------------\n",
    "I resolve the project root relative to the notebook, point to the source CSV with preprocessed calcification samples, and define the root folder where I will build the YOLO dataset layout. I then create the canonical `images/` and `labels/` subtrees that YOLO expects.\n",
    "\n",
    "Notes\n",
    "- I place images under `images/all` and labels under `labels/all` as a single pool in this baseline\n",
    "- class mapping is implicit (single class id 0 → \"lesion\") and encoded in the label lines later"
   ]
  },
  {
   "cell_type": "code",
   "execution_count": 2,
   "id": "ab604974",
   "metadata": {},
   "outputs": [],
   "source": [
    "# === CONFIG ===\n",
    "# Go one level up from notebooks/ folder to reach project root\n",
    "PROJECT_DIR = Path().resolve().parent\n",
    "\n",
    "# Paths\n",
    "csv_path = PROJECT_DIR / \"data\" / \"calc_preprocessed_clean.csv\" \n",
    "yolo_base_path = PROJECT_DIR / \"data\" /\"CBIS_YOLO_TRAIN_DATASET\"                    \n",
    "\n",
    "\n",
    "# === CREATE YOLO FOLDER STRUCTURE ===\n",
    "def setup_yolo_directories(base_path):\n",
    "    \"\"\"\n",
    "    Creates the directory structure for YOLO training:\n",
    "    base_path/\n",
    "        └── images/\n",
    "              └── all/\n",
    "        └── labels/\n",
    "              └── all/\n",
    "    \"\"\"\n",
    "    images_dir = os.path.join(base_path, \"images\", \"all\")\n",
    "    labels_dir = os.path.join(base_path, \"labels\", \"all\")\n",
    "    os.makedirs(images_dir, exist_ok=True)\n",
    "    os.makedirs(labels_dir, exist_ok=True)\n",
    "    return images_dir, labels_dir\n",
    "\n",
    "output_images_dir, output_labels_dir = setup_yolo_directories(yolo_base_path)\n",
    "\n"
   ]
  },
  {
   "cell_type": "markdown",
   "id": "cd6e8065",
   "metadata": {},
   "source": [
    "Helper functions\n",
    "----------------\n",
    "I synthesize bounding boxes from the provided cropped ROI images by locating each crop within its parent full image using normalized cross-correlation template matching. I then convert the pixel-space rectangle into YOLO’s relative format `(xc, yc, w, h)`.\n",
    "\n",
    "Caveat\n",
    "- template matching assumes the crop is an exact sub-image of the full image (same intensity scaling and no rotation); this is adequate for my curated crops\n"
   ]
  },
  {
   "cell_type": "code",
   "execution_count": 3,
   "id": "ce80c25a",
   "metadata": {},
   "outputs": [],
   "source": [
    "# === HELPER FUNCTIONS ===\n",
    "def get_crop_bbox(full_img, crop_img):\n",
    "    \"\"\"\n",
    "    Find where the cropped image matches the full image using template matching.\n",
    "    Returns x1, y1, x2, y2 bounding box in pixel coordinates.\n",
    "    \"\"\"\n",
    "    full_gray = cv2.cvtColor(full_img, cv2.COLOR_BGR2GRAY)\n",
    "    crop_gray = cv2.cvtColor(crop_img, cv2.COLOR_BGR2GRAY)\n",
    "    result = cv2.matchTemplate(full_gray, crop_gray, cv2.TM_CCOEFF_NORMED)\n",
    "    _, _, _, max_loc = cv2.minMaxLoc(result)  # location of best match (top-left)\n",
    "    x1, y1 = max_loc\n",
    "    h, w = crop_gray.shape\n",
    "    return x1, y1, x1 + w, y1 + h\n",
    "\n",
    "def to_yolo_format(x1, y1, x2, y2, img_w, img_h):\n",
    "    \"\"\"\n",
    "    Converts bounding box coordinates to YOLO format.\n",
    "    \"\"\"\n",
    "    x_center = ((x1 + x2) / 2) / img_w\n",
    "    y_center = ((y1 + y2) / 2) / img_h\n",
    "    width = (x2 - x1) / img_w\n",
    "    height = (y2 - y1) / img_h\n",
    "    return x_center, y_center, width, height\n",
    "\n"
   ]
  },
  {
   "cell_type": "markdown",
   "id": "9c3792b9",
   "metadata": {},
   "source": [
    "Generate YOLO images and labels\n",
    "-------------------------------\n",
    "For each full image in the CSV I:\n",
    "- copy the full image to `images/all/`\n",
    "- iterate all cropped ROIs that belong to that image\n",
    "- localize each crop in the full image via template matching\n",
    "- append a YOLO label line `0 xc yc w h` (single-class baseline) to the corresponding `.txt` in `labels/all/`\n",
    "\n",
    "I keep a running log of missing files or matching failures so I can trace and correct source issues quickly.\n"
   ]
  },
  {
   "cell_type": "code",
   "execution_count": 4,
   "id": "18aeffd2",
   "metadata": {},
   "outputs": [
    {
     "name": "stderr",
     "output_type": "stream",
     "text": [
      "Processing Full Images: 100%|██████████| 1511/1511 [11:36<00:00,  2.17it/s]\n"
     ]
    }
   ],
   "source": [
    "# === MAIN PROCESSING ===\n",
    "df = pd.read_csv(csv_path)\n",
    "grouped = df.groupby('image_path')\n",
    "\n",
    "for image_path, group in tqdm(grouped, desc=\"Processing Full Images\"):\n",
    "    if not os.path.exists(image_path):\n",
    "        print(f\"[Warning] Full image not found: {image_path}\")\n",
    "        continue\n",
    "\n",
    "    full_img = cv2.imread(image_path)\n",
    "    if full_img is None:\n",
    "        print(f\"[Error] Failed to read full image: {image_path}\")\n",
    "        continue\n",
    "\n",
    "    img_h, img_w = full_img.shape[:2]\n",
    "    image_filename = os.path.basename(image_path)\n",
    "    label_filename = os.path.splitext(image_filename)[0] + \".txt\"\n",
    "\n",
    "    # Save full image to YOLO image directory\n",
    "    output_img_path = os.path.join(output_images_dir, image_filename)\n",
    "    cv2.imwrite(output_img_path, full_img)\n",
    "\n",
    "    annotations = []\n",
    "\n",
    "    for _, row in group.iterrows():\n",
    "        cropped_path = row[\"cropped_image_path\"]\n",
    "\n",
    "        if not os.path.exists(cropped_path):\n",
    "            print(f\"[Warning] Cropped image not found: {cropped_path}\")\n",
    "            continue\n",
    "\n",
    "        cropped_img = cv2.imread(cropped_path)\n",
    "        if cropped_img is None:\n",
    "            print(f\"[Error] Failed to read cropped image: {cropped_path}\")\n",
    "            continue\n",
    "\n",
    "        try:\n",
    "            x1, y1, x2, y2 = get_crop_bbox(full_img, cropped_img)\n",
    "            x_center, y_center, w, h = to_yolo_format(x1, y1, x2, y2, img_w, img_h)\n",
    "            annotations.append(f\"0 {x_center:.6f} {y_center:.6f} {w:.6f} {h:.6f}\")\n",
    "        except Exception as e:\n",
    "            print(f\"[Error] Failed to match crop for {cropped_path}: {e}\")\n",
    "\n",
    "    if annotations:\n",
    "        label_path = os.path.join(output_labels_dir, label_filename)\n",
    "        with open(label_path, 'w') as f:\n",
    "            f.write(\"\\n\".join(annotations))"
   ]
  },
  {
   "cell_type": "markdown",
   "id": "377421a8",
   "metadata": {},
   "source": [
    "Label visualization (QA)\n",
    "------------------------\n",
    "I render each image with its YOLO boxes to visually verify that the synthesized annotations actually sit on the lesions. The loop pauses per image so I can skim quickly and quit with `q` if needed.\n",
    "\n",
    "What I look for\n",
    "- boxes tightly covering the ROI\n",
    "- no wild off-image coordinates (clamped in code)\n",
    "- reasonable behavior when multiple crops map to the same full image"
   ]
  },
  {
   "cell_type": "code",
   "execution_count": 5,
   "id": "8ddd902b",
   "metadata": {},
   "outputs": [
    {
     "name": "stdout",
     "output_type": "stream",
     "text": [
      "Images dir exists: True\n",
      "Labels dir exists: True\n"
     ]
    },
    {
     "data": {
      "image/png": "[encoded data removed]",
      "text/plain": [
       "<Figure size 800x800 with 1 Axes>"
      ]
     },
     "metadata": {},
     "output_type": "display_data"
    },
    {
     "data": {
      "image/png": "[encoded data removed]",
      "text/plain": [
       "<Figure size 800x800 with 1 Axes>"
      ]
     },
     "metadata": {},
     "output_type": "display_data"
    },
    {
     "data": {
      "image/png": "[encoded data removed]",
      "text/plain": [
       "<Figure size 800x800 with 1 Axes>"
      ]
     },
     "metadata": {},
     "output_type": "display_data"
    },
    {
     "data": {
      "image/png": "[encoded data removed]",
      "text/plain": [
       "<Figure size 800x800 with 1 Axes>"
      ]
     },
     "metadata": {},
     "output_type": "display_data"
    }
   ],
   "source": [
    "# === CONFIG ===\n",
    "PROJECT_DIR = Path().resolve().parent\n",
    "\n",
    "dataset_dir = PROJECT_DIR / \"data\" / \"CBIS_YOLO_TRAIN_DATASET\"\n",
    "images_dir  = dataset_dir / \"images\" / \"all\"\n",
    "labels_dir  = dataset_dir / \"labels\" / \"all\"\n",
    "\n",
    "print(\"Images dir exists:\", images_dir.exists())\n",
    "print(\"Labels dir exists:\", labels_dir.exists())\n",
    "\n",
    "# === VISUALIZATION FUNCTION ===\n",
    "def draw_yolo_bboxes(image_path: Path, label_path: Path):\n",
    "    \"\"\"Draw YOLO-format boxes (class xc yc w h in relative coords) on an image.\"\"\"\n",
    "    # OpenCV needs a string path\n",
    "    image = cv2.imread(str(image_path))\n",
    "    if image is None:\n",
    "        print(f\"[Error] Could not read image: {image_path}\")\n",
    "        return\n",
    "\n",
    "    img_h, img_w = image.shape[:2]\n",
    "\n",
    "    if not label_path.exists():\n",
    "        print(f\"[Warning] No label file for: {image_path.name}\")\n",
    "    else:\n",
    "        try:\n",
    "            with open(label_path, \"r\", encoding=\"utf-8\") as f:\n",
    "                lines = [ln.strip() for ln in f if ln.strip()]\n",
    "        except Exception as e:\n",
    "            print(f\"[Warning] Failed to read label file {label_path}: {e}\")\n",
    "            lines = []\n",
    "\n",
    "        for line in lines:\n",
    "            parts = line.split()\n",
    "            if len(parts) != 5:\n",
    "                print(f\"[Warning] Skipping invalid line in {label_path.name}: {line}\")\n",
    "                continue\n",
    "\n",
    "            try:\n",
    "                cls_id, x_center, y_center, width, height = map(float, parts)\n",
    "            except ValueError:\n",
    "                print(f\"[Warning] Non-numeric values in {label_path.name}: {line}\")\n",
    "                continue\n",
    "\n",
    "            # Convert YOLO (relative) -> pixel coords\n",
    "            x_center *= img_w\n",
    "            y_center *= img_h\n",
    "            width    *= img_w\n",
    "            height   *= img_h\n",
    "\n",
    "            x1 = int(x_center - width  / 2)\n",
    "            y1 = int(y_center - height / 2)\n",
    "            x2 = int(x_center + width  / 2)\n",
    "            y2 = int(y_center + height / 2)\n",
    "\n",
    "            # Clamp to image bounds\n",
    "            x1, y1 = max(0, x1), max(0, y1)\n",
    "            x2, y2 = min(img_w - 1, x2), min(img_h - 1, y2)\n",
    "\n",
    "            # Draw\n",
    "            cv2.rectangle(image, (x1, y1), (x2, y2), (0, 255, 0), 2)\n",
    "            cv2.putText(image, f\"Class {int(cls_id)}\", (x1, max(0, y1 - 10)),\n",
    "                        cv2.FONT_HERSHEY_SIMPLEX, 0.6, (0, 255, 0), 2)\n",
    "\n",
    "    # Show with matplotlib\n",
    "    image_rgb = cv2.cvtColor(image, cv2.COLOR_BGR2RGB)\n",
    "    plt.figure(figsize=(8, 8))\n",
    "    plt.imshow(image_rgb)\n",
    "    plt.axis('off')\n",
    "    plt.title(image_path.name)\n",
    "    plt.show()\n",
    "\n",
    "# === LOOP OVER IMAGES ===\n",
    "# Accept common extensions\n",
    "exts = {\".jpg\", \".jpeg\", \".png\", \".bmp\", \".tif\", \".tiff\"}\n",
    "image_files = sorted([p for p in images_dir.iterdir() if p.suffix.lower() in exts],\n",
    "                     key=lambda p: p.name.lower())\n",
    "\n",
    "if not image_files:\n",
    "    print(\"[Info] No images found. Check images_dir path or file extensions.\")\n",
    "\n",
    "for img_path in image_files:\n",
    "    lbl_path = labels_dir / (img_path.stem + \".txt\")\n",
    "    draw_yolo_bboxes(img_path, lbl_path)\n",
    "\n",
    "    user_input = input(\"Press Enter for next image, or 'q' to quit: \").strip().lower()\n",
    "    if user_input == 'q':\n",
    "        break"
   ]
  },
  {
   "cell_type": "markdown",
   "id": "5d6edfa4",
   "metadata": {},
   "source": [
    "Dataset YAML\n",
    "------------\n",
    "I write a minimal YOLO dataset configuration that points to the dataset root and declares a single class. For this baseline I reference the same `images` directory for both train and val. In later experiments I will split into explicit `images/train` and `images/val` subfolders and update the YAML accordingly.\n"
   ]
  },
  {
   "cell_type": "code",
   "execution_count": 6,
   "id": "e984efc9",
   "metadata": {},
   "outputs": [
    {
     "name": "stdout",
     "output_type": "stream",
     "text": [
      "images dir exists: True\n",
      "labels dir exists: True\n",
      "Wrote: C:\\Users\\PC\\Desktop\\final project\\CBIS-DDSM\\calc\\YOLO model\\data\\cbis.yaml\n",
      "# YOLO dataset config\n",
      "path: C:/Users/PC/Desktop/final project/CBIS-DDSM/calc/YOLO model/data/CBIS_YOLO_TRAIN_DATASET   # absolute path to dataset root\n",
      "train: images                    # (relative to 'path')\n",
      "val: images                      # you can point to a separate val folder later\n",
      "\n",
      "nc: 1\n",
      "names: ['lesion']\n",
      "\n"
     ]
    }
   ],
   "source": [
    "yaml_path = PROJECT_DIR / \"data\" / \"cbis.yaml\"\n",
    "\n",
    "# sanity checks (optional)\n",
    "print(\"images dir exists:\", (dataset_dir / \"images\").exists())\n",
    "print(\"labels dir exists:\", (dataset_dir / \"labels\").exists())\n",
    "\n",
    "yaml_content = f\"\"\"\\\n",
    "# YOLO dataset config\n",
    "path: {dataset_dir.as_posix()}   # absolute path to dataset root\n",
    "train: images                    # (relative to 'path')\n",
    "val: images                      # you can point to a separate val folder later\n",
    "\n",
    "nc: 1\n",
    "names: ['lesion']\n",
    "\"\"\"\n",
    "\n",
    "yaml_path.write_text(yaml_content, encoding=\"utf-8\")\n",
    "print(\"Wrote:\", yaml_path)\n",
    "print(yaml_content)\n"
   ]
  },
  {
   "cell_type": "markdown",
   "id": "e089d2ae",
   "metadata": {},
   "source": [
    "Train a baseline YOLOv8 model\n",
    "-----------------------------\n",
    "I set a few explicit training hyperparameters and launch finetuning from the `yolov8s.pt` checkpoint. I keep the configuration readable and reproducible:\n",
    "- epochs, image size, batch size, optimizer and learning rate\n",
    "- early stopping patience and warmup\n",
    "- output project/name and a fixed seed for determinism\n",
    "\n",
    "The goal here is to establish a traceable baseline before exploring capacity, augmentation, or loss variations."
   ]
  },
  {
   "cell_type": "code",
   "execution_count": 7,
   "id": "8cc671f3",
   "metadata": {},
   "outputs": [
    {
     "name": "stdout",
     "output_type": "stream",
     "text": [
      "Downloading https://github.com/ultralytics/assets/releases/download/v8.3.0/yolov8s.pt to 'yolov8s.pt'...\n"
     ]
    },
    {
     "name": "stderr",
     "output_type": "stream",
     "text": [
      "100%|██████████| 21.5M/21.5M [00:06<00:00, 3.27MB/s]\n"
     ]
    },
    {
     "name": "stdout",
     "output_type": "stream",
     "text": [
      "New https://pypi.org/project/ultralytics/8.3.202 available  Update with 'pip install -U ultralytics'\n",
      "Ultralytics 8.3.171  Python-3.13.5 torch-2.7.1+cu118 CUDA:0 (NVIDIA GeForce RTX 4060, 8188MiB)\n",
      "\u001b[34m\u001b[1mengine\\trainer: \u001b[0magnostic_nms=False, amp=True, augment=False, auto_augment=randaugment, batch=4, bgr=0.0, box=7.5, cache=False, cfg=None, classes=None, close_mosaic=10, cls=0.5, conf=None, copy_paste=0.0, copy_paste_mode=flip, cos_lr=False, cutmix=0.0, data=C:\\Users\\PC\\Desktop\\final project\\CBIS-DDSM\\calc\\YOLO model\\data\\cbis.yaml, degrees=0.0, deterministic=True, device=0, dfl=1.5, dnn=False, dropout=0.2, dynamic=False, embed=None, epochs=150, erasing=0.4, exist_ok=False, fliplr=0.5, flipud=0.0, format=torchscript, fraction=1.0, freeze=None, half=False, hsv_h=0.015, hsv_s=0.7, hsv_v=0.4, imgsz=800, int8=False, iou=0.7, keras=False, kobj=1.0, line_width=None, lr0=0.001, lrf=0.01, mask_ratio=4, max_det=300, mixup=0.0, mode=train, model=yolov8s.pt, momentum=0.937, mosaic=1.0, multi_scale=False, name=yolov8s_optimized2, nbs=64, nms=False, opset=None, optimize=False, optimizer=SGD, overlap_mask=True, patience=20, perspective=0.0, plots=True, pose=12.0, pretrained=True, profile=False, project=C:\\Users\\PC\\Desktop\\final project\\CBIS-DDSM\\calc\\YOLO model\\CBIS_YOLO_PROJECT_output, rect=False, resume=False, retina_masks=False, save=True, save_conf=False, save_crop=False, save_dir=C:\\Users\\PC\\Desktop\\final project\\CBIS-DDSM\\calc\\YOLO model\\CBIS_YOLO_PROJECT_output\\yolov8s_optimized2, save_frames=False, save_json=False, save_period=-1, save_txt=False, scale=0.5, seed=42, shear=0.0, show=False, show_boxes=True, show_conf=True, show_labels=True, simplify=True, single_cls=False, source=None, split=val, stream_buffer=False, task=detect, time=None, tracker=botsort.yaml, translate=0.1, val=True, verbose=True, vid_stride=1, visualize=False, warmup_bias_lr=0.1, warmup_epochs=5, warmup_momentum=0.8, weight_decay=0.0005, workers=4, workspace=None\n",
      "Overriding model.yaml nc=80 with nc=1\n",
      "\n",
      "                   from  n    params  module                                       arguments                     \n",
      "  0                  -1  1       928  ultralytics.nn.modules.conv.Conv             [3, 32, 3, 2]                 \n",
      "  1                  -1  1     18560  ultralytics.nn.modules.conv.Conv             [32, 64, 3, 2]                \n",
      "  2                  -1  1     29056  ultralytics.nn.modules.block.C2f             [64, 64, 1, True]             \n",
      "  3                  -1  1     73984  ultralytics.nn.modules.conv.Conv             [64, 128, 3, 2]               \n",
      "  4                  -1  2    197632  ultralytics.nn.modules.block.C2f             [128, 128, 2, True]           \n",
      "  5                  -1  1    295424  ultralytics.nn.modules.conv.Conv             [128, 256, 3, 2]              \n",
      "  6                  -1  2    788480  ultralytics.nn.modules.block.C2f             [256, 256, 2, True]           \n",
      "  7                  -1  1   1180672  ultralytics.nn.modules.conv.Conv             [256, 512, 3, 2]              \n",
      "  8                  -1  1   1838080  ultralytics.nn.modules.block.C2f             [512, 512, 1, True]           \n",
      "  9                  -1  1    656896  ultralytics.nn.modules.block.SPPF            [512, 512, 5]                 \n",
      " 10                  -1  1         0  torch.nn.modules.upsampling.Upsample         [None, 2, 'nearest']          \n",
      " 11             [-1, 6]  1         0  ultralytics.nn.modules.conv.Concat           [1]                           \n",
      " 12                  -1  1    591360  ultralytics.nn.modules.block.C2f             [768, 256, 1]                 \n",
      " 13                  -1  1         0  torch.nn.modules.upsampling.Upsample         [None, 2, 'nearest']          \n",
      " 14             [-1, 4]  1         0  ultralytics.nn.modules.conv.Concat           [1]                           \n",
      " 15                  -1  1    148224  ultralytics.nn.modules.block.C2f             [384, 128, 1]                 \n",
      " 16                  -1  1    147712  ultralytics.nn.modules.conv.Conv             [128, 128, 3, 2]              \n",
      " 17            [-1, 12]  1         0  ultralytics.nn.modules.conv.Concat           [1]                           \n",
      " 18                  -1  1    493056  ultralytics.nn.modules.block.C2f             [384, 256, 1]                 \n",
      " 19                  -1  1    590336  ultralytics.nn.modules.conv.Conv             [256, 256, 3, 2]              \n",
      " 20             [-1, 9]  1         0  ultralytics.nn.modules.conv.Concat           [1]                           \n",
      " 21                  -1  1   1969152  ultralytics.nn.modules.block.C2f             [768, 512, 1]                 \n",
      " 22        [15, 18, 21]  1   2116435  ultralytics.nn.modules.head.Detect           [1, [128, 256, 512]]          \n",
      "Model summary: 129 layers, 11,135,987 parameters, 11,135,971 gradients, 28.6 GFLOPs\n",
      "\n",
      "Transferred 349/355 items from pretrained weights\n",
      "Freezing layer 'model.22.dfl.conv.weight'\n",
      "\u001b[34m\u001b[1mAMP: \u001b[0mrunning Automatic Mixed Precision (AMP) checks...\n",
      "Downloading https://github.com/ultralytics/assets/releases/download/v8.3.0/yolo11n.pt to 'yolo11n.pt'...\n"
     ]
    },
    {
     "name": "stderr",
     "output_type": "stream",
     "text": [
      "c:\\Users\\PC\\anaconda3\\Lib\\site-packages\\torch\\nn\\modules\\module.py:1341: UserWarning: expandable_segments not supported on this platform (Triggered internally at C:\\actions-runner\\_work\\pytorch\\pytorch\\pytorch\\c10/cuda/CUDAAllocatorConfig.h:28.)\n",
      "  return t.to(\n",
      "100%|██████████| 5.35M/5.35M [00:01<00:00, 3.21MB/s]\n"
     ]
    },
    {
     "name": "stdout",
     "output_type": "stream",
     "text": [
      "\u001b[34m\u001b[1mAMP: \u001b[0mchecks passed \n",
      "\u001b[34m\u001b[1mtrain: \u001b[0mFast image access  (ping: 0.00.0 ms, read: 248.180.3 MB/s, size: 1879.1 KB)\n"
     ]
    },
    {
     "name": "stderr",
     "output_type": "stream",
     "text": [
      "\u001b[34m\u001b[1mtrain: \u001b[0mScanning C:\\Users\\PC\\Desktop\\final project\\CBIS-DDSM\\calc\\YOLO model\\data\\CBIS_YOLO_TRAIN_DATASET\\labels\\all... 300 images, 0 backgrounds, 0 corrupt: 100%|██████████| 300/300 [00:00<00:00, 535.97it/s]"
     ]
    },
    {
     "name": "stdout",
     "output_type": "stream",
     "text": [
      "\u001b[34m\u001b[1mtrain: \u001b[0mNew cache created: C:\\Users\\PC\\Desktop\\final project\\CBIS-DDSM\\calc\\YOLO model\\data\\CBIS_YOLO_TRAIN_DATASET\\labels\\all.cache\n"
     ]
    },
    {
     "name": "stderr",
     "output_type": "stream",
     "text": [
      "\n"
     ]
    },
    {
     "name": "stdout",
     "output_type": "stream",
     "text": [
      "\u001b[34m\u001b[1malbumentations: \u001b[0mBlur(p=0.01, blur_limit=(3, 7)), MedianBlur(p=0.01, blur_limit=(3, 7)), ToGray(p=0.01, method='weighted_average', num_output_channels=3), CLAHE(p=0.01, clip_limit=(1.0, 4.0), tile_grid_size=(8, 8))\n",
      "\u001b[34m\u001b[1mval: \u001b[0mFast image access  (ping: 0.00.0 ms, read: 1628.4144.7 MB/s, size: 1883.3 KB)\n"
     ]
    },
    {
     "name": "stderr",
     "output_type": "stream",
     "text": [
      "\u001b[34m\u001b[1mval: \u001b[0mScanning C:\\Users\\PC\\Desktop\\final project\\CBIS-DDSM\\calc\\YOLO model\\data\\CBIS_YOLO_TRAIN_DATASET\\labels\\all.cache... 300 images, 0 backgrounds, 0 corrupt: 100%|██████████| 300/300 [00:00<?, ?it/s]\n"
     ]
    },
    {
     "name": "stdout",
     "output_type": "stream",
     "text": [
      "Plotting labels to C:\\Users\\PC\\Desktop\\final project\\CBIS-DDSM\\calc\\YOLO model\\CBIS_YOLO_PROJECT_output\\yolov8s_optimized2\\labels.jpg... \n",
      "\u001b[34m\u001b[1moptimizer:\u001b[0m SGD(lr=0.001, momentum=0.937) with parameter groups 57 weight(decay=0.0), 64 weight(decay=0.0005), 63 bias(decay=0.0)\n",
      "Image sizes 800 train, 800 val\n",
      "Using 4 dataloader workers\n",
      "Logging results to \u001b[1mC:\\Users\\PC\\Desktop\\final project\\CBIS-DDSM\\calc\\YOLO model\\CBIS_YOLO_PROJECT_output\\yolov8s_optimized2\u001b[0m\n",
      "Starting training for 150 epochs...\n",
      "\n",
      "      Epoch    GPU_mem   box_loss   cls_loss   dfl_loss  Instances       Size\n"
     ]
    },
    {
     "name": "stderr",
     "output_type": "stream",
     "text": [
      "      1/150       1.5G      3.355      31.62      2.639         11        800: 100%|██████████| 75/75 [00:08<00:00,  8.95it/s]\n",
      "                 Class     Images  Instances      Box(P          R      mAP50  mAP50-95): 100%|██████████| 38/38 [00:03<00:00,  9.69it/s]\n"
     ]
    },
    {
     "name": "stdout",
     "output_type": "stream",
     "text": [
      "                   all        300        383    0.00546    0.00522   0.000516   0.000169\n",
      "\n",
      "      Epoch    GPU_mem   box_loss   cls_loss   dfl_loss  Instances       Size\n"
     ]
    },
    {
     "name": "stderr",
     "output_type": "stream",
     "text": [
      "      2/150      1.66G      3.194      6.164      2.617         10        800: 100%|██████████| 75/75 [00:07<00:00, 10.61it/s]\n",
      "                 Class     Images  Instances      Box(P          R      mAP50  mAP50-95): 100%|██████████| 38/38 [00:03<00:00, 12.09it/s]\n"
     ]
    },
    {
     "name": "stdout",
     "output_type": "stream",
     "text": [
      "                   all        300        383   0.000945      0.222   0.000786   0.000236\n",
      "\n",
      "      Epoch    GPU_mem   box_loss   cls_loss   dfl_loss  Instances       Size\n"
     ]
    },
    {
     "name": "stderr",
     "output_type": "stream",
     "text": [
      "      3/150      1.66G      3.181      4.729      2.561          5        800: 100%|██████████| 75/75 [00:06<00:00, 10.82it/s]\n",
      "                 Class     Images  Instances      Box(P          R      mAP50  mAP50-95): 100%|██████████| 38/38 [00:03<00:00, 12.25it/s]\n"
     ]
    },
    {
     "name": "stdout",
     "output_type": "stream",
     "text": [
      "                   all        300        383    0.00111      0.243   0.000784   0.000212\n",
      "\n",
      "      Epoch    GPU_mem   box_loss   cls_loss   dfl_loss  Instances       Size\n"
     ]
    },
    {
     "name": "stderr",
     "output_type": "stream",
     "text": [
      "      4/150      1.68G       3.29      4.332      2.607         12        800: 100%|██████████| 75/75 [00:06<00:00, 10.81it/s]\n",
      "                 Class     Images  Instances      Box(P          R      mAP50  mAP50-95): 100%|██████████| 38/38 [00:03<00:00, 12.25it/s]\n"
     ]
    },
    {
     "name": "stdout",
     "output_type": "stream",
     "text": [
      "                   all        300        383    0.00106      0.149   0.000787   0.000253\n",
      "\n",
      "      Epoch    GPU_mem   box_loss   cls_loss   dfl_loss  Instances       Size\n"
     ]
    },
    {
     "name": "stderr",
     "output_type": "stream",
     "text": [
      "      5/150      1.68G      3.022      4.099      2.431         17        800: 100%|██████████| 75/75 [00:06<00:00, 10.76it/s]\n",
      "                 Class     Images  Instances      Box(P          R      mAP50  mAP50-95): 100%|██████████| 38/38 [00:03<00:00, 12.03it/s]\n"
     ]
    },
    {
     "name": "stdout",
     "output_type": "stream",
     "text": [
      "                   all        300        383    0.00206      0.285    0.00402    0.00101\n",
      "\n",
      "      Epoch    GPU_mem   box_loss   cls_loss   dfl_loss  Instances       Size\n"
     ]
    },
    {
     "name": "stderr",
     "output_type": "stream",
     "text": [
      "      6/150      1.68G      3.101       3.95      2.448         11        800: 100%|██████████| 75/75 [00:06<00:00, 10.89it/s]\n",
      "                 Class     Images  Instances      Box(P          R      mAP50  mAP50-95): 100%|██████████| 38/38 [00:03<00:00, 12.26it/s]\n"
     ]
    },
    {
     "name": "stdout",
     "output_type": "stream",
     "text": [
      "                   all        300        383     0.0471     0.0157       0.01    0.00247\n",
      "\n",
      "      Epoch    GPU_mem   box_loss   cls_loss   dfl_loss  Instances       Size\n"
     ]
    },
    {
     "name": "stderr",
     "output_type": "stream",
     "text": [
      "      7/150      1.68G      2.942      3.931      2.356          4        800: 100%|██████████| 75/75 [00:06<00:00, 10.86it/s]\n",
      "                 Class     Images  Instances      Box(P          R      mAP50  mAP50-95): 100%|██████████| 38/38 [00:03<00:00, 12.52it/s]\n"
     ]
    },
    {
     "name": "stdout",
     "output_type": "stream",
     "text": [
      "                   all        300        383     0.0924     0.0311     0.0175      0.005\n",
      "\n",
      "      Epoch    GPU_mem   box_loss   cls_loss   dfl_loss  Instances       Size\n"
     ]
    },
    {
     "name": "stderr",
     "output_type": "stream",
     "text": [
      "      8/150      1.68G      2.856      3.775       2.22         14        800: 100%|██████████| 75/75 [00:06<00:00, 10.80it/s]\n",
      "                 Class     Images  Instances      Box(P          R      mAP50  mAP50-95): 100%|██████████| 38/38 [00:03<00:00, 12.17it/s]\n"
     ]
    },
    {
     "name": "stdout",
     "output_type": "stream",
     "text": [
      "                   all        300        383     0.0806     0.0548     0.0181    0.00559\n",
      "\n",
      "      Epoch    GPU_mem   box_loss   cls_loss   dfl_loss  Instances       Size\n"
     ]
    },
    {
     "name": "stderr",
     "output_type": "stream",
     "text": [
      "      9/150      1.68G      2.826      3.707      2.215          6        800: 100%|██████████| 75/75 [00:06<00:00, 10.78it/s]\n",
      "                 Class     Images  Instances      Box(P          R      mAP50  mAP50-95): 100%|██████████| 38/38 [00:03<00:00, 12.36it/s]\n"
     ]
    },
    {
     "name": "stdout",
     "output_type": "stream",
     "text": [
      "                   all        300        383     0.0837     0.0392     0.0238    0.00756\n",
      "\n",
      "      Epoch    GPU_mem   box_loss   cls_loss   dfl_loss  Instances       Size\n"
     ]
    },
    {
     "name": "stderr",
     "output_type": "stream",
     "text": [
      "     10/150      1.68G      2.794      3.624      2.137         13        800: 100%|██████████| 75/75 [00:06<00:00, 10.77it/s]\n",
      "                 Class     Images  Instances      Box(P          R      mAP50  mAP50-95): 100%|██████████| 38/38 [00:03<00:00, 12.59it/s]\n"
     ]
    },
    {
     "name": "stdout",
     "output_type": "stream",
     "text": [
      "                   all        300        383      0.138     0.0444     0.0331     0.0097\n",
      "\n",
      "      Epoch    GPU_mem   box_loss   cls_loss   dfl_loss  Instances       Size\n"
     ]
    },
    {
     "name": "stderr",
     "output_type": "stream",
     "text": [
      "     11/150      1.68G      2.667      3.507      2.075          6        800: 100%|██████████| 75/75 [00:06<00:00, 10.91it/s]\n",
      "                 Class     Images  Instances      Box(P          R      mAP50  mAP50-95): 100%|██████████| 38/38 [00:03<00:00, 12.29it/s]\n"
     ]
    },
    {
     "name": "stdout",
     "output_type": "stream",
     "text": [
      "                   all        300        383     0.0979      0.116     0.0334     0.0121\n",
      "\n",
      "      Epoch    GPU_mem   box_loss   cls_loss   dfl_loss  Instances       Size\n"
     ]
    },
    {
     "name": "stderr",
     "output_type": "stream",
     "text": [
      "     12/150      1.68G      2.653      3.577      2.136          8        800: 100%|██████████| 75/75 [00:06<00:00, 10.87it/s]\n",
      "                 Class     Images  Instances      Box(P          R      mAP50  mAP50-95): 100%|██████████| 38/38 [00:03<00:00, 12.62it/s]\n"
     ]
    },
    {
     "name": "stdout",
     "output_type": "stream",
     "text": [
      "                   all        300        383      0.138     0.0888     0.0424     0.0152\n",
      "\n",
      "      Epoch    GPU_mem   box_loss   cls_loss   dfl_loss  Instances       Size\n"
     ]
    },
    {
     "name": "stderr",
     "output_type": "stream",
     "text": [
      "     13/150      1.68G      2.637      3.455      2.085          7        800: 100%|██████████| 75/75 [00:06<00:00, 10.78it/s]\n",
      "                 Class     Images  Instances      Box(P          R      mAP50  mAP50-95): 100%|██████████| 38/38 [00:03<00:00, 12.50it/s]\n"
     ]
    },
    {
     "name": "stdout",
     "output_type": "stream",
     "text": [
      "                   all        300        383      0.129      0.047     0.0416     0.0152\n",
      "\n",
      "      Epoch    GPU_mem   box_loss   cls_loss   dfl_loss  Instances       Size\n"
     ]
    },
    {
     "name": "stderr",
     "output_type": "stream",
     "text": [
      "     14/150      1.68G      2.543      3.447      2.055          4        800: 100%|██████████| 75/75 [00:06<00:00, 10.82it/s]\n",
      "                 Class     Images  Instances      Box(P          R      mAP50  mAP50-95): 100%|██████████| 38/38 [00:03<00:00, 12.48it/s]\n"
     ]
    },
    {
     "name": "stdout",
     "output_type": "stream",
     "text": [
      "                   all        300        383      0.104      0.125     0.0443     0.0155\n",
      "\n",
      "      Epoch    GPU_mem   box_loss   cls_loss   dfl_loss  Instances       Size\n"
     ]
    },
    {
     "name": "stderr",
     "output_type": "stream",
     "text": [
      "     15/150      1.71G      2.453      3.365      1.987         12        800: 100%|██████████| 75/75 [00:07<00:00, 10.70it/s]\n",
      "                 Class     Images  Instances      Box(P          R      mAP50  mAP50-95): 100%|██████████| 38/38 [00:03<00:00, 12.35it/s]\n"
     ]
    },
    {
     "name": "stdout",
     "output_type": "stream",
     "text": [
      "                   all        300        383      0.117      0.117     0.0501     0.0172\n",
      "\n",
      "      Epoch    GPU_mem   box_loss   cls_loss   dfl_loss  Instances       Size\n"
     ]
    },
    {
     "name": "stderr",
     "output_type": "stream",
     "text": [
      "     16/150      1.71G       2.44      3.364      1.995          8        800: 100%|██████████| 75/75 [00:06<00:00, 10.91it/s]\n",
      "                 Class     Images  Instances      Box(P          R      mAP50  mAP50-95): 100%|██████████| 38/38 [00:03<00:00, 12.43it/s]\n"
     ]
    },
    {
     "name": "stdout",
     "output_type": "stream",
     "text": [
      "                   all        300        383      0.134      0.133     0.0647      0.021\n",
      "\n",
      "      Epoch    GPU_mem   box_loss   cls_loss   dfl_loss  Instances       Size\n"
     ]
    },
    {
     "name": "stderr",
     "output_type": "stream",
     "text": [
      "     17/150      1.71G      2.493      3.214       1.96          6        800: 100%|██████████| 75/75 [00:06<00:00, 10.82it/s]\n",
      "                 Class     Images  Instances      Box(P          R      mAP50  mAP50-95): 100%|██████████| 38/38 [00:03<00:00, 12.45it/s]\n"
     ]
    },
    {
     "name": "stdout",
     "output_type": "stream",
     "text": [
      "                   all        300        383      0.139      0.118     0.0661     0.0231\n",
      "\n",
      "      Epoch    GPU_mem   box_loss   cls_loss   dfl_loss  Instances       Size\n"
     ]
    },
    {
     "name": "stderr",
     "output_type": "stream",
     "text": [
      "     18/150      1.71G      2.414      3.355      1.952         10        800: 100%|██████████| 75/75 [00:07<00:00, 10.70it/s]\n",
      "                 Class     Images  Instances      Box(P          R      mAP50  mAP50-95): 100%|██████████| 38/38 [00:03<00:00, 12.28it/s]\n"
     ]
    },
    {
     "name": "stdout",
     "output_type": "stream",
     "text": [
      "                   all        300        383      0.152      0.164     0.0682     0.0265\n",
      "\n",
      "      Epoch    GPU_mem   box_loss   cls_loss   dfl_loss  Instances       Size\n"
     ]
    },
    {
     "name": "stderr",
     "output_type": "stream",
     "text": [
      "     19/150      1.71G      2.467      3.267      1.931         13        800: 100%|██████████| 75/75 [00:07<00:00, 10.69it/s]\n",
      "                 Class     Images  Instances      Box(P          R      mAP50  mAP50-95): 100%|██████████| 38/38 [00:03<00:00, 12.23it/s]\n"
     ]
    },
    {
     "name": "stdout",
     "output_type": "stream",
     "text": [
      "                   all        300        383      0.147       0.17     0.0673     0.0258\n",
      "\n",
      "      Epoch    GPU_mem   box_loss   cls_loss   dfl_loss  Instances       Size\n"
     ]
    },
    {
     "name": "stderr",
     "output_type": "stream",
     "text": [
      "     20/150      1.71G      2.445      3.282       1.96          5        800: 100%|██████████| 75/75 [00:06<00:00, 10.79it/s]\n",
      "                 Class     Images  Instances      Box(P          R      mAP50  mAP50-95): 100%|██████████| 38/38 [00:03<00:00, 12.17it/s]\n"
     ]
    },
    {
     "name": "stdout",
     "output_type": "stream",
     "text": [
      "                   all        300        383      0.194      0.135      0.085     0.0333\n",
      "\n",
      "      Epoch    GPU_mem   box_loss   cls_loss   dfl_loss  Instances       Size\n"
     ]
    },
    {
     "name": "stderr",
     "output_type": "stream",
     "text": [
      "     21/150      1.71G      2.435      3.205       1.94          6        800: 100%|██████████| 75/75 [00:06<00:00, 10.83it/s]\n",
      "                 Class     Images  Instances      Box(P          R      mAP50  mAP50-95): 100%|██████████| 38/38 [00:03<00:00, 12.22it/s]\n"
     ]
    },
    {
     "name": "stdout",
     "output_type": "stream",
     "text": [
      "                   all        300        383      0.168      0.156     0.0834      0.031\n",
      "\n",
      "      Epoch    GPU_mem   box_loss   cls_loss   dfl_loss  Instances       Size\n"
     ]
    },
    {
     "name": "stderr",
     "output_type": "stream",
     "text": [
      "     22/150      1.71G      2.269       3.12       1.86          9        800: 100%|██████████| 75/75 [00:06<00:00, 10.74it/s]\n",
      "                 Class     Images  Instances      Box(P          R      mAP50  mAP50-95): 100%|██████████| 38/38 [00:03<00:00, 12.43it/s]\n"
     ]
    },
    {
     "name": "stdout",
     "output_type": "stream",
     "text": [
      "                   all        300        383      0.184      0.175      0.103     0.0417\n",
      "\n",
      "      Epoch    GPU_mem   box_loss   cls_loss   dfl_loss  Instances       Size\n"
     ]
    },
    {
     "name": "stderr",
     "output_type": "stream",
     "text": [
      "     23/150      1.71G       2.32      3.177      1.899          7        800: 100%|██████████| 75/75 [00:06<00:00, 10.87it/s]\n",
      "                 Class     Images  Instances      Box(P          R      mAP50  mAP50-95): 100%|██████████| 38/38 [00:03<00:00, 12.20it/s]\n"
     ]
    },
    {
     "name": "stdout",
     "output_type": "stream",
     "text": [
      "                   all        300        383      0.216      0.144      0.101     0.0394\n",
      "\n",
      "      Epoch    GPU_mem   box_loss   cls_loss   dfl_loss  Instances       Size\n"
     ]
    },
    {
     "name": "stderr",
     "output_type": "stream",
     "text": [
      "     24/150      1.71G      2.365      3.158      1.872         10        800: 100%|██████████| 75/75 [00:07<00:00, 10.62it/s]\n",
      "                 Class     Images  Instances      Box(P          R      mAP50  mAP50-95): 100%|██████████| 38/38 [00:03<00:00, 11.98it/s]\n"
     ]
    },
    {
     "name": "stdout",
     "output_type": "stream",
     "text": [
      "                   all        300        383      0.184      0.159      0.102     0.0395\n",
      "\n",
      "      Epoch    GPU_mem   box_loss   cls_loss   dfl_loss  Instances       Size\n"
     ]
    },
    {
     "name": "stderr",
     "output_type": "stream",
     "text": [
      "     25/150      1.71G      2.273      3.083      1.811         11        800: 100%|██████████| 75/75 [00:07<00:00, 10.57it/s]\n",
      "                 Class     Images  Instances      Box(P          R      mAP50  mAP50-95): 100%|██████████| 38/38 [00:03<00:00, 12.16it/s]\n"
     ]
    },
    {
     "name": "stdout",
     "output_type": "stream",
     "text": [
      "                   all        300        383      0.192      0.204      0.115     0.0465\n",
      "\n",
      "      Epoch    GPU_mem   box_loss   cls_loss   dfl_loss  Instances       Size\n"
     ]
    },
    {
     "name": "stderr",
     "output_type": "stream",
     "text": [
      "     26/150      1.71G      2.333      3.075      1.831          9        800: 100%|██████████| 75/75 [00:06<00:00, 10.96it/s]\n",
      "                 Class     Images  Instances      Box(P          R      mAP50  mAP50-95): 100%|██████████| 38/38 [00:03<00:00, 12.47it/s]\n"
     ]
    },
    {
     "name": "stdout",
     "output_type": "stream",
     "text": [
      "                   all        300        383      0.197      0.217       0.13     0.0562\n",
      "\n",
      "      Epoch    GPU_mem   box_loss   cls_loss   dfl_loss  Instances       Size\n"
     ]
    },
    {
     "name": "stderr",
     "output_type": "stream",
     "text": [
      "     27/150      1.71G      2.248      3.015      1.804         10        800: 100%|██████████| 75/75 [00:06<00:00, 10.88it/s]\n",
      "                 Class     Images  Instances      Box(P          R      mAP50  mAP50-95): 100%|██████████| 38/38 [00:03<00:00, 12.25it/s]\n"
     ]
    },
    {
     "name": "stdout",
     "output_type": "stream",
     "text": [
      "                   all        300        383      0.239      0.188      0.138     0.0574\n",
      "\n",
      "      Epoch    GPU_mem   box_loss   cls_loss   dfl_loss  Instances       Size\n"
     ]
    },
    {
     "name": "stderr",
     "output_type": "stream",
     "text": [
      "     28/150      1.71G      2.288      3.045      1.812          9        800: 100%|██████████| 75/75 [00:06<00:00, 10.96it/s]\n",
      "                 Class     Images  Instances      Box(P          R      mAP50  mAP50-95): 100%|██████████| 38/38 [00:03<00:00, 12.48it/s]\n"
     ]
    },
    {
     "name": "stdout",
     "output_type": "stream",
     "text": [
      "                   all        300        383      0.168      0.214      0.109     0.0476\n",
      "\n",
      "      Epoch    GPU_mem   box_loss   cls_loss   dfl_loss  Instances       Size\n"
     ]
    },
    {
     "name": "stderr",
     "output_type": "stream",
     "text": [
      "     29/150      1.71G      2.249      3.023      1.795         14        800: 100%|██████████| 75/75 [00:07<00:00, 10.67it/s]\n",
      "                 Class     Images  Instances      Box(P          R      mAP50  mAP50-95): 100%|██████████| 38/38 [00:03<00:00, 12.62it/s]\n"
     ]
    },
    {
     "name": "stdout",
     "output_type": "stream",
     "text": [
      "                   all        300        383      0.242      0.183      0.152     0.0631\n",
      "\n",
      "      Epoch    GPU_mem   box_loss   cls_loss   dfl_loss  Instances       Size\n"
     ]
    },
    {
     "name": "stderr",
     "output_type": "stream",
     "text": [
      "     30/150      1.71G      2.209      2.951      1.784         22        800: 100%|██████████| 75/75 [00:06<00:00, 10.85it/s]\n",
      "                 Class     Images  Instances      Box(P          R      mAP50  mAP50-95): 100%|██████████| 38/38 [00:03<00:00, 12.07it/s]\n"
     ]
    },
    {
     "name": "stdout",
     "output_type": "stream",
     "text": [
      "                   all        300        383      0.229      0.185      0.135     0.0565\n",
      "\n",
      "      Epoch    GPU_mem   box_loss   cls_loss   dfl_loss  Instances       Size\n"
     ]
    },
    {
     "name": "stderr",
     "output_type": "stream",
     "text": [
      "     31/150      1.73G      2.179       2.81      1.686          7        800: 100%|██████████| 75/75 [00:06<00:00, 10.79it/s]\n",
      "                 Class     Images  Instances      Box(P          R      mAP50  mAP50-95): 100%|██████████| 38/38 [00:03<00:00, 12.26it/s]\n"
     ]
    },
    {
     "name": "stdout",
     "output_type": "stream",
     "text": [
      "                   all        300        383       0.21      0.214      0.138      0.061\n",
      "\n",
      "      Epoch    GPU_mem   box_loss   cls_loss   dfl_loss  Instances       Size\n"
     ]
    },
    {
     "name": "stderr",
     "output_type": "stream",
     "text": [
      "     32/150      1.76G      2.283      3.035      1.771         10        800: 100%|██████████| 75/75 [00:06<00:00, 10.74it/s]\n",
      "                 Class     Images  Instances      Box(P          R      mAP50  mAP50-95): 100%|██████████| 38/38 [00:03<00:00, 12.27it/s]\n"
     ]
    },
    {
     "name": "stdout",
     "output_type": "stream",
     "text": [
      "                   all        300        383      0.259       0.23      0.146     0.0583\n",
      "\n",
      "      Epoch    GPU_mem   box_loss   cls_loss   dfl_loss  Instances       Size\n"
     ]
    },
    {
     "name": "stderr",
     "output_type": "stream",
     "text": [
      "     33/150      1.76G       2.21      2.874      1.742         12        800: 100%|██████████| 75/75 [00:06<00:00, 10.73it/s]\n",
      "                 Class     Images  Instances      Box(P          R      mAP50  mAP50-95): 100%|██████████| 38/38 [00:03<00:00, 12.53it/s]\n"
     ]
    },
    {
     "name": "stdout",
     "output_type": "stream",
     "text": [
      "                   all        300        383      0.275      0.248      0.174     0.0726\n",
      "\n",
      "      Epoch    GPU_mem   box_loss   cls_loss   dfl_loss  Instances       Size\n"
     ]
    },
    {
     "name": "stderr",
     "output_type": "stream",
     "text": [
      "     34/150      1.76G      2.167      2.915      1.747          9        800: 100%|██████████| 75/75 [00:06<00:00, 10.86it/s]\n",
      "                 Class     Images  Instances      Box(P          R      mAP50  mAP50-95): 100%|██████████| 38/38 [00:03<00:00, 12.26it/s]\n"
     ]
    },
    {
     "name": "stdout",
     "output_type": "stream",
     "text": [
      "                   all        300        383      0.308      0.221      0.189     0.0842\n",
      "\n",
      "      Epoch    GPU_mem   box_loss   cls_loss   dfl_loss  Instances       Size\n"
     ]
    },
    {
     "name": "stderr",
     "output_type": "stream",
     "text": [
      "     35/150      1.76G      2.251      2.938      1.814         12        800: 100%|██████████| 75/75 [00:06<00:00, 10.78it/s]\n",
      "                 Class     Images  Instances      Box(P          R      mAP50  mAP50-95): 100%|██████████| 38/38 [00:03<00:00, 12.12it/s]\n"
     ]
    },
    {
     "name": "stdout",
     "output_type": "stream",
     "text": [
      "                   all        300        383      0.303      0.219      0.199     0.0921\n",
      "\n",
      "      Epoch    GPU_mem   box_loss   cls_loss   dfl_loss  Instances       Size\n"
     ]
    },
    {
     "name": "stderr",
     "output_type": "stream",
     "text": [
      "     36/150      1.76G      2.152      2.847      1.731          6        800: 100%|██████████| 75/75 [00:06<00:00, 10.75it/s]\n",
      "                 Class     Images  Instances      Box(P          R      mAP50  mAP50-95): 100%|██████████| 38/38 [00:03<00:00, 12.29it/s]\n"
     ]
    },
    {
     "name": "stdout",
     "output_type": "stream",
     "text": [
      "                   all        300        383      0.383      0.217      0.211     0.0973\n",
      "\n",
      "      Epoch    GPU_mem   box_loss   cls_loss   dfl_loss  Instances       Size\n"
     ]
    },
    {
     "name": "stderr",
     "output_type": "stream",
     "text": [
      "     37/150      1.76G      2.148      2.841      1.716         11        800: 100%|██████████| 75/75 [00:06<00:00, 10.83it/s]\n",
      "                 Class     Images  Instances      Box(P          R      mAP50  mAP50-95): 100%|██████████| 38/38 [00:03<00:00, 12.51it/s]"
     ]
    },
    {
     "name": "stdout",
     "output_type": "stream",
     "text": [
      "                   all        300        383      0.349      0.214      0.212     0.0983\n"
     ]
    },
    {
     "name": "stderr",
     "output_type": "stream",
     "text": [
      "\n"
     ]
    },
    {
     "name": "stdout",
     "output_type": "stream",
     "text": [
      "\n",
      "      Epoch    GPU_mem   box_loss   cls_loss   dfl_loss  Instances       Size\n"
     ]
    },
    {
     "name": "stderr",
     "output_type": "stream",
     "text": [
      "     38/150      1.76G       2.04      2.748       1.66          6        800: 100%|██████████| 75/75 [00:06<00:00, 10.84it/s]\n",
      "                 Class     Images  Instances      Box(P          R      mAP50  mAP50-95): 100%|██████████| 38/38 [00:03<00:00, 12.37it/s]\n"
     ]
    },
    {
     "name": "stdout",
     "output_type": "stream",
     "text": [
      "                   all        300        383      0.317      0.243      0.216      0.105\n",
      "\n",
      "      Epoch    GPU_mem   box_loss   cls_loss   dfl_loss  Instances       Size\n"
     ]
    },
    {
     "name": "stderr",
     "output_type": "stream",
     "text": [
      "     39/150      1.76G      2.108      2.683      1.718          7        800: 100%|██████████| 75/75 [00:06<00:00, 10.89it/s]\n",
      "                 Class     Images  Instances      Box(P          R      mAP50  mAP50-95): 100%|██████████| 38/38 [00:03<00:00, 12.50it/s]\n"
     ]
    },
    {
     "name": "stdout",
     "output_type": "stream",
     "text": [
      "                   all        300        383      0.372      0.245      0.239       0.12\n",
      "\n",
      "      Epoch    GPU_mem   box_loss   cls_loss   dfl_loss  Instances       Size\n"
     ]
    },
    {
     "name": "stderr",
     "output_type": "stream",
     "text": [
      "     40/150      1.76G      2.143      2.729      1.723         10        800: 100%|██████████| 75/75 [00:06<00:00, 10.72it/s]\n",
      "                 Class     Images  Instances      Box(P          R      mAP50  mAP50-95): 100%|██████████| 38/38 [00:03<00:00, 12.32it/s]"
     ]
    },
    {
     "name": "stdout",
     "output_type": "stream",
     "text": [
      "                   all        300        383      0.348      0.235      0.216      0.106\n"
     ]
    },
    {
     "name": "stderr",
     "output_type": "stream",
     "text": [
      "\n"
     ]
    },
    {
     "name": "stdout",
     "output_type": "stream",
     "text": [
      "\n",
      "      Epoch    GPU_mem   box_loss   cls_loss   dfl_loss  Instances       Size\n"
     ]
    },
    {
     "name": "stderr",
     "output_type": "stream",
     "text": [
      "     41/150      1.76G      2.164      2.674      1.723          9        800: 100%|██████████| 75/75 [00:07<00:00, 10.70it/s]\n",
      "                 Class     Images  Instances      Box(P          R      mAP50  mAP50-95): 100%|██████████| 38/38 [00:03<00:00, 12.45it/s]\n"
     ]
    },
    {
     "name": "stdout",
     "output_type": "stream",
     "text": [
      "                   all        300        383      0.337      0.251      0.248       0.12\n",
      "\n",
      "      Epoch    GPU_mem   box_loss   cls_loss   dfl_loss  Instances       Size\n"
     ]
    },
    {
     "name": "stderr",
     "output_type": "stream",
     "text": [
      "     42/150      1.76G      2.059      2.649      1.675          6        800: 100%|██████████| 75/75 [00:06<00:00, 10.82it/s]\n",
      "                 Class     Images  Instances      Box(P          R      mAP50  mAP50-95): 100%|██████████| 38/38 [00:03<00:00, 12.26it/s]"
     ]
    },
    {
     "name": "stdout",
     "output_type": "stream",
     "text": [
      "                   all        300        383      0.346      0.274      0.236      0.119\n"
     ]
    },
    {
     "name": "stderr",
     "output_type": "stream",
     "text": [
      "\n"
     ]
    },
    {
     "name": "stdout",
     "output_type": "stream",
     "text": [
      "\n",
      "      Epoch    GPU_mem   box_loss   cls_loss   dfl_loss  Instances       Size\n"
     ]
    },
    {
     "name": "stderr",
     "output_type": "stream",
     "text": [
      "     43/150      1.76G       2.08      2.691      1.657          7        800: 100%|██████████| 75/75 [00:06<00:00, 10.74it/s]\n",
      "                 Class     Images  Instances      Box(P          R      mAP50  mAP50-95): 100%|██████████| 38/38 [00:03<00:00, 12.40it/s]\n"
     ]
    },
    {
     "name": "stdout",
     "output_type": "stream",
     "text": [
      "                   all        300        383      0.326      0.257      0.234      0.118\n",
      "\n",
      "      Epoch    GPU_mem   box_loss   cls_loss   dfl_loss  Instances       Size\n"
     ]
    },
    {
     "name": "stderr",
     "output_type": "stream",
     "text": [
      "     44/150      1.76G      2.018      2.565       1.62         11        800: 100%|██████████| 75/75 [00:06<00:00, 10.72it/s]\n",
      "                 Class     Images  Instances      Box(P          R      mAP50  mAP50-95): 100%|██████████| 38/38 [00:03<00:00, 12.51it/s]"
     ]
    },
    {
     "name": "stdout",
     "output_type": "stream",
     "text": [
      "                   all        300        383      0.378      0.269      0.248      0.121\n"
     ]
    },
    {
     "name": "stderr",
     "output_type": "stream",
     "text": [
      "\n"
     ]
    },
    {
     "name": "stdout",
     "output_type": "stream",
     "text": [
      "\n",
      "      Epoch    GPU_mem   box_loss   cls_loss   dfl_loss  Instances       Size\n"
     ]
    },
    {
     "name": "stderr",
     "output_type": "stream",
     "text": [
      "     45/150      1.76G      2.077      2.626      1.652          3        800: 100%|██████████| 75/75 [00:07<00:00, 10.60it/s]\n",
      "                 Class     Images  Instances      Box(P          R      mAP50  mAP50-95): 100%|██████████| 38/38 [00:03<00:00, 12.34it/s]"
     ]
    },
    {
     "name": "stdout",
     "output_type": "stream",
     "text": [
      "                   all        300        383      0.355      0.245      0.248      0.127\n"
     ]
    },
    {
     "name": "stderr",
     "output_type": "stream",
     "text": [
      "\n"
     ]
    },
    {
     "name": "stdout",
     "output_type": "stream",
     "text": [
      "\n",
      "      Epoch    GPU_mem   box_loss   cls_loss   dfl_loss  Instances       Size\n"
     ]
    },
    {
     "name": "stderr",
     "output_type": "stream",
     "text": [
      "     46/150      1.76G      2.065      2.505      1.637          8        800: 100%|██████████| 75/75 [00:06<00:00, 10.81it/s]\n",
      "                 Class     Images  Instances      Box(P          R      mAP50  mAP50-95): 100%|██████████| 38/38 [00:03<00:00, 12.28it/s]"
     ]
    },
    {
     "name": "stdout",
     "output_type": "stream",
     "text": [
      "                   all        300        383      0.364       0.29      0.259      0.134\n"
     ]
    },
    {
     "name": "stderr",
     "output_type": "stream",
     "text": [
      "\n"
     ]
    },
    {
     "name": "stdout",
     "output_type": "stream",
     "text": [
      "\n",
      "      Epoch    GPU_mem   box_loss   cls_loss   dfl_loss  Instances       Size\n"
     ]
    },
    {
     "name": "stderr",
     "output_type": "stream",
     "text": [
      "     47/150      1.76G      2.013      2.593      1.634          6        800: 100%|██████████| 75/75 [00:06<00:00, 10.82it/s]\n",
      "                 Class     Images  Instances      Box(P          R      mAP50  mAP50-95): 100%|██████████| 38/38 [00:03<00:00, 12.38it/s]\n"
     ]
    },
    {
     "name": "stdout",
     "output_type": "stream",
     "text": [
      "                   all        300        383      0.383      0.295      0.296      0.154\n",
      "\n",
      "      Epoch    GPU_mem   box_loss   cls_loss   dfl_loss  Instances       Size\n"
     ]
    },
    {
     "name": "stderr",
     "output_type": "stream",
     "text": [
      "     48/150      1.76G      2.014       2.55      1.648         17        800: 100%|██████████| 75/75 [00:07<00:00, 10.69it/s]\n",
      "                 Class     Images  Instances      Box(P          R      mAP50  mAP50-95): 100%|██████████| 38/38 [00:03<00:00, 12.23it/s]"
     ]
    },
    {
     "name": "stdout",
     "output_type": "stream",
     "text": [
      "                   all        300        383      0.462      0.251      0.279       0.14\n"
     ]
    },
    {
     "name": "stderr",
     "output_type": "stream",
     "text": [
      "\n"
     ]
    },
    {
     "name": "stdout",
     "output_type": "stream",
     "text": [
      "\n",
      "      Epoch    GPU_mem   box_loss   cls_loss   dfl_loss  Instances       Size\n"
     ]
    },
    {
     "name": "stderr",
     "output_type": "stream",
     "text": [
      "     49/150      1.76G      2.052      2.557      1.658          5        800: 100%|██████████| 75/75 [00:06<00:00, 10.78it/s]\n",
      "                 Class     Images  Instances      Box(P          R      mAP50  mAP50-95): 100%|██████████| 38/38 [00:03<00:00, 12.32it/s]"
     ]
    },
    {
     "name": "stdout",
     "output_type": "stream",
     "text": [
      "                   all        300        383      0.401      0.261      0.294      0.152\n"
     ]
    },
    {
     "name": "stderr",
     "output_type": "stream",
     "text": [
      "\n"
     ]
    },
    {
     "name": "stdout",
     "output_type": "stream",
     "text": [
      "\n",
      "      Epoch    GPU_mem   box_loss   cls_loss   dfl_loss  Instances       Size\n"
     ]
    },
    {
     "name": "stderr",
     "output_type": "stream",
     "text": [
      "     50/150      1.76G      2.098      2.663      1.684          8        800: 100%|██████████| 75/75 [00:06<00:00, 10.73it/s]\n",
      "                 Class     Images  Instances      Box(P          R      mAP50  mAP50-95): 100%|██████████| 38/38 [00:03<00:00, 12.40it/s]"
     ]
    },
    {
     "name": "stdout",
     "output_type": "stream",
     "text": [
      "                   all        300        383      0.479      0.276      0.328      0.174\n"
     ]
    },
    {
     "name": "stderr",
     "output_type": "stream",
     "text": [
      "\n"
     ]
    },
    {
     "name": "stdout",
     "output_type": "stream",
     "text": [
      "\n",
      "      Epoch    GPU_mem   box_loss   cls_loss   dfl_loss  Instances       Size\n"
     ]
    },
    {
     "name": "stderr",
     "output_type": "stream",
     "text": [
      "     51/150      1.76G       2.04      2.499      1.642         11        800: 100%|██████████| 75/75 [00:06<00:00, 10.75it/s]\n",
      "                 Class     Images  Instances      Box(P          R      mAP50  mAP50-95): 100%|██████████| 38/38 [00:03<00:00, 12.29it/s]"
     ]
    },
    {
     "name": "stdout",
     "output_type": "stream",
     "text": [
      "                   all        300        383      0.478      0.321      0.343       0.17\n"
     ]
    },
    {
     "name": "stderr",
     "output_type": "stream",
     "text": [
      "\n"
     ]
    },
    {
     "name": "stdout",
     "output_type": "stream",
     "text": [
      "\n",
      "      Epoch    GPU_mem   box_loss   cls_loss   dfl_loss  Instances       Size\n"
     ]
    },
    {
     "name": "stderr",
     "output_type": "stream",
     "text": [
      "     52/150      1.76G       1.99      2.426      1.621          5        800: 100%|██████████| 75/75 [00:06<00:00, 10.75it/s]\n",
      "                 Class     Images  Instances      Box(P          R      mAP50  mAP50-95): 100%|██████████| 38/38 [00:03<00:00, 12.26it/s]"
     ]
    },
    {
     "name": "stdout",
     "output_type": "stream",
     "text": [
      "                   all        300        383      0.461      0.326      0.319      0.161\n"
     ]
    },
    {
     "name": "stderr",
     "output_type": "stream",
     "text": [
      "\n"
     ]
    },
    {
     "name": "stdout",
     "output_type": "stream",
     "text": [
      "\n",
      "      Epoch    GPU_mem   box_loss   cls_loss   dfl_loss  Instances       Size\n"
     ]
    },
    {
     "name": "stderr",
     "output_type": "stream",
     "text": [
      "     53/150      1.76G      1.983      2.384      1.614          8        800: 100%|██████████| 75/75 [00:06<00:00, 10.88it/s]\n",
      "                 Class     Images  Instances      Box(P          R      mAP50  mAP50-95): 100%|██████████| 38/38 [00:03<00:00, 12.16it/s]"
     ]
    },
    {
     "name": "stdout",
     "output_type": "stream",
     "text": [
      "                   all        300        383      0.444      0.307      0.303      0.158\n"
     ]
    },
    {
     "name": "stderr",
     "output_type": "stream",
     "text": [
      "\n"
     ]
    },
    {
     "name": "stdout",
     "output_type": "stream",
     "text": [
      "\n",
      "      Epoch    GPU_mem   box_loss   cls_loss   dfl_loss  Instances       Size\n"
     ]
    },
    {
     "name": "stderr",
     "output_type": "stream",
     "text": [
      "     54/150      1.76G      1.965      2.424      1.597         10        800: 100%|██████████| 75/75 [00:06<00:00, 10.73it/s]\n",
      "                 Class     Images  Instances      Box(P          R      mAP50  mAP50-95): 100%|██████████| 38/38 [00:03<00:00, 12.16it/s]"
     ]
    },
    {
     "name": "stdout",
     "output_type": "stream",
     "text": [
      "                   all        300        383      0.426      0.337      0.331      0.177\n"
     ]
    },
    {
     "name": "stderr",
     "output_type": "stream",
     "text": [
      "\n"
     ]
    },
    {
     "name": "stdout",
     "output_type": "stream",
     "text": [
      "\n",
      "      Epoch    GPU_mem   box_loss   cls_loss   dfl_loss  Instances       Size\n"
     ]
    },
    {
     "name": "stderr",
     "output_type": "stream",
     "text": [
      "     55/150      1.76G      1.933      2.315      1.581          8        800: 100%|██████████| 75/75 [00:07<00:00, 10.67it/s]\n",
      "                 Class     Images  Instances      Box(P          R      mAP50  mAP50-95): 100%|██████████| 38/38 [00:03<00:00, 11.88it/s]\n"
     ]
    },
    {
     "name": "stdout",
     "output_type": "stream",
     "text": [
      "                   all        300        383      0.456      0.347      0.346      0.179\n",
      "\n",
      "      Epoch    GPU_mem   box_loss   cls_loss   dfl_loss  Instances       Size\n"
     ]
    },
    {
     "name": "stderr",
     "output_type": "stream",
     "text": [
      "     56/150      1.76G      1.965      2.344      1.576         11        800: 100%|██████████| 75/75 [00:06<00:00, 10.84it/s]\n",
      "                 Class     Images  Instances      Box(P          R      mAP50  mAP50-95): 100%|██████████| 38/38 [00:03<00:00, 12.25it/s]"
     ]
    },
    {
     "name": "stdout",
     "output_type": "stream",
     "text": [
      "                   all        300        383      0.416      0.347      0.314      0.168\n"
     ]
    },
    {
     "name": "stderr",
     "output_type": "stream",
     "text": [
      "\n"
     ]
    },
    {
     "name": "stdout",
     "output_type": "stream",
     "text": [
      "\n",
      "      Epoch    GPU_mem   box_loss   cls_loss   dfl_loss  Instances       Size\n"
     ]
    },
    {
     "name": "stderr",
     "output_type": "stream",
     "text": [
      "     57/150      1.76G      1.838      2.327      1.554          4        800: 100%|██████████| 75/75 [00:07<00:00, 10.61it/s]\n",
      "                 Class     Images  Instances      Box(P          R      mAP50  mAP50-95): 100%|██████████| 38/38 [00:03<00:00, 12.54it/s]"
     ]
    },
    {
     "name": "stdout",
     "output_type": "stream",
     "text": [
      "                   all        300        383      0.387      0.371      0.339      0.196\n"
     ]
    },
    {
     "name": "stderr",
     "output_type": "stream",
     "text": [
      "\n"
     ]
    },
    {
     "name": "stdout",
     "output_type": "stream",
     "text": [
      "\n",
      "      Epoch    GPU_mem   box_loss   cls_loss   dfl_loss  Instances       Size\n"
     ]
    },
    {
     "name": "stderr",
     "output_type": "stream",
     "text": [
      "     58/150      1.76G      1.959      2.503       1.61         11        800: 100%|██████████| 75/75 [00:06<00:00, 10.88it/s]\n",
      "                 Class     Images  Instances      Box(P          R      mAP50  mAP50-95): 100%|██████████| 38/38 [00:03<00:00, 12.44it/s]"
     ]
    },
    {
     "name": "stdout",
     "output_type": "stream",
     "text": [
      "                   all        300        383      0.533      0.334      0.393      0.216\n"
     ]
    },
    {
     "name": "stderr",
     "output_type": "stream",
     "text": [
      "\n"
     ]
    },
    {
     "name": "stdout",
     "output_type": "stream",
     "text": [
      "\n",
      "      Epoch    GPU_mem   box_loss   cls_loss   dfl_loss  Instances       Size\n"
     ]
    },
    {
     "name": "stderr",
     "output_type": "stream",
     "text": [
      "     59/150      1.76G      1.885      2.294      1.581          8        800: 100%|██████████| 75/75 [00:06<00:00, 10.92it/s]\n",
      "                 Class     Images  Instances      Box(P          R      mAP50  mAP50-95): 100%|██████████| 38/38 [00:03<00:00, 12.32it/s]"
     ]
    },
    {
     "name": "stdout",
     "output_type": "stream",
     "text": [
      "                   all        300        383      0.492      0.367      0.395      0.217\n"
     ]
    },
    {
     "name": "stderr",
     "output_type": "stream",
     "text": [
      "\n"
     ]
    },
    {
     "name": "stdout",
     "output_type": "stream",
     "text": [
      "\n",
      "      Epoch    GPU_mem   box_loss   cls_loss   dfl_loss  Instances       Size\n"
     ]
    },
    {
     "name": "stderr",
     "output_type": "stream",
     "text": [
      "     60/150      1.76G      1.922       2.33      1.562          5        800: 100%|██████████| 75/75 [00:06<00:00, 10.87it/s]\n",
      "                 Class     Images  Instances      Box(P          R      mAP50  mAP50-95): 100%|██████████| 38/38 [00:02<00:00, 12.83it/s]"
     ]
    },
    {
     "name": "stdout",
     "output_type": "stream",
     "text": [
      "                   all        300        383      0.488      0.352      0.375      0.206\n"
     ]
    },
    {
     "name": "stderr",
     "output_type": "stream",
     "text": [
      "\n"
     ]
    },
    {
     "name": "stdout",
     "output_type": "stream",
     "text": [
      "\n",
      "      Epoch    GPU_mem   box_loss   cls_loss   dfl_loss  Instances       Size\n"
     ]
    },
    {
     "name": "stderr",
     "output_type": "stream",
     "text": [
      "     61/150      1.76G      1.859      2.232       1.51         12        800: 100%|██████████| 75/75 [00:07<00:00, 10.66it/s]\n",
      "                 Class     Images  Instances      Box(P          R      mAP50  mAP50-95): 100%|██████████| 38/38 [00:03<00:00, 12.56it/s]"
     ]
    },
    {
     "name": "stdout",
     "output_type": "stream",
     "text": [
      "                   all        300        383      0.496      0.349      0.411      0.223\n"
     ]
    },
    {
     "name": "stderr",
     "output_type": "stream",
     "text": [
      "\n"
     ]
    },
    {
     "name": "stdout",
     "output_type": "stream",
     "text": [
      "\n",
      "      Epoch    GPU_mem   box_loss   cls_loss   dfl_loss  Instances       Size\n"
     ]
    },
    {
     "name": "stderr",
     "output_type": "stream",
     "text": [
      "     62/150      1.76G      1.875      2.307      1.523         10        800: 100%|██████████| 75/75 [00:06<00:00, 10.90it/s]\n",
      "                 Class     Images  Instances      Box(P          R      mAP50  mAP50-95): 100%|██████████| 38/38 [00:03<00:00, 12.31it/s]"
     ]
    },
    {
     "name": "stdout",
     "output_type": "stream",
     "text": [
      "                   all        300        383      0.481      0.386      0.427      0.235\n"
     ]
    },
    {
     "name": "stderr",
     "output_type": "stream",
     "text": [
      "\n"
     ]
    },
    {
     "name": "stdout",
     "output_type": "stream",
     "text": [
      "\n",
      "      Epoch    GPU_mem   box_loss   cls_loss   dfl_loss  Instances       Size\n"
     ]
    },
    {
     "name": "stderr",
     "output_type": "stream",
     "text": [
      "     63/150      1.76G      1.795      2.173      1.509          9        800: 100%|██████████| 75/75 [00:06<00:00, 10.86it/s]\n",
      "                 Class     Images  Instances      Box(P          R      mAP50  mAP50-95): 100%|██████████| 38/38 [00:03<00:00, 12.44it/s]"
     ]
    },
    {
     "name": "stdout",
     "output_type": "stream",
     "text": [
      "                   all        300        383      0.404      0.379      0.358      0.195\n"
     ]
    },
    {
     "name": "stderr",
     "output_type": "stream",
     "text": [
      "\n"
     ]
    },
    {
     "name": "stdout",
     "output_type": "stream",
     "text": [
      "\n",
      "      Epoch    GPU_mem   box_loss   cls_loss   dfl_loss  Instances       Size\n"
     ]
    },
    {
     "name": "stderr",
     "output_type": "stream",
     "text": [
      "     64/150      1.76G      1.886      2.283      1.569          8        800: 100%|██████████| 75/75 [00:06<00:00, 10.78it/s]\n",
      "                 Class     Images  Instances      Box(P          R      mAP50  mAP50-95): 100%|██████████| 38/38 [00:03<00:00, 12.33it/s]"
     ]
    },
    {
     "name": "stdout",
     "output_type": "stream",
     "text": [
      "                   all        300        383      0.512      0.376       0.43      0.255\n"
     ]
    },
    {
     "name": "stderr",
     "output_type": "stream",
     "text": [
      "\n"
     ]
    },
    {
     "name": "stdout",
     "output_type": "stream",
     "text": [
      "\n",
      "      Epoch    GPU_mem   box_loss   cls_loss   dfl_loss  Instances       Size\n"
     ]
    },
    {
     "name": "stderr",
     "output_type": "stream",
     "text": [
      "     65/150      1.76G      1.791      2.104      1.486          9        800: 100%|██████████| 75/75 [00:06<00:00, 10.88it/s]\n",
      "                 Class     Images  Instances      Box(P          R      mAP50  mAP50-95): 100%|██████████| 38/38 [00:03<00:00, 12.43it/s]"
     ]
    },
    {
     "name": "stdout",
     "output_type": "stream",
     "text": [
      "                   all        300        383       0.55      0.373       0.43      0.244\n"
     ]
    },
    {
     "name": "stderr",
     "output_type": "stream",
     "text": [
      "\n"
     ]
    },
    {
     "name": "stdout",
     "output_type": "stream",
     "text": [
      "\n",
      "      Epoch    GPU_mem   box_loss   cls_loss   dfl_loss  Instances       Size\n"
     ]
    },
    {
     "name": "stderr",
     "output_type": "stream",
     "text": [
      "     66/150      1.76G      1.882      2.238      1.542          4        800: 100%|██████████| 75/75 [00:06<00:00, 10.77it/s]\n",
      "                 Class     Images  Instances      Box(P          R      mAP50  mAP50-95): 100%|██████████| 38/38 [00:03<00:00, 12.24it/s]"
     ]
    },
    {
     "name": "stdout",
     "output_type": "stream",
     "text": [
      "                   all        300        383      0.548      0.363      0.407      0.228\n"
     ]
    },
    {
     "name": "stderr",
     "output_type": "stream",
     "text": [
      "\n"
     ]
    },
    {
     "name": "stdout",
     "output_type": "stream",
     "text": [
      "\n",
      "      Epoch    GPU_mem   box_loss   cls_loss   dfl_loss  Instances       Size\n"
     ]
    },
    {
     "name": "stderr",
     "output_type": "stream",
     "text": [
      "     67/150      1.76G      1.843      2.223      1.525          7        800: 100%|██████████| 75/75 [00:06<00:00, 10.87it/s]\n",
      "                 Class     Images  Instances      Box(P          R      mAP50  mAP50-95): 100%|██████████| 38/38 [00:03<00:00, 12.24it/s]\n"
     ]
    },
    {
     "name": "stdout",
     "output_type": "stream",
     "text": [
      "                   all        300        383      0.569       0.41      0.454      0.252\n",
      "\n",
      "      Epoch    GPU_mem   box_loss   cls_loss   dfl_loss  Instances       Size\n"
     ]
    },
    {
     "name": "stderr",
     "output_type": "stream",
     "text": [
      "     68/150      1.76G      1.853       2.19      1.538         13        800: 100%|██████████| 75/75 [00:06<00:00, 10.86it/s]\n",
      "                 Class     Images  Instances      Box(P          R      mAP50  mAP50-95): 100%|██████████| 38/38 [00:03<00:00, 12.31it/s]"
     ]
    },
    {
     "name": "stdout",
     "output_type": "stream",
     "text": [
      "                   all        300        383       0.58       0.41      0.474      0.269\n"
     ]
    },
    {
     "name": "stderr",
     "output_type": "stream",
     "text": [
      "\n"
     ]
    },
    {
     "name": "stdout",
     "output_type": "stream",
     "text": [
      "\n",
      "      Epoch    GPU_mem   box_loss   cls_loss   dfl_loss  Instances       Size\n"
     ]
    },
    {
     "name": "stderr",
     "output_type": "stream",
     "text": [
      "     69/150      1.76G      1.803      2.099      1.496         10        800: 100%|██████████| 75/75 [00:06<00:00, 10.97it/s]\n",
      "                 Class     Images  Instances      Box(P          R      mAP50  mAP50-95): 100%|██████████| 38/38 [00:03<00:00, 12.40it/s]"
     ]
    },
    {
     "name": "stdout",
     "output_type": "stream",
     "text": [
      "                   all        300        383      0.531      0.415      0.462       0.26\n"
     ]
    },
    {
     "name": "stderr",
     "output_type": "stream",
     "text": [
      "\n"
     ]
    },
    {
     "name": "stdout",
     "output_type": "stream",
     "text": [
      "\n",
      "      Epoch    GPU_mem   box_loss   cls_loss   dfl_loss  Instances       Size\n"
     ]
    },
    {
     "name": "stderr",
     "output_type": "stream",
     "text": [
      "     70/150      1.76G        1.8      2.134      1.519          5        800: 100%|██████████| 75/75 [00:06<00:00, 10.88it/s]\n",
      "                 Class     Images  Instances      Box(P          R      mAP50  mAP50-95): 100%|██████████| 38/38 [00:03<00:00, 12.22it/s]"
     ]
    },
    {
     "name": "stdout",
     "output_type": "stream",
     "text": [
      "                   all        300        383      0.584       0.42      0.494      0.287\n"
     ]
    },
    {
     "name": "stderr",
     "output_type": "stream",
     "text": [
      "\n"
     ]
    },
    {
     "name": "stdout",
     "output_type": "stream",
     "text": [
      "\n",
      "      Epoch    GPU_mem   box_loss   cls_loss   dfl_loss  Instances       Size\n"
     ]
    },
    {
     "name": "stderr",
     "output_type": "stream",
     "text": [
      "     71/150      1.76G      1.871      2.186      1.555          8        800: 100%|██████████| 75/75 [00:06<00:00, 10.90it/s]\n",
      "                 Class     Images  Instances      Box(P          R      mAP50  mAP50-95): 100%|██████████| 38/38 [00:03<00:00, 12.31it/s]"
     ]
    },
    {
     "name": "stdout",
     "output_type": "stream",
     "text": [
      "                   all        300        383      0.571      0.399      0.469      0.275\n"
     ]
    },
    {
     "name": "stderr",
     "output_type": "stream",
     "text": [
      "\n"
     ]
    },
    {
     "name": "stdout",
     "output_type": "stream",
     "text": [
      "\n",
      "      Epoch    GPU_mem   box_loss   cls_loss   dfl_loss  Instances       Size\n"
     ]
    },
    {
     "name": "stderr",
     "output_type": "stream",
     "text": [
      "     72/150      1.76G      1.802      2.034       1.45          8        800: 100%|██████████| 75/75 [00:06<00:00, 10.80it/s]\n",
      "                 Class     Images  Instances      Box(P          R      mAP50  mAP50-95): 100%|██████████| 38/38 [00:03<00:00, 12.60it/s]"
     ]
    },
    {
     "name": "stdout",
     "output_type": "stream",
     "text": [
      "                   all        300        383        0.6      0.368       0.45      0.258\n"
     ]
    },
    {
     "name": "stderr",
     "output_type": "stream",
     "text": [
      "\n"
     ]
    },
    {
     "name": "stdout",
     "output_type": "stream",
     "text": [
      "\n",
      "      Epoch    GPU_mem   box_loss   cls_loss   dfl_loss  Instances       Size\n"
     ]
    },
    {
     "name": "stderr",
     "output_type": "stream",
     "text": [
      "     73/150      1.76G       1.83      2.131       1.49         13        800: 100%|██████████| 75/75 [00:07<00:00, 10.68it/s]\n",
      "                 Class     Images  Instances      Box(P          R      mAP50  mAP50-95): 100%|██████████| 38/38 [00:03<00:00, 12.55it/s]"
     ]
    },
    {
     "name": "stdout",
     "output_type": "stream",
     "text": [
      "                   all        300        383      0.618      0.399      0.492      0.284\n"
     ]
    },
    {
     "name": "stderr",
     "output_type": "stream",
     "text": [
      "\n"
     ]
    },
    {
     "name": "stdout",
     "output_type": "stream",
     "text": [
      "\n",
      "      Epoch    GPU_mem   box_loss   cls_loss   dfl_loss  Instances       Size\n"
     ]
    },
    {
     "name": "stderr",
     "output_type": "stream",
     "text": [
      "     74/150      1.76G      1.907      2.163      1.507         10        800: 100%|██████████| 75/75 [00:06<00:00, 10.77it/s]\n",
      "                 Class     Images  Instances      Box(P          R      mAP50  mAP50-95): 100%|██████████| 38/38 [00:03<00:00, 12.38it/s]"
     ]
    },
    {
     "name": "stdout",
     "output_type": "stream",
     "text": [
      "                   all        300        383      0.554      0.453      0.507      0.297\n"
     ]
    },
    {
     "name": "stderr",
     "output_type": "stream",
     "text": [
      "\n"
     ]
    },
    {
     "name": "stdout",
     "output_type": "stream",
     "text": [
      "\n",
      "      Epoch    GPU_mem   box_loss   cls_loss   dfl_loss  Instances       Size\n"
     ]
    },
    {
     "name": "stderr",
     "output_type": "stream",
     "text": [
      "     75/150      1.76G      1.768      2.018      1.429          4        800: 100%|██████████| 75/75 [00:06<00:00, 10.95it/s]\n",
      "                 Class     Images  Instances      Box(P          R      mAP50  mAP50-95): 100%|██████████| 38/38 [00:03<00:00, 12.35it/s]"
     ]
    },
    {
     "name": "stdout",
     "output_type": "stream",
     "text": [
      "                   all        300        383      0.553      0.457      0.504      0.294\n"
     ]
    },
    {
     "name": "stderr",
     "output_type": "stream",
     "text": [
      "\n"
     ]
    },
    {
     "name": "stdout",
     "output_type": "stream",
     "text": [
      "\n",
      "      Epoch    GPU_mem   box_loss   cls_loss   dfl_loss  Instances       Size\n"
     ]
    },
    {
     "name": "stderr",
     "output_type": "stream",
     "text": [
      "     76/150      1.76G      1.772      1.964      1.464          7        800: 100%|██████████| 75/75 [00:06<00:00, 10.80it/s]\n",
      "                 Class     Images  Instances      Box(P          R      mAP50  mAP50-95): 100%|██████████| 38/38 [00:03<00:00, 12.60it/s]"
     ]
    },
    {
     "name": "stdout",
     "output_type": "stream",
     "text": [
      "                   all        300        383      0.598      0.455      0.531      0.305\n"
     ]
    },
    {
     "name": "stderr",
     "output_type": "stream",
     "text": [
      "\n"
     ]
    },
    {
     "name": "stdout",
     "output_type": "stream",
     "text": [
      "\n",
      "      Epoch    GPU_mem   box_loss   cls_loss   dfl_loss  Instances       Size\n"
     ]
    },
    {
     "name": "stderr",
     "output_type": "stream",
     "text": [
      "     77/150      1.76G      1.808      2.079       1.46          8        800: 100%|██████████| 75/75 [00:06<00:00, 10.79it/s]\n",
      "                 Class     Images  Instances      Box(P          R      mAP50  mAP50-95): 100%|██████████| 38/38 [00:03<00:00, 12.50it/s]"
     ]
    },
    {
     "name": "stdout",
     "output_type": "stream",
     "text": [
      "                   all        300        383      0.549      0.439      0.466      0.259\n"
     ]
    },
    {
     "name": "stderr",
     "output_type": "stream",
     "text": [
      "\n"
     ]
    },
    {
     "name": "stdout",
     "output_type": "stream",
     "text": [
      "\n",
      "      Epoch    GPU_mem   box_loss   cls_loss   dfl_loss  Instances       Size\n"
     ]
    },
    {
     "name": "stderr",
     "output_type": "stream",
     "text": [
      "     78/150      1.76G      1.779       1.96      1.476          3        800: 100%|██████████| 75/75 [00:06<00:00, 10.84it/s]\n",
      "                 Class     Images  Instances      Box(P          R      mAP50  mAP50-95): 100%|██████████| 38/38 [00:03<00:00, 12.21it/s]"
     ]
    },
    {
     "name": "stdout",
     "output_type": "stream",
     "text": [
      "                   all        300        383      0.649       0.46      0.552       0.31\n"
     ]
    },
    {
     "name": "stderr",
     "output_type": "stream",
     "text": [
      "\n"
     ]
    },
    {
     "name": "stdout",
     "output_type": "stream",
     "text": [
      "\n",
      "      Epoch    GPU_mem   box_loss   cls_loss   dfl_loss  Instances       Size\n"
     ]
    },
    {
     "name": "stderr",
     "output_type": "stream",
     "text": [
      "     79/150      1.76G      1.721       2.01      1.457          7        800: 100%|██████████| 75/75 [00:06<00:00, 10.95it/s]\n",
      "                 Class     Images  Instances      Box(P          R      mAP50  mAP50-95): 100%|██████████| 38/38 [00:03<00:00, 12.40it/s]"
     ]
    },
    {
     "name": "stdout",
     "output_type": "stream",
     "text": [
      "                   all        300        383      0.685      0.457       0.54      0.307\n"
     ]
    },
    {
     "name": "stderr",
     "output_type": "stream",
     "text": [
      "\n"
     ]
    },
    {
     "name": "stdout",
     "output_type": "stream",
     "text": [
      "\n",
      "      Epoch    GPU_mem   box_loss   cls_loss   dfl_loss  Instances       Size\n"
     ]
    },
    {
     "name": "stderr",
     "output_type": "stream",
     "text": [
      "     80/150      1.76G      1.763      1.981      1.452          8        800: 100%|██████████| 75/75 [00:06<00:00, 10.73it/s]\n",
      "                 Class     Images  Instances      Box(P          R      mAP50  mAP50-95): 100%|██████████| 38/38 [00:03<00:00, 12.36it/s]"
     ]
    },
    {
     "name": "stdout",
     "output_type": "stream",
     "text": [
      "                   all        300        383       0.57      0.384      0.439      0.237\n"
     ]
    },
    {
     "name": "stderr",
     "output_type": "stream",
     "text": [
      "\n"
     ]
    },
    {
     "name": "stdout",
     "output_type": "stream",
     "text": [
      "\n",
      "      Epoch    GPU_mem   box_loss   cls_loss   dfl_loss  Instances       Size\n"
     ]
    },
    {
     "name": "stderr",
     "output_type": "stream",
     "text": [
      "     81/150      1.76G      1.716       1.87      1.438         15        800: 100%|██████████| 75/75 [00:06<00:00, 10.85it/s]\n",
      "                 Class     Images  Instances      Box(P          R      mAP50  mAP50-95): 100%|██████████| 38/38 [00:03<00:00, 12.41it/s]"
     ]
    },
    {
     "name": "stdout",
     "output_type": "stream",
     "text": [
      "                   all        300        383      0.695      0.483      0.587      0.345\n"
     ]
    },
    {
     "name": "stderr",
     "output_type": "stream",
     "text": [
      "\n"
     ]
    },
    {
     "name": "stdout",
     "output_type": "stream",
     "text": [
      "\n",
      "      Epoch    GPU_mem   box_loss   cls_loss   dfl_loss  Instances       Size\n"
     ]
    },
    {
     "name": "stderr",
     "output_type": "stream",
     "text": [
      "     82/150      1.76G      1.687      1.801      1.414          7        800: 100%|██████████| 75/75 [00:06<00:00, 10.84it/s]\n",
      "                 Class     Images  Instances      Box(P          R      mAP50  mAP50-95): 100%|██████████| 38/38 [00:03<00:00, 12.46it/s]"
     ]
    },
    {
     "name": "stdout",
     "output_type": "stream",
     "text": [
      "                   all        300        383      0.668      0.475      0.572       0.34\n"
     ]
    },
    {
     "name": "stderr",
     "output_type": "stream",
     "text": [
      "\n"
     ]
    },
    {
     "name": "stdout",
     "output_type": "stream",
     "text": [
      "\n",
      "      Epoch    GPU_mem   box_loss   cls_loss   dfl_loss  Instances       Size\n"
     ]
    },
    {
     "name": "stderr",
     "output_type": "stream",
     "text": [
      "     83/150      1.76G      1.771      1.961      1.501          5        800: 100%|██████████| 75/75 [00:06<00:00, 10.80it/s]\n",
      "                 Class     Images  Instances      Box(P          R      mAP50  mAP50-95): 100%|██████████| 38/38 [00:03<00:00, 12.64it/s]"
     ]
    },
    {
     "name": "stdout",
     "output_type": "stream",
     "text": [
      "                   all        300        383      0.644       0.53      0.604      0.357\n"
     ]
    },
    {
     "name": "stderr",
     "output_type": "stream",
     "text": [
      "\n"
     ]
    },
    {
     "name": "stdout",
     "output_type": "stream",
     "text": [
      "\n",
      "      Epoch    GPU_mem   box_loss   cls_loss   dfl_loss  Instances       Size\n"
     ]
    },
    {
     "name": "stderr",
     "output_type": "stream",
     "text": [
      "     84/150      1.76G      1.706      1.875      1.389         10        800: 100%|██████████| 75/75 [00:06<00:00, 10.83it/s]\n",
      "                 Class     Images  Instances      Box(P          R      mAP50  mAP50-95): 100%|██████████| 38/38 [00:03<00:00, 12.33it/s]"
     ]
    },
    {
     "name": "stdout",
     "output_type": "stream",
     "text": [
      "                   all        300        383      0.636      0.488      0.573      0.331\n"
     ]
    },
    {
     "name": "stderr",
     "output_type": "stream",
     "text": [
      "\n"
     ]
    },
    {
     "name": "stdout",
     "output_type": "stream",
     "text": [
      "\n",
      "      Epoch    GPU_mem   box_loss   cls_loss   dfl_loss  Instances       Size\n"
     ]
    },
    {
     "name": "stderr",
     "output_type": "stream",
     "text": [
      "     85/150      1.76G      1.708      1.899      1.432          6        800: 100%|██████████| 75/75 [00:06<00:00, 10.90it/s]\n",
      "                 Class     Images  Instances      Box(P          R      mAP50  mAP50-95): 100%|██████████| 38/38 [00:03<00:00, 12.50it/s]"
     ]
    },
    {
     "name": "stdout",
     "output_type": "stream",
     "text": [
      "                   all        300        383      0.754      0.486      0.594      0.352\n"
     ]
    },
    {
     "name": "stderr",
     "output_type": "stream",
     "text": [
      "\n"
     ]
    },
    {
     "name": "stdout",
     "output_type": "stream",
     "text": [
      "\n",
      "      Epoch    GPU_mem   box_loss   cls_loss   dfl_loss  Instances       Size\n"
     ]
    },
    {
     "name": "stderr",
     "output_type": "stream",
     "text": [
      "     86/150      1.76G      1.716      1.834      1.436         10        800: 100%|██████████| 75/75 [00:07<00:00, 10.71it/s]\n",
      "                 Class     Images  Instances      Box(P          R      mAP50  mAP50-95): 100%|██████████| 38/38 [00:03<00:00, 12.19it/s]"
     ]
    },
    {
     "name": "stdout",
     "output_type": "stream",
     "text": [
      "                   all        300        383      0.731      0.503      0.621      0.371\n"
     ]
    },
    {
     "name": "stderr",
     "output_type": "stream",
     "text": [
      "\n"
     ]
    },
    {
     "name": "stdout",
     "output_type": "stream",
     "text": [
      "\n",
      "      Epoch    GPU_mem   box_loss   cls_loss   dfl_loss  Instances       Size\n"
     ]
    },
    {
     "name": "stderr",
     "output_type": "stream",
     "text": [
      "     87/150      1.76G      1.635      1.827      1.419          6        800: 100%|██████████| 75/75 [00:06<00:00, 10.85it/s]\n",
      "                 Class     Images  Instances      Box(P          R      mAP50  mAP50-95): 100%|██████████| 38/38 [00:03<00:00, 12.44it/s]"
     ]
    },
    {
     "name": "stdout",
     "output_type": "stream",
     "text": [
      "                   all        300        383       0.68      0.501      0.594      0.351\n"
     ]
    },
    {
     "name": "stderr",
     "output_type": "stream",
     "text": [
      "\n"
     ]
    },
    {
     "name": "stdout",
     "output_type": "stream",
     "text": [
      "\n",
      "      Epoch    GPU_mem   box_loss   cls_loss   dfl_loss  Instances       Size\n"
     ]
    },
    {
     "name": "stderr",
     "output_type": "stream",
     "text": [
      "     88/150      1.76G      1.756      1.831      1.391          8        800: 100%|██████████| 75/75 [00:06<00:00, 10.98it/s]\n",
      "                 Class     Images  Instances      Box(P          R      mAP50  mAP50-95): 100%|██████████| 38/38 [00:03<00:00, 12.41it/s]"
     ]
    },
    {
     "name": "stdout",
     "output_type": "stream",
     "text": [
      "                   all        300        383      0.613      0.525      0.588      0.347\n"
     ]
    },
    {
     "name": "stderr",
     "output_type": "stream",
     "text": [
      "\n"
     ]
    },
    {
     "name": "stdout",
     "output_type": "stream",
     "text": [
      "\n",
      "      Epoch    GPU_mem   box_loss   cls_loss   dfl_loss  Instances       Size\n"
     ]
    },
    {
     "name": "stderr",
     "output_type": "stream",
     "text": [
      "     89/150      1.78G      1.634      1.756      1.398         11        800: 100%|██████████| 75/75 [00:06<00:00, 10.78it/s]\n",
      "                 Class     Images  Instances      Box(P          R      mAP50  mAP50-95): 100%|██████████| 38/38 [00:03<00:00, 12.24it/s]"
     ]
    },
    {
     "name": "stdout",
     "output_type": "stream",
     "text": [
      "                   all        300        383       0.76      0.475      0.608      0.364\n"
     ]
    },
    {
     "name": "stderr",
     "output_type": "stream",
     "text": [
      "\n"
     ]
    },
    {
     "name": "stdout",
     "output_type": "stream",
     "text": [
      "\n",
      "      Epoch    GPU_mem   box_loss   cls_loss   dfl_loss  Instances       Size\n"
     ]
    },
    {
     "name": "stderr",
     "output_type": "stream",
     "text": [
      "     90/150      1.78G      1.714       1.78        1.4         10        800: 100%|██████████| 75/75 [00:06<00:00, 10.85it/s]\n",
      "                 Class     Images  Instances      Box(P          R      mAP50  mAP50-95): 100%|██████████| 38/38 [00:03<00:00, 12.43it/s]"
     ]
    },
    {
     "name": "stdout",
     "output_type": "stream",
     "text": [
      "                   all        300        383      0.627      0.533      0.595      0.344\n"
     ]
    },
    {
     "name": "stderr",
     "output_type": "stream",
     "text": [
      "\n"
     ]
    },
    {
     "name": "stdout",
     "output_type": "stream",
     "text": [
      "\n",
      "      Epoch    GPU_mem   box_loss   cls_loss   dfl_loss  Instances       Size\n"
     ]
    },
    {
     "name": "stderr",
     "output_type": "stream",
     "text": [
      "     91/150      1.78G      1.702      1.784      1.426          6        800: 100%|██████████| 75/75 [00:06<00:00, 10.85it/s]\n",
      "                 Class     Images  Instances      Box(P          R      mAP50  mAP50-95): 100%|██████████| 38/38 [00:03<00:00, 12.46it/s]"
     ]
    },
    {
     "name": "stdout",
     "output_type": "stream",
     "text": [
      "                   all        300        383      0.759      0.522      0.627      0.369\n"
     ]
    },
    {
     "name": "stderr",
     "output_type": "stream",
     "text": [
      "\n"
     ]
    },
    {
     "name": "stdout",
     "output_type": "stream",
     "text": [
      "\n",
      "      Epoch    GPU_mem   box_loss   cls_loss   dfl_loss  Instances       Size\n"
     ]
    },
    {
     "name": "stderr",
     "output_type": "stream",
     "text": [
      "     92/150      1.78G      1.719      1.875      1.454         12        800: 100%|██████████| 75/75 [00:06<00:00, 10.89it/s]\n",
      "                 Class     Images  Instances      Box(P          R      mAP50  mAP50-95): 100%|██████████| 38/38 [00:03<00:00, 12.25it/s]"
     ]
    },
    {
     "name": "stdout",
     "output_type": "stream",
     "text": [
      "                   all        300        383      0.684      0.548      0.636      0.385\n"
     ]
    },
    {
     "name": "stderr",
     "output_type": "stream",
     "text": [
      "\n"
     ]
    },
    {
     "name": "stdout",
     "output_type": "stream",
     "text": [
      "\n",
      "      Epoch    GPU_mem   box_loss   cls_loss   dfl_loss  Instances       Size\n"
     ]
    },
    {
     "name": "stderr",
     "output_type": "stream",
     "text": [
      "     93/150      1.78G       1.63      1.658      1.367          7        800: 100%|██████████| 75/75 [00:06<00:00, 10.82it/s]\n",
      "                 Class     Images  Instances      Box(P          R      mAP50  mAP50-95): 100%|██████████| 38/38 [00:03<00:00, 12.61it/s]"
     ]
    },
    {
     "name": "stdout",
     "output_type": "stream",
     "text": [
      "                   all        300        383      0.716      0.514      0.608       0.35\n"
     ]
    },
    {
     "name": "stderr",
     "output_type": "stream",
     "text": [
      "\n"
     ]
    },
    {
     "name": "stdout",
     "output_type": "stream",
     "text": [
      "\n",
      "      Epoch    GPU_mem   box_loss   cls_loss   dfl_loss  Instances       Size\n"
     ]
    },
    {
     "name": "stderr",
     "output_type": "stream",
     "text": [
      "     94/150      1.78G       1.65       1.77       1.39          8        800: 100%|██████████| 75/75 [00:06<00:00, 10.78it/s]\n",
      "                 Class     Images  Instances      Box(P          R      mAP50  mAP50-95): 100%|██████████| 38/38 [00:03<00:00, 12.39it/s]"
     ]
    },
    {
     "name": "stdout",
     "output_type": "stream",
     "text": [
      "                   all        300        383      0.784      0.503      0.633      0.376\n"
     ]
    },
    {
     "name": "stderr",
     "output_type": "stream",
     "text": [
      "\n"
     ]
    },
    {
     "name": "stdout",
     "output_type": "stream",
     "text": [
      "\n",
      "      Epoch    GPU_mem   box_loss   cls_loss   dfl_loss  Instances       Size\n"
     ]
    },
    {
     "name": "stderr",
     "output_type": "stream",
     "text": [
      "     95/150      1.78G      1.694      1.814      1.417          9        800: 100%|██████████| 75/75 [00:06<00:00, 10.89it/s]\n",
      "                 Class     Images  Instances      Box(P          R      mAP50  mAP50-95): 100%|██████████| 38/38 [00:03<00:00, 12.55it/s]"
     ]
    },
    {
     "name": "stdout",
     "output_type": "stream",
     "text": [
      "                   all        300        383      0.727      0.582      0.679       0.41\n"
     ]
    },
    {
     "name": "stderr",
     "output_type": "stream",
     "text": [
      "\n"
     ]
    },
    {
     "name": "stdout",
     "output_type": "stream",
     "text": [
      "\n",
      "      Epoch    GPU_mem   box_loss   cls_loss   dfl_loss  Instances       Size\n"
     ]
    },
    {
     "name": "stderr",
     "output_type": "stream",
     "text": [
      "     96/150      1.78G      1.699      1.786      1.404         12        800: 100%|██████████| 75/75 [00:06<00:00, 10.76it/s]\n",
      "                 Class     Images  Instances      Box(P          R      mAP50  mAP50-95): 100%|██████████| 38/38 [00:03<00:00, 12.27it/s]"
     ]
    },
    {
     "name": "stdout",
     "output_type": "stream",
     "text": [
      "                   all        300        383       0.75      0.582      0.691       0.42\n"
     ]
    },
    {
     "name": "stderr",
     "output_type": "stream",
     "text": [
      "\n"
     ]
    },
    {
     "name": "stdout",
     "output_type": "stream",
     "text": [
      "\n",
      "      Epoch    GPU_mem   box_loss   cls_loss   dfl_loss  Instances       Size\n"
     ]
    },
    {
     "name": "stderr",
     "output_type": "stream",
     "text": [
      "     97/150      1.78G      1.645      1.739      1.343          5        800: 100%|██████████| 75/75 [00:06<00:00, 10.82it/s]\n",
      "                 Class     Images  Instances      Box(P          R      mAP50  mAP50-95): 100%|██████████| 38/38 [00:02<00:00, 12.77it/s]"
     ]
    },
    {
     "name": "stdout",
     "output_type": "stream",
     "text": [
      "                   all        300        383      0.712       0.56      0.649      0.388\n"
     ]
    },
    {
     "name": "stderr",
     "output_type": "stream",
     "text": [
      "\n"
     ]
    },
    {
     "name": "stdout",
     "output_type": "stream",
     "text": [
      "\n",
      "      Epoch    GPU_mem   box_loss   cls_loss   dfl_loss  Instances       Size\n"
     ]
    },
    {
     "name": "stderr",
     "output_type": "stream",
     "text": [
      "     98/150      1.78G      1.604      1.664       1.33          9        800: 100%|██████████| 75/75 [00:06<00:00, 10.86it/s]\n",
      "                 Class     Images  Instances      Box(P          R      mAP50  mAP50-95): 100%|██████████| 38/38 [00:03<00:00, 12.52it/s]"
     ]
    },
    {
     "name": "stdout",
     "output_type": "stream",
     "text": [
      "                   all        300        383      0.752      0.563      0.668      0.403\n"
     ]
    },
    {
     "name": "stderr",
     "output_type": "stream",
     "text": [
      "\n"
     ]
    },
    {
     "name": "stdout",
     "output_type": "stream",
     "text": [
      "\n",
      "      Epoch    GPU_mem   box_loss   cls_loss   dfl_loss  Instances       Size\n"
     ]
    },
    {
     "name": "stderr",
     "output_type": "stream",
     "text": [
      "     99/150      1.78G      1.512      1.569      1.326         11        800: 100%|██████████| 75/75 [00:06<00:00, 10.78it/s]\n",
      "                 Class     Images  Instances      Box(P          R      mAP50  mAP50-95): 100%|██████████| 38/38 [00:03<00:00, 12.47it/s]"
     ]
    },
    {
     "name": "stdout",
     "output_type": "stream",
     "text": [
      "                   all        300        383       0.74      0.603      0.697      0.418\n"
     ]
    },
    {
     "name": "stderr",
     "output_type": "stream",
     "text": [
      "\n"
     ]
    },
    {
     "name": "stdout",
     "output_type": "stream",
     "text": [
      "\n",
      "      Epoch    GPU_mem   box_loss   cls_loss   dfl_loss  Instances       Size\n"
     ]
    },
    {
     "name": "stderr",
     "output_type": "stream",
     "text": [
      "    100/150      1.78G      1.582      1.617      1.323          7        800: 100%|██████████| 75/75 [00:06<00:00, 10.79it/s]\n",
      "                 Class     Images  Instances      Box(P          R      mAP50  mAP50-95): 100%|██████████| 38/38 [00:03<00:00, 12.46it/s]"
     ]
    },
    {
     "name": "stdout",
     "output_type": "stream",
     "text": [
      "                   all        300        383      0.719      0.621      0.711      0.442\n"
     ]
    },
    {
     "name": "stderr",
     "output_type": "stream",
     "text": [
      "\n"
     ]
    },
    {
     "name": "stdout",
     "output_type": "stream",
     "text": [
      "\n",
      "      Epoch    GPU_mem   box_loss   cls_loss   dfl_loss  Instances       Size\n"
     ]
    },
    {
     "name": "stderr",
     "output_type": "stream",
     "text": [
      "    101/150      1.78G      1.602      1.676      1.327          3        800: 100%|██████████| 75/75 [00:06<00:00, 10.79it/s]\n",
      "                 Class     Images  Instances      Box(P          R      mAP50  mAP50-95): 100%|██████████| 38/38 [00:03<00:00, 12.32it/s]"
     ]
    },
    {
     "name": "stdout",
     "output_type": "stream",
     "text": [
      "                   all        300        383      0.724      0.582       0.68       0.41\n"
     ]
    },
    {
     "name": "stderr",
     "output_type": "stream",
     "text": [
      "\n"
     ]
    },
    {
     "name": "stdout",
     "output_type": "stream",
     "text": [
      "\n",
      "      Epoch    GPU_mem   box_loss   cls_loss   dfl_loss  Instances       Size\n"
     ]
    },
    {
     "name": "stderr",
     "output_type": "stream",
     "text": [
      "    102/150      1.78G      1.641      1.675      1.383          9        800: 100%|██████████| 75/75 [00:06<00:00, 10.90it/s]\n",
      "                 Class     Images  Instances      Box(P          R      mAP50  mAP50-95): 100%|██████████| 38/38 [00:03<00:00, 12.05it/s]"
     ]
    },
    {
     "name": "stdout",
     "output_type": "stream",
     "text": [
      "                   all        300        383      0.772      0.567       0.68       0.42\n"
     ]
    },
    {
     "name": "stderr",
     "output_type": "stream",
     "text": [
      "\n"
     ]
    },
    {
     "name": "stdout",
     "output_type": "stream",
     "text": [
      "\n",
      "      Epoch    GPU_mem   box_loss   cls_loss   dfl_loss  Instances       Size\n"
     ]
    },
    {
     "name": "stderr",
     "output_type": "stream",
     "text": [
      "    103/150      1.78G      1.598       1.66      1.349          6        800: 100%|██████████| 75/75 [00:06<00:00, 10.88it/s]\n",
      "                 Class     Images  Instances      Box(P          R      mAP50  mAP50-95): 100%|██████████| 38/38 [00:03<00:00, 12.51it/s]"
     ]
    },
    {
     "name": "stdout",
     "output_type": "stream",
     "text": [
      "                   all        300        383      0.715      0.603        0.7      0.435\n"
     ]
    },
    {
     "name": "stderr",
     "output_type": "stream",
     "text": [
      "\n"
     ]
    },
    {
     "name": "stdout",
     "output_type": "stream",
     "text": [
      "\n",
      "      Epoch    GPU_mem   box_loss   cls_loss   dfl_loss  Instances       Size\n"
     ]
    },
    {
     "name": "stderr",
     "output_type": "stream",
     "text": [
      "    104/150       1.8G      1.656      1.681      1.374         14        800: 100%|██████████| 75/75 [00:06<00:00, 10.89it/s]\n",
      "                 Class     Images  Instances      Box(P          R      mAP50  mAP50-95): 100%|██████████| 38/38 [00:03<00:00, 12.14it/s]"
     ]
    },
    {
     "name": "stdout",
     "output_type": "stream",
     "text": [
      "                   all        300        383      0.754      0.593       0.71      0.443\n"
     ]
    },
    {
     "name": "stderr",
     "output_type": "stream",
     "text": [
      "\n"
     ]
    },
    {
     "name": "stdout",
     "output_type": "stream",
     "text": [
      "\n",
      "      Epoch    GPU_mem   box_loss   cls_loss   dfl_loss  Instances       Size\n"
     ]
    },
    {
     "name": "stderr",
     "output_type": "stream",
     "text": [
      "    105/150       1.8G      1.614      1.677      1.348         10        800: 100%|██████████| 75/75 [00:06<00:00, 10.94it/s]\n",
      "                 Class     Images  Instances      Box(P          R      mAP50  mAP50-95): 100%|██████████| 38/38 [00:03<00:00, 12.53it/s]"
     ]
    },
    {
     "name": "stdout",
     "output_type": "stream",
     "text": [
      "                   all        300        383      0.765      0.637      0.731      0.455\n"
     ]
    },
    {
     "name": "stderr",
     "output_type": "stream",
     "text": [
      "\n"
     ]
    },
    {
     "name": "stdout",
     "output_type": "stream",
     "text": [
      "\n",
      "      Epoch    GPU_mem   box_loss   cls_loss   dfl_loss  Instances       Size\n"
     ]
    },
    {
     "name": "stderr",
     "output_type": "stream",
     "text": [
      "    106/150       1.8G      1.636      1.624      1.367          8        800: 100%|██████████| 75/75 [00:06<00:00, 10.82it/s]\n",
      "                 Class     Images  Instances      Box(P          R      mAP50  mAP50-95): 100%|██████████| 38/38 [00:03<00:00, 12.34it/s]"
     ]
    },
    {
     "name": "stdout",
     "output_type": "stream",
     "text": [
      "                   all        300        383       0.75      0.603      0.704      0.444\n"
     ]
    },
    {
     "name": "stderr",
     "output_type": "stream",
     "text": [
      "\n"
     ]
    },
    {
     "name": "stdout",
     "output_type": "stream",
     "text": [
      "\n",
      "      Epoch    GPU_mem   box_loss   cls_loss   dfl_loss  Instances       Size\n"
     ]
    },
    {
     "name": "stderr",
     "output_type": "stream",
     "text": [
      "    107/150       1.8G      1.581      1.572      1.327          7        800: 100%|██████████| 75/75 [00:06<00:00, 10.83it/s]\n",
      "                 Class     Images  Instances      Box(P          R      mAP50  mAP50-95): 100%|██████████| 38/38 [00:03<00:00, 12.28it/s]"
     ]
    },
    {
     "name": "stdout",
     "output_type": "stream",
     "text": [
      "                   all        300        383      0.736      0.611      0.705      0.446\n"
     ]
    },
    {
     "name": "stderr",
     "output_type": "stream",
     "text": [
      "\n"
     ]
    },
    {
     "name": "stdout",
     "output_type": "stream",
     "text": [
      "\n",
      "      Epoch    GPU_mem   box_loss   cls_loss   dfl_loss  Instances       Size\n"
     ]
    },
    {
     "name": "stderr",
     "output_type": "stream",
     "text": [
      "    108/150       1.8G      1.598      1.602      1.321          7        800: 100%|██████████| 75/75 [00:06<00:00, 10.76it/s]\n",
      "                 Class     Images  Instances      Box(P          R      mAP50  mAP50-95): 100%|██████████| 38/38 [00:03<00:00, 12.39it/s]"
     ]
    },
    {
     "name": "stdout",
     "output_type": "stream",
     "text": [
      "                   all        300        383       0.66      0.597      0.666      0.405\n"
     ]
    },
    {
     "name": "stderr",
     "output_type": "stream",
     "text": [
      "\n"
     ]
    },
    {
     "name": "stdout",
     "output_type": "stream",
     "text": [
      "\n",
      "      Epoch    GPU_mem   box_loss   cls_loss   dfl_loss  Instances       Size\n"
     ]
    },
    {
     "name": "stderr",
     "output_type": "stream",
     "text": [
      "    109/150       1.8G      1.586      1.646      1.352          7        800: 100%|██████████| 75/75 [00:07<00:00, 10.66it/s]\n",
      "                 Class     Images  Instances      Box(P          R      mAP50  mAP50-95): 100%|██████████| 38/38 [00:03<00:00, 12.59it/s]"
     ]
    },
    {
     "name": "stdout",
     "output_type": "stream",
     "text": [
      "                   all        300        383      0.793      0.589      0.707      0.437\n"
     ]
    },
    {
     "name": "stderr",
     "output_type": "stream",
     "text": [
      "\n"
     ]
    },
    {
     "name": "stdout",
     "output_type": "stream",
     "text": [
      "\n",
      "      Epoch    GPU_mem   box_loss   cls_loss   dfl_loss  Instances       Size\n"
     ]
    },
    {
     "name": "stderr",
     "output_type": "stream",
     "text": [
      "    110/150      1.81G      1.541      1.475      1.327          7        800: 100%|██████████| 75/75 [00:06<00:00, 10.85it/s]\n",
      "                 Class     Images  Instances      Box(P          R      mAP50  mAP50-95): 100%|██████████| 38/38 [00:03<00:00, 12.31it/s]"
     ]
    },
    {
     "name": "stdout",
     "output_type": "stream",
     "text": [
      "                   all        300        383      0.801      0.637       0.75       0.48\n"
     ]
    },
    {
     "name": "stderr",
     "output_type": "stream",
     "text": [
      "\n"
     ]
    },
    {
     "name": "stdout",
     "output_type": "stream",
     "text": [
      "\n",
      "      Epoch    GPU_mem   box_loss   cls_loss   dfl_loss  Instances       Size\n"
     ]
    },
    {
     "name": "stderr",
     "output_type": "stream",
     "text": [
      "    111/150      1.81G       1.54      1.574      1.348          5        800: 100%|██████████| 75/75 [00:07<00:00, 10.69it/s]\n",
      "                 Class     Images  Instances      Box(P          R      mAP50  mAP50-95): 100%|██████████| 38/38 [00:03<00:00, 12.48it/s]"
     ]
    },
    {
     "name": "stdout",
     "output_type": "stream",
     "text": [
      "                   all        300        383      0.825       0.58      0.731      0.458\n"
     ]
    },
    {
     "name": "stderr",
     "output_type": "stream",
     "text": [
      "\n"
     ]
    },
    {
     "name": "stdout",
     "output_type": "stream",
     "text": [
      "\n",
      "      Epoch    GPU_mem   box_loss   cls_loss   dfl_loss  Instances       Size\n"
     ]
    },
    {
     "name": "stderr",
     "output_type": "stream",
     "text": [
      "    112/150      1.81G      1.587      1.622      1.327          9        800: 100%|██████████| 75/75 [00:06<00:00, 10.79it/s]\n",
      "                 Class     Images  Instances      Box(P          R      mAP50  mAP50-95): 100%|██████████| 38/38 [00:03<00:00, 12.38it/s]"
     ]
    },
    {
     "name": "stdout",
     "output_type": "stream",
     "text": [
      "                   all        300        383      0.829      0.614      0.737      0.459\n"
     ]
    },
    {
     "name": "stderr",
     "output_type": "stream",
     "text": [
      "\n"
     ]
    },
    {
     "name": "stdout",
     "output_type": "stream",
     "text": [
      "\n",
      "      Epoch    GPU_mem   box_loss   cls_loss   dfl_loss  Instances       Size\n"
     ]
    },
    {
     "name": "stderr",
     "output_type": "stream",
     "text": [
      "    113/150      1.81G      1.519      1.555      1.321         15        800: 100%|██████████| 75/75 [00:06<00:00, 10.78it/s]\n",
      "                 Class     Images  Instances      Box(P          R      mAP50  mAP50-95): 100%|██████████| 38/38 [00:03<00:00, 12.64it/s]"
     ]
    },
    {
     "name": "stdout",
     "output_type": "stream",
     "text": [
      "                   all        300        383      0.766      0.655      0.736      0.458\n"
     ]
    },
    {
     "name": "stderr",
     "output_type": "stream",
     "text": [
      "\n"
     ]
    },
    {
     "name": "stdout",
     "output_type": "stream",
     "text": [
      "\n",
      "      Epoch    GPU_mem   box_loss   cls_loss   dfl_loss  Instances       Size\n"
     ]
    },
    {
     "name": "stderr",
     "output_type": "stream",
     "text": [
      "    114/150      1.81G      1.534       1.49      1.304         12        800: 100%|██████████| 75/75 [00:06<00:00, 10.79it/s]\n",
      "                 Class     Images  Instances      Box(P          R      mAP50  mAP50-95): 100%|██████████| 38/38 [00:03<00:00, 12.56it/s]"
     ]
    },
    {
     "name": "stdout",
     "output_type": "stream",
     "text": [
      "                   all        300        383       0.79       0.63      0.738      0.458\n"
     ]
    },
    {
     "name": "stderr",
     "output_type": "stream",
     "text": [
      "\n"
     ]
    },
    {
     "name": "stdout",
     "output_type": "stream",
     "text": [
      "\n",
      "      Epoch    GPU_mem   box_loss   cls_loss   dfl_loss  Instances       Size\n"
     ]
    },
    {
     "name": "stderr",
     "output_type": "stream",
     "text": [
      "    115/150      1.81G       1.53      1.494      1.309         11        800: 100%|██████████| 75/75 [00:07<00:00, 10.69it/s]\n",
      "                 Class     Images  Instances      Box(P          R      mAP50  mAP50-95): 100%|██████████| 38/38 [00:03<00:00, 12.38it/s]"
     ]
    },
    {
     "name": "stdout",
     "output_type": "stream",
     "text": [
      "                   all        300        383      0.781      0.624      0.732      0.455\n"
     ]
    },
    {
     "name": "stderr",
     "output_type": "stream",
     "text": [
      "\n"
     ]
    },
    {
     "name": "stdout",
     "output_type": "stream",
     "text": [
      "\n",
      "      Epoch    GPU_mem   box_loss   cls_loss   dfl_loss  Instances       Size\n"
     ]
    },
    {
     "name": "stderr",
     "output_type": "stream",
     "text": [
      "    116/150      1.81G      1.519      1.524      1.316          7        800: 100%|██████████| 75/75 [00:06<00:00, 10.77it/s]\n",
      "                 Class     Images  Instances      Box(P          R      mAP50  mAP50-95): 100%|██████████| 38/38 [00:03<00:00, 12.32it/s]"
     ]
    },
    {
     "name": "stdout",
     "output_type": "stream",
     "text": [
      "                   all        300        383      0.841      0.622      0.765      0.484\n"
     ]
    },
    {
     "name": "stderr",
     "output_type": "stream",
     "text": [
      "\n"
     ]
    },
    {
     "name": "stdout",
     "output_type": "stream",
     "text": [
      "\n",
      "      Epoch    GPU_mem   box_loss   cls_loss   dfl_loss  Instances       Size\n"
     ]
    },
    {
     "name": "stderr",
     "output_type": "stream",
     "text": [
      "    117/150      1.83G      1.602      1.577      1.338          8        800: 100%|██████████| 75/75 [00:06<00:00, 10.93it/s]\n",
      "                 Class     Images  Instances      Box(P          R      mAP50  mAP50-95): 100%|██████████| 38/38 [00:03<00:00, 12.30it/s]"
     ]
    },
    {
     "name": "stdout",
     "output_type": "stream",
     "text": [
      "                   all        300        383      0.817      0.634      0.753      0.468\n"
     ]
    },
    {
     "name": "stderr",
     "output_type": "stream",
     "text": [
      "\n"
     ]
    },
    {
     "name": "stdout",
     "output_type": "stream",
     "text": [
      "\n",
      "      Epoch    GPU_mem   box_loss   cls_loss   dfl_loss  Instances       Size\n"
     ]
    },
    {
     "name": "stderr",
     "output_type": "stream",
     "text": [
      "    118/150      1.83G      1.516      1.518      1.311          9        800: 100%|██████████| 75/75 [00:06<00:00, 10.85it/s]\n",
      "                 Class     Images  Instances      Box(P          R      mAP50  mAP50-95): 100%|██████████| 38/38 [00:03<00:00, 12.40it/s]"
     ]
    },
    {
     "name": "stdout",
     "output_type": "stream",
     "text": [
      "                   all        300        383      0.798      0.628      0.732      0.443\n"
     ]
    },
    {
     "name": "stderr",
     "output_type": "stream",
     "text": [
      "\n"
     ]
    },
    {
     "name": "stdout",
     "output_type": "stream",
     "text": [
      "\n",
      "      Epoch    GPU_mem   box_loss   cls_loss   dfl_loss  Instances       Size\n"
     ]
    },
    {
     "name": "stderr",
     "output_type": "stream",
     "text": [
      "    119/150      1.83G      1.535      1.546      1.308          7        800: 100%|██████████| 75/75 [00:06<00:00, 10.75it/s]\n",
      "                 Class     Images  Instances      Box(P          R      mAP50  mAP50-95): 100%|██████████| 38/38 [00:03<00:00, 11.95it/s]"
     ]
    },
    {
     "name": "stdout",
     "output_type": "stream",
     "text": [
      "                   all        300        383      0.872      0.601      0.758      0.476\n"
     ]
    },
    {
     "name": "stderr",
     "output_type": "stream",
     "text": [
      "\n"
     ]
    },
    {
     "name": "stdout",
     "output_type": "stream",
     "text": [
      "\n",
      "      Epoch    GPU_mem   box_loss   cls_loss   dfl_loss  Instances       Size\n"
     ]
    },
    {
     "name": "stderr",
     "output_type": "stream",
     "text": [
      "    120/150      1.83G      1.569      1.556      1.317          8        800: 100%|██████████| 75/75 [00:06<00:00, 10.75it/s]\n",
      "                 Class     Images  Instances      Box(P          R      mAP50  mAP50-95): 100%|██████████| 38/38 [00:03<00:00, 12.39it/s]"
     ]
    },
    {
     "name": "stdout",
     "output_type": "stream",
     "text": [
      "                   all        300        383      0.874      0.631       0.77       0.49\n"
     ]
    },
    {
     "name": "stderr",
     "output_type": "stream",
     "text": [
      "\n"
     ]
    },
    {
     "name": "stdout",
     "output_type": "stream",
     "text": [
      "\n",
      "      Epoch    GPU_mem   box_loss   cls_loss   dfl_loss  Instances       Size\n"
     ]
    },
    {
     "name": "stderr",
     "output_type": "stream",
     "text": [
      "    121/150      1.83G      1.527      1.517      1.318          8        800: 100%|██████████| 75/75 [00:06<00:00, 10.82it/s]\n",
      "                 Class     Images  Instances      Box(P          R      mAP50  mAP50-95): 100%|██████████| 38/38 [00:03<00:00, 12.28it/s]"
     ]
    },
    {
     "name": "stdout",
     "output_type": "stream",
     "text": [
      "                   all        300        383      0.847      0.648       0.78      0.496\n"
     ]
    },
    {
     "name": "stderr",
     "output_type": "stream",
     "text": [
      "\n"
     ]
    },
    {
     "name": "stdout",
     "output_type": "stream",
     "text": [
      "\n",
      "      Epoch    GPU_mem   box_loss   cls_loss   dfl_loss  Instances       Size\n"
     ]
    },
    {
     "name": "stderr",
     "output_type": "stream",
     "text": [
      "    122/150      1.83G      1.436      1.383      1.252          9        800: 100%|██████████| 75/75 [00:06<00:00, 10.82it/s]\n",
      "                 Class     Images  Instances      Box(P          R      mAP50  mAP50-95): 100%|██████████| 38/38 [00:03<00:00, 12.46it/s]"
     ]
    },
    {
     "name": "stdout",
     "output_type": "stream",
     "text": [
      "                   all        300        383      0.846      0.645      0.771      0.484\n"
     ]
    },
    {
     "name": "stderr",
     "output_type": "stream",
     "text": [
      "\n"
     ]
    },
    {
     "name": "stdout",
     "output_type": "stream",
     "text": [
      "\n",
      "      Epoch    GPU_mem   box_loss   cls_loss   dfl_loss  Instances       Size\n"
     ]
    },
    {
     "name": "stderr",
     "output_type": "stream",
     "text": [
      "    123/150      1.83G      1.528      1.516      1.292         14        800: 100%|██████████| 75/75 [00:06<00:00, 10.88it/s]\n",
      "                 Class     Images  Instances      Box(P          R      mAP50  mAP50-95): 100%|██████████| 38/38 [00:03<00:00, 12.34it/s]"
     ]
    },
    {
     "name": "stdout",
     "output_type": "stream",
     "text": [
      "                   all        300        383      0.805      0.629      0.747      0.459\n"
     ]
    },
    {
     "name": "stderr",
     "output_type": "stream",
     "text": [
      "\n"
     ]
    },
    {
     "name": "stdout",
     "output_type": "stream",
     "text": [
      "\n",
      "      Epoch    GPU_mem   box_loss   cls_loss   dfl_loss  Instances       Size\n"
     ]
    },
    {
     "name": "stderr",
     "output_type": "stream",
     "text": [
      "    124/150       1.9G      1.497      1.478      1.294         16        800: 100%|██████████| 75/75 [00:06<00:00, 10.85it/s]\n",
      "                 Class     Images  Instances      Box(P          R      mAP50  mAP50-95): 100%|██████████| 38/38 [00:03<00:00, 12.43it/s]"
     ]
    },
    {
     "name": "stdout",
     "output_type": "stream",
     "text": [
      "                   all        300        383      0.828      0.666      0.778      0.494\n"
     ]
    },
    {
     "name": "stderr",
     "output_type": "stream",
     "text": [
      "\n"
     ]
    },
    {
     "name": "stdout",
     "output_type": "stream",
     "text": [
      "\n",
      "      Epoch    GPU_mem   box_loss   cls_loss   dfl_loss  Instances       Size\n"
     ]
    },
    {
     "name": "stderr",
     "output_type": "stream",
     "text": [
      "    125/150       1.9G      1.498      1.436        1.3          4        800: 100%|██████████| 75/75 [00:06<00:00, 10.78it/s]\n",
      "                 Class     Images  Instances      Box(P          R      mAP50  mAP50-95): 100%|██████████| 38/38 [00:03<00:00, 12.57it/s]"
     ]
    },
    {
     "name": "stdout",
     "output_type": "stream",
     "text": [
      "                   all        300        383      0.826      0.645      0.769      0.488\n"
     ]
    },
    {
     "name": "stderr",
     "output_type": "stream",
     "text": [
      "\n"
     ]
    },
    {
     "name": "stdout",
     "output_type": "stream",
     "text": [
      "\n",
      "      Epoch    GPU_mem   box_loss   cls_loss   dfl_loss  Instances       Size\n"
     ]
    },
    {
     "name": "stderr",
     "output_type": "stream",
     "text": [
      "    126/150       1.9G      1.506       1.43      1.281         11        800: 100%|██████████| 75/75 [00:06<00:00, 10.87it/s]\n",
      "                 Class     Images  Instances      Box(P          R      mAP50  mAP50-95): 100%|██████████| 38/38 [00:03<00:00, 12.38it/s]"
     ]
    },
    {
     "name": "stdout",
     "output_type": "stream",
     "text": [
      "                   all        300        383      0.834      0.627      0.757      0.475\n"
     ]
    },
    {
     "name": "stderr",
     "output_type": "stream",
     "text": [
      "\n"
     ]
    },
    {
     "name": "stdout",
     "output_type": "stream",
     "text": [
      "\n",
      "      Epoch    GPU_mem   box_loss   cls_loss   dfl_loss  Instances       Size\n"
     ]
    },
    {
     "name": "stderr",
     "output_type": "stream",
     "text": [
      "    127/150       1.9G      1.519      1.473      1.294         14        800: 100%|██████████| 75/75 [00:06<00:00, 10.85it/s]\n",
      "                 Class     Images  Instances      Box(P          R      mAP50  mAP50-95): 100%|██████████| 38/38 [00:03<00:00, 12.46it/s]"
     ]
    },
    {
     "name": "stdout",
     "output_type": "stream",
     "text": [
      "                   all        300        383      0.771      0.687      0.773      0.488\n"
     ]
    },
    {
     "name": "stderr",
     "output_type": "stream",
     "text": [
      "\n"
     ]
    },
    {
     "name": "stdout",
     "output_type": "stream",
     "text": [
      "\n",
      "      Epoch    GPU_mem   box_loss   cls_loss   dfl_loss  Instances       Size\n"
     ]
    },
    {
     "name": "stderr",
     "output_type": "stream",
     "text": [
      "    128/150       1.9G      1.476      1.334      1.265         13        800: 100%|██████████| 75/75 [00:07<00:00, 10.68it/s]\n",
      "                 Class     Images  Instances      Box(P          R      mAP50  mAP50-95): 100%|██████████| 38/38 [00:03<00:00, 12.47it/s]"
     ]
    },
    {
     "name": "stdout",
     "output_type": "stream",
     "text": [
      "                   all        300        383      0.881      0.632      0.779      0.498\n"
     ]
    },
    {
     "name": "stderr",
     "output_type": "stream",
     "text": [
      "\n"
     ]
    },
    {
     "name": "stdout",
     "output_type": "stream",
     "text": [
      "\n",
      "      Epoch    GPU_mem   box_loss   cls_loss   dfl_loss  Instances       Size\n"
     ]
    },
    {
     "name": "stderr",
     "output_type": "stream",
     "text": [
      "    129/150       1.9G      1.465      1.405       1.27          6        800: 100%|██████████| 75/75 [00:06<00:00, 10.96it/s]\n",
      "                 Class     Images  Instances      Box(P          R      mAP50  mAP50-95): 100%|██████████| 38/38 [00:03<00:00, 12.36it/s]"
     ]
    },
    {
     "name": "stdout",
     "output_type": "stream",
     "text": [
      "                   all        300        383      0.835      0.666       0.78        0.5\n"
     ]
    },
    {
     "name": "stderr",
     "output_type": "stream",
     "text": [
      "\n"
     ]
    },
    {
     "name": "stdout",
     "output_type": "stream",
     "text": [
      "\n",
      "      Epoch    GPU_mem   box_loss   cls_loss   dfl_loss  Instances       Size\n"
     ]
    },
    {
     "name": "stderr",
     "output_type": "stream",
     "text": [
      "    130/150      1.92G       1.49      1.448      1.298         11        800: 100%|██████████| 75/75 [00:06<00:00, 10.77it/s]\n",
      "                 Class     Images  Instances      Box(P          R      mAP50  mAP50-95): 100%|██████████| 38/38 [00:03<00:00, 11.41it/s]"
     ]
    },
    {
     "name": "stdout",
     "output_type": "stream",
     "text": [
      "                   all        300        383      0.802      0.717      0.792       0.51\n"
     ]
    },
    {
     "name": "stderr",
     "output_type": "stream",
     "text": [
      "\n"
     ]
    },
    {
     "name": "stdout",
     "output_type": "stream",
     "text": [
      "\n",
      "      Epoch    GPU_mem   box_loss   cls_loss   dfl_loss  Instances       Size\n"
     ]
    },
    {
     "name": "stderr",
     "output_type": "stream",
     "text": [
      "    131/150      1.92G      1.511      1.485       1.31          6        800: 100%|██████████| 75/75 [00:07<00:00, 10.56it/s]\n",
      "                 Class     Images  Instances      Box(P          R      mAP50  mAP50-95): 100%|██████████| 38/38 [00:03<00:00, 12.36it/s]"
     ]
    },
    {
     "name": "stdout",
     "output_type": "stream",
     "text": [
      "                   all        300        383      0.794      0.684      0.769      0.486\n"
     ]
    },
    {
     "name": "stderr",
     "output_type": "stream",
     "text": [
      "\n"
     ]
    },
    {
     "name": "stdout",
     "output_type": "stream",
     "text": [
      "\n",
      "      Epoch    GPU_mem   box_loss   cls_loss   dfl_loss  Instances       Size\n"
     ]
    },
    {
     "name": "stderr",
     "output_type": "stream",
     "text": [
      "    132/150      1.92G       1.47      1.399      1.261          9        800: 100%|██████████| 75/75 [00:07<00:00, 10.65it/s]\n",
      "                 Class     Images  Instances      Box(P          R      mAP50  mAP50-95): 100%|██████████| 38/38 [00:03<00:00, 12.37it/s]"
     ]
    },
    {
     "name": "stdout",
     "output_type": "stream",
     "text": [
      "                   all        300        383      0.813      0.642      0.743      0.461\n"
     ]
    },
    {
     "name": "stderr",
     "output_type": "stream",
     "text": [
      "\n"
     ]
    },
    {
     "name": "stdout",
     "output_type": "stream",
     "text": [
      "\n",
      "      Epoch    GPU_mem   box_loss   cls_loss   dfl_loss  Instances       Size\n"
     ]
    },
    {
     "name": "stderr",
     "output_type": "stream",
     "text": [
      "    133/150      1.92G      1.533      1.481      1.291          8        800: 100%|██████████| 75/75 [00:07<00:00, 10.64it/s]\n",
      "                 Class     Images  Instances      Box(P          R      mAP50  mAP50-95): 100%|██████████| 38/38 [00:03<00:00, 12.54it/s]"
     ]
    },
    {
     "name": "stdout",
     "output_type": "stream",
     "text": [
      "                   all        300        383      0.821      0.668      0.775      0.496\n"
     ]
    },
    {
     "name": "stderr",
     "output_type": "stream",
     "text": [
      "\n"
     ]
    },
    {
     "name": "stdout",
     "output_type": "stream",
     "text": [
      "\n",
      "      Epoch    GPU_mem   box_loss   cls_loss   dfl_loss  Instances       Size\n"
     ]
    },
    {
     "name": "stderr",
     "output_type": "stream",
     "text": [
      "    134/150      1.92G      1.525      1.374      1.299          9        800: 100%|██████████| 75/75 [00:07<00:00, 10.59it/s]\n",
      "                 Class     Images  Instances      Box(P          R      mAP50  mAP50-95): 100%|██████████| 38/38 [00:03<00:00, 12.11it/s]"
     ]
    },
    {
     "name": "stdout",
     "output_type": "stream",
     "text": [
      "                   all        300        383      0.844      0.671      0.798      0.516\n"
     ]
    },
    {
     "name": "stderr",
     "output_type": "stream",
     "text": [
      "\n"
     ]
    },
    {
     "name": "stdout",
     "output_type": "stream",
     "text": [
      "\n",
      "      Epoch    GPU_mem   box_loss   cls_loss   dfl_loss  Instances       Size\n"
     ]
    },
    {
     "name": "stderr",
     "output_type": "stream",
     "text": [
      "    135/150      1.92G      1.526      1.417      1.276          6        800: 100%|██████████| 75/75 [00:06<00:00, 10.78it/s]\n",
      "                 Class     Images  Instances      Box(P          R      mAP50  mAP50-95): 100%|██████████| 38/38 [00:03<00:00, 12.33it/s]"
     ]
    },
    {
     "name": "stdout",
     "output_type": "stream",
     "text": [
      "                   all        300        383      0.868      0.671      0.799      0.518\n"
     ]
    },
    {
     "name": "stderr",
     "output_type": "stream",
     "text": [
      "\n"
     ]
    },
    {
     "name": "stdout",
     "output_type": "stream",
     "text": [
      "\n",
      "      Epoch    GPU_mem   box_loss   cls_loss   dfl_loss  Instances       Size\n"
     ]
    },
    {
     "name": "stderr",
     "output_type": "stream",
     "text": [
      "    136/150      1.92G      1.503      1.399      1.283          7        800: 100%|██████████| 75/75 [00:07<00:00, 10.67it/s]\n",
      "                 Class     Images  Instances      Box(P          R      mAP50  mAP50-95): 100%|██████████| 38/38 [00:03<00:00, 12.24it/s]"
     ]
    },
    {
     "name": "stdout",
     "output_type": "stream",
     "text": [
      "                   all        300        383       0.85      0.684      0.798      0.513\n"
     ]
    },
    {
     "name": "stderr",
     "output_type": "stream",
     "text": [
      "\n"
     ]
    },
    {
     "name": "stdout",
     "output_type": "stream",
     "text": [
      "\n",
      "      Epoch    GPU_mem   box_loss   cls_loss   dfl_loss  Instances       Size\n"
     ]
    },
    {
     "name": "stderr",
     "output_type": "stream",
     "text": [
      "    137/150      1.92G      1.441      1.362      1.222          7        800: 100%|██████████| 75/75 [00:06<00:00, 10.88it/s]\n",
      "                 Class     Images  Instances      Box(P          R      mAP50  mAP50-95): 100%|██████████| 38/38 [00:03<00:00, 12.45it/s]"
     ]
    },
    {
     "name": "stdout",
     "output_type": "stream",
     "text": [
      "                   all        300        383      0.851      0.671      0.794      0.517\n"
     ]
    },
    {
     "name": "stderr",
     "output_type": "stream",
     "text": [
      "\n"
     ]
    },
    {
     "name": "stdout",
     "output_type": "stream",
     "text": [
      "\n",
      "      Epoch    GPU_mem   box_loss   cls_loss   dfl_loss  Instances       Size\n"
     ]
    },
    {
     "name": "stderr",
     "output_type": "stream",
     "text": [
      "    138/150      1.92G       1.56      1.509      1.286          9        800: 100%|██████████| 75/75 [00:07<00:00, 10.65it/s]\n",
      "                 Class     Images  Instances      Box(P          R      mAP50  mAP50-95): 100%|██████████| 38/38 [00:03<00:00, 12.58it/s]"
     ]
    },
    {
     "name": "stdout",
     "output_type": "stream",
     "text": [
      "                   all        300        383      0.856      0.682      0.793      0.513\n"
     ]
    },
    {
     "name": "stderr",
     "output_type": "stream",
     "text": [
      "\n"
     ]
    },
    {
     "name": "stdout",
     "output_type": "stream",
     "text": [
      "\n",
      "      Epoch    GPU_mem   box_loss   cls_loss   dfl_loss  Instances       Size\n"
     ]
    },
    {
     "name": "stderr",
     "output_type": "stream",
     "text": [
      "    139/150      1.92G      1.462       1.33      1.261          5        800: 100%|██████████| 75/75 [00:06<00:00, 10.77it/s]\n",
      "                 Class     Images  Instances      Box(P          R      mAP50  mAP50-95): 100%|██████████| 38/38 [00:03<00:00, 12.32it/s]"
     ]
    },
    {
     "name": "stdout",
     "output_type": "stream",
     "text": [
      "                   all        300        383       0.86      0.661       0.79      0.514\n"
     ]
    },
    {
     "name": "stderr",
     "output_type": "stream",
     "text": [
      "\n"
     ]
    },
    {
     "name": "stdout",
     "output_type": "stream",
     "text": [
      "\n",
      "      Epoch    GPU_mem   box_loss   cls_loss   dfl_loss  Instances       Size\n"
     ]
    },
    {
     "name": "stderr",
     "output_type": "stream",
     "text": [
      "    140/150      1.92G      1.496      1.416      1.262          7        800: 100%|██████████| 75/75 [00:07<00:00, 10.58it/s]\n",
      "                 Class     Images  Instances      Box(P          R      mAP50  mAP50-95): 100%|██████████| 38/38 [00:03<00:00, 12.52it/s]"
     ]
    },
    {
     "name": "stdout",
     "output_type": "stream",
     "text": [
      "                   all        300        383      0.825      0.708      0.806      0.522\n"
     ]
    },
    {
     "name": "stderr",
     "output_type": "stream",
     "text": [
      "\n"
     ]
    },
    {
     "name": "stdout",
     "output_type": "stream",
     "text": [
      "Closing dataloader mosaic\n",
      "\u001b[34m\u001b[1malbumentations: \u001b[0mBlur(p=0.01, blur_limit=(3, 7)), MedianBlur(p=0.01, blur_limit=(3, 7)), ToGray(p=0.01, method='weighted_average', num_output_channels=3), CLAHE(p=0.01, clip_limit=(1.0, 4.0), tile_grid_size=(8, 8))\n",
      "\n",
      "      Epoch    GPU_mem   box_loss   cls_loss   dfl_loss  Instances       Size\n"
     ]
    },
    {
     "name": "stderr",
     "output_type": "stream",
     "text": [
      "    141/150      1.92G      1.629      1.557      1.344          4        800: 100%|██████████| 75/75 [00:07<00:00, 10.06it/s]\n",
      "                 Class     Images  Instances      Box(P          R      mAP50  mAP50-95): 100%|██████████| 38/38 [00:03<00:00, 12.37it/s]"
     ]
    },
    {
     "name": "stdout",
     "output_type": "stream",
     "text": [
      "                   all        300        383      0.748      0.689      0.764       0.47\n"
     ]
    },
    {
     "name": "stderr",
     "output_type": "stream",
     "text": [
      "\n"
     ]
    },
    {
     "name": "stdout",
     "output_type": "stream",
     "text": [
      "\n",
      "      Epoch    GPU_mem   box_loss   cls_loss   dfl_loss  Instances       Size\n"
     ]
    },
    {
     "name": "stderr",
     "output_type": "stream",
     "text": [
      "    142/150      1.92G      1.554      1.459      1.324          4        800: 100%|██████████| 75/75 [00:06<00:00, 10.86it/s]\n",
      "                 Class     Images  Instances      Box(P          R      mAP50  mAP50-95): 100%|██████████| 38/38 [00:03<00:00, 12.37it/s]"
     ]
    },
    {
     "name": "stdout",
     "output_type": "stream",
     "text": [
      "                   all        300        383      0.773      0.632       0.75      0.463\n"
     ]
    },
    {
     "name": "stderr",
     "output_type": "stream",
     "text": [
      "\n"
     ]
    },
    {
     "name": "stdout",
     "output_type": "stream",
     "text": [
      "\n",
      "      Epoch    GPU_mem   box_loss   cls_loss   dfl_loss  Instances       Size\n"
     ]
    },
    {
     "name": "stderr",
     "output_type": "stream",
     "text": [
      "    143/150      1.92G      1.574      1.529      1.341          5        800: 100%|██████████| 75/75 [00:07<00:00, 10.69it/s]\n",
      "                 Class     Images  Instances      Box(P          R      mAP50  mAP50-95): 100%|██████████| 38/38 [00:03<00:00, 12.17it/s]"
     ]
    },
    {
     "name": "stdout",
     "output_type": "stream",
     "text": [
      "                   all        300        383      0.742      0.676      0.756      0.474\n"
     ]
    },
    {
     "name": "stderr",
     "output_type": "stream",
     "text": [
      "\n"
     ]
    },
    {
     "name": "stdout",
     "output_type": "stream",
     "text": [
      "\n",
      "      Epoch    GPU_mem   box_loss   cls_loss   dfl_loss  Instances       Size\n"
     ]
    },
    {
     "name": "stderr",
     "output_type": "stream",
     "text": [
      "    144/150      1.92G      1.639       1.53      1.356          6        800: 100%|██████████| 75/75 [00:06<00:00, 10.86it/s]\n",
      "                 Class     Images  Instances      Box(P          R      mAP50  mAP50-95): 100%|██████████| 38/38 [00:03<00:00, 12.39it/s]\n"
     ]
    },
    {
     "name": "stdout",
     "output_type": "stream",
     "text": [
      "                   all        300        383       0.75      0.645      0.746       0.47\n",
      "\n",
      "      Epoch    GPU_mem   box_loss   cls_loss   dfl_loss  Instances       Size\n"
     ]
    },
    {
     "name": "stderr",
     "output_type": "stream",
     "text": [
      "    145/150      1.92G      1.524      1.433      1.315          4        800: 100%|██████████| 75/75 [00:06<00:00, 10.90it/s]\n",
      "                 Class     Images  Instances      Box(P          R      mAP50  mAP50-95): 100%|██████████| 38/38 [00:03<00:00, 12.46it/s]"
     ]
    },
    {
     "name": "stdout",
     "output_type": "stream",
     "text": [
      "                   all        300        383       0.81      0.671      0.778      0.493\n"
     ]
    },
    {
     "name": "stderr",
     "output_type": "stream",
     "text": [
      "\n"
     ]
    },
    {
     "name": "stdout",
     "output_type": "stream",
     "text": [
      "\n",
      "      Epoch    GPU_mem   box_loss   cls_loss   dfl_loss  Instances       Size\n"
     ]
    },
    {
     "name": "stderr",
     "output_type": "stream",
     "text": [
      "    146/150      1.92G      1.548      1.428      1.337          7        800: 100%|██████████| 75/75 [00:06<00:00, 11.00it/s]\n",
      "                 Class     Images  Instances      Box(P          R      mAP50  mAP50-95): 100%|██████████| 38/38 [00:02<00:00, 12.81it/s]"
     ]
    },
    {
     "name": "stdout",
     "output_type": "stream",
     "text": [
      "                   all        300        383       0.85      0.655      0.784      0.497\n"
     ]
    },
    {
     "name": "stderr",
     "output_type": "stream",
     "text": [
      "\n"
     ]
    },
    {
     "name": "stdout",
     "output_type": "stream",
     "text": [
      "\n",
      "      Epoch    GPU_mem   box_loss   cls_loss   dfl_loss  Instances       Size\n"
     ]
    },
    {
     "name": "stderr",
     "output_type": "stream",
     "text": [
      "    147/150      1.92G        1.5      1.393      1.279          5        800: 100%|██████████| 75/75 [00:06<00:00, 10.81it/s]\n",
      "                 Class     Images  Instances      Box(P          R      mAP50  mAP50-95): 100%|██████████| 38/38 [00:02<00:00, 12.74it/s]"
     ]
    },
    {
     "name": "stdout",
     "output_type": "stream",
     "text": [
      "                   all        300        383       0.84      0.674      0.786        0.5\n"
     ]
    },
    {
     "name": "stderr",
     "output_type": "stream",
     "text": [
      "\n"
     ]
    },
    {
     "name": "stdout",
     "output_type": "stream",
     "text": [
      "\n",
      "      Epoch    GPU_mem   box_loss   cls_loss   dfl_loss  Instances       Size\n"
     ]
    },
    {
     "name": "stderr",
     "output_type": "stream",
     "text": [
      "    148/150      1.92G      1.426      1.346       1.27          4        800: 100%|██████████| 75/75 [00:06<00:00, 11.08it/s]\n",
      "                 Class     Images  Instances      Box(P          R      mAP50  mAP50-95): 100%|██████████| 38/38 [00:03<00:00, 12.50it/s]"
     ]
    },
    {
     "name": "stdout",
     "output_type": "stream",
     "text": [
      "                   all        300        383      0.812      0.702      0.788      0.502\n"
     ]
    },
    {
     "name": "stderr",
     "output_type": "stream",
     "text": [
      "\n"
     ]
    },
    {
     "name": "stdout",
     "output_type": "stream",
     "text": [
      "\n",
      "      Epoch    GPU_mem   box_loss   cls_loss   dfl_loss  Instances       Size\n"
     ]
    },
    {
     "name": "stderr",
     "output_type": "stream",
     "text": [
      "    149/150      1.92G       1.45      1.364      1.267          4        800: 100%|██████████| 75/75 [00:06<00:00, 11.03it/s]\n",
      "                 Class     Images  Instances      Box(P          R      mAP50  mAP50-95): 100%|██████████| 38/38 [00:02<00:00, 12.72it/s]"
     ]
    },
    {
     "name": "stdout",
     "output_type": "stream",
     "text": [
      "                   all        300        383      0.822      0.684      0.787      0.502\n"
     ]
    },
    {
     "name": "stderr",
     "output_type": "stream",
     "text": [
      "\n"
     ]
    },
    {
     "name": "stdout",
     "output_type": "stream",
     "text": [
      "\n",
      "      Epoch    GPU_mem   box_loss   cls_loss   dfl_loss  Instances       Size\n"
     ]
    },
    {
     "name": "stderr",
     "output_type": "stream",
     "text": [
      "    150/150      1.92G      1.533      1.356      1.313          5        800: 100%|██████████| 75/75 [00:06<00:00, 10.87it/s]\n",
      "                 Class     Images  Instances      Box(P          R      mAP50  mAP50-95): 100%|██████████| 38/38 [00:02<00:00, 12.67it/s]"
     ]
    },
    {
     "name": "stdout",
     "output_type": "stream",
     "text": [
      "                   all        300        383      0.802      0.687      0.789      0.499\n"
     ]
    },
    {
     "name": "stderr",
     "output_type": "stream",
     "text": [
      "\n"
     ]
    },
    {
     "name": "stdout",
     "output_type": "stream",
     "text": [
      "\n",
      "150 epochs completed in 0.451 hours.\n",
      "Optimizer stripped from C:\\Users\\PC\\Desktop\\final project\\CBIS-DDSM\\calc\\YOLO model\\CBIS_YOLO_PROJECT_output\\yolov8s_optimized2\\weights\\last.pt, 22.5MB\n",
      "Optimizer stripped from C:\\Users\\PC\\Desktop\\final project\\CBIS-DDSM\\calc\\YOLO model\\CBIS_YOLO_PROJECT_output\\yolov8s_optimized2\\weights\\best.pt, 22.5MB\n",
      "\n",
      "Validating C:\\Users\\PC\\Desktop\\final project\\CBIS-DDSM\\calc\\YOLO model\\CBIS_YOLO_PROJECT_output\\yolov8s_optimized2\\weights\\best.pt...\n",
      "Ultralytics 8.3.171  Python-3.13.5 torch-2.7.1+cu118 CUDA:0 (NVIDIA GeForce RTX 4060, 8188MiB)\n",
      "Model summary (fused): 72 layers, 11,125,971 parameters, 0 gradients, 28.4 GFLOPs\n"
     ]
    },
    {
     "name": "stderr",
     "output_type": "stream",
     "text": [
      "                 Class     Images  Instances      Box(P          R      mAP50  mAP50-95): 100%|██████████| 38/38 [00:02<00:00, 13.60it/s]\n"
     ]
    },
    {
     "name": "stdout",
     "output_type": "stream",
     "text": [
      "                   all        300        383      0.831      0.705      0.804      0.522\n",
      "Speed: 0.3ms preprocess, 3.1ms inference, 0.0ms loss, 1.9ms postprocess per image\n",
      "Results saved to \u001b[1mC:\\Users\\PC\\Desktop\\final project\\CBIS-DDSM\\calc\\YOLO model\\CBIS_YOLO_PROJECT_output\\yolov8s_optimized2\u001b[0m\n"
     ]
    },
    {
     "data": {
      "text/plain": [
       "ultralytics.utils.metrics.DetMetrics object with attributes:\n",
       "\n",
       "ap_class_index: array([0])\n",
       "box: ultralytics.utils.metrics.Metric object\n",
       "confusion_matrix: <ultralytics.utils.metrics.ConfusionMatrix object at 0x0000024F813C7D20>\n",
       "curves: ['Precision-Recall(B)', 'F1-Confidence(B)', 'Precision-Confidence(B)', 'Recall-Confidence(B)']\n",
       "curves_results: [[array([          0,    0.001001,    0.002002,    0.003003,    0.004004,    0.005005,    0.006006,    0.007007,    0.008008,    0.009009,     0.01001,    0.011011,    0.012012,    0.013013,    0.014014,    0.015015,    0.016016,    0.017017,    0.018018,    0.019019,     0.02002,    0.021021,    0.022022,    0.023023,\n",
       "          0.024024,    0.025025,    0.026026,    0.027027,    0.028028,    0.029029,     0.03003,    0.031031,    0.032032,    0.033033,    0.034034,    0.035035,    0.036036,    0.037037,    0.038038,    0.039039,     0.04004,    0.041041,    0.042042,    0.043043,    0.044044,    0.045045,    0.046046,    0.047047,\n",
       "          0.048048,    0.049049,     0.05005,    0.051051,    0.052052,    0.053053,    0.054054,    0.055055,    0.056056,    0.057057,    0.058058,    0.059059,     0.06006,    0.061061,    0.062062,    0.063063,    0.064064,    0.065065,    0.066066,    0.067067,    0.068068,    0.069069,     0.07007,    0.071071,\n",
       "          0.072072,    0.073073,    0.074074,    0.075075,    0.076076,    0.077077,    0.078078,    0.079079,     0.08008,    0.081081,    0.082082,    0.083083,    0.084084,    0.085085,    0.086086,    0.087087,    0.088088,    0.089089,     0.09009,    0.091091,    0.092092,    0.093093,    0.094094,    0.095095,\n",
       "          0.096096,    0.097097,    0.098098,    0.099099,      0.1001,      0.1011,      0.1021,      0.1031,      0.1041,     0.10511,     0.10611,     0.10711,     0.10811,     0.10911,     0.11011,     0.11111,     0.11211,     0.11311,     0.11411,     0.11512,     0.11612,     0.11712,     0.11812,     0.11912,\n",
       "           0.12012,     0.12112,     0.12212,     0.12312,     0.12412,     0.12513,     0.12613,     0.12713,     0.12813,     0.12913,     0.13013,     0.13113,     0.13213,     0.13313,     0.13413,     0.13514,     0.13614,     0.13714,     0.13814,     0.13914,     0.14014,     0.14114,     0.14214,     0.14314,\n",
       "           0.14414,     0.14515,     0.14615,     0.14715,     0.14815,     0.14915,     0.15015,     0.15115,     0.15215,     0.15315,     0.15415,     0.15516,     0.15616,     0.15716,     0.15816,     0.15916,     0.16016,     0.16116,     0.16216,     0.16316,     0.16416,     0.16517,     0.16617,     0.16717,\n",
       "           0.16817,     0.16917,     0.17017,     0.17117,     0.17217,     0.17317,     0.17417,     0.17518,     0.17618,     0.17718,     0.17818,     0.17918,     0.18018,     0.18118,     0.18218,     0.18318,     0.18418,     0.18519,     0.18619,     0.18719,     0.18819,     0.18919,     0.19019,     0.19119,\n",
       "           0.19219,     0.19319,     0.19419,      0.1952,      0.1962,      0.1972,      0.1982,      0.1992,      0.2002,      0.2012,      0.2022,      0.2032,      0.2042,     0.20521,     0.20621,     0.20721,     0.20821,     0.20921,     0.21021,     0.21121,     0.21221,     0.21321,     0.21421,     0.21522,\n",
       "           0.21622,     0.21722,     0.21822,     0.21922,     0.22022,     0.22122,     0.22222,     0.22322,     0.22422,     0.22523,     0.22623,     0.22723,     0.22823,     0.22923,     0.23023,     0.23123,     0.23223,     0.23323,     0.23423,     0.23524,     0.23624,     0.23724,     0.23824,     0.23924,\n",
       "           0.24024,     0.24124,     0.24224,     0.24324,     0.24424,     0.24525,     0.24625,     0.24725,     0.24825,     0.24925,     0.25025,     0.25125,     0.25225,     0.25325,     0.25425,     0.25526,     0.25626,     0.25726,     0.25826,     0.25926,     0.26026,     0.26126,     0.26226,     0.26326,\n",
       "           0.26426,     0.26527,     0.26627,     0.26727,     0.26827,     0.26927,     0.27027,     0.27127,     0.27227,     0.27327,     0.27427,     0.27528,     0.27628,     0.27728,     0.27828,     0.27928,     0.28028,     0.28128,     0.28228,     0.28328,     0.28428,     0.28529,     0.28629,     0.28729,\n",
       "           0.28829,     0.28929,     0.29029,     0.29129,     0.29229,     0.29329,     0.29429,      0.2953,      0.2963,      0.2973,      0.2983,      0.2993,      0.3003,      0.3013,      0.3023,      0.3033,      0.3043,     0.30531,     0.30631,     0.30731,     0.30831,     0.30931,     0.31031,     0.31131,\n",
       "           0.31231,     0.31331,     0.31431,     0.31532,     0.31632,     0.31732,     0.31832,     0.31932,     0.32032,     0.32132,     0.32232,     0.32332,     0.32432,     0.32533,     0.32633,     0.32733,     0.32833,     0.32933,     0.33033,     0.33133,     0.33233,     0.33333,     0.33433,     0.33534,\n",
       "           0.33634,     0.33734,     0.33834,     0.33934,     0.34034,     0.34134,     0.34234,     0.34334,     0.34434,     0.34535,     0.34635,     0.34735,     0.34835,     0.34935,     0.35035,     0.35135,     0.35235,     0.35335,     0.35435,     0.35536,     0.35636,     0.35736,     0.35836,     0.35936,\n",
       "           0.36036,     0.36136,     0.36236,     0.36336,     0.36436,     0.36537,     0.36637,     0.36737,     0.36837,     0.36937,     0.37037,     0.37137,     0.37237,     0.37337,     0.37437,     0.37538,     0.37638,     0.37738,     0.37838,     0.37938,     0.38038,     0.38138,     0.38238,     0.38338,\n",
       "           0.38438,     0.38539,     0.38639,     0.38739,     0.38839,     0.38939,     0.39039,     0.39139,     0.39239,     0.39339,     0.39439,      0.3954,      0.3964,      0.3974,      0.3984,      0.3994,      0.4004,      0.4014,      0.4024,      0.4034,      0.4044,     0.40541,     0.40641,     0.40741,\n",
       "           0.40841,     0.40941,     0.41041,     0.41141,     0.41241,     0.41341,     0.41441,     0.41542,     0.41642,     0.41742,     0.41842,     0.41942,     0.42042,     0.42142,     0.42242,     0.42342,     0.42442,     0.42543,     0.42643,     0.42743,     0.42843,     0.42943,     0.43043,     0.43143,\n",
       "           0.43243,     0.43343,     0.43443,     0.43544,     0.43644,     0.43744,     0.43844,     0.43944,     0.44044,     0.44144,     0.44244,     0.44344,     0.44444,     0.44545,     0.44645,     0.44745,     0.44845,     0.44945,     0.45045,     0.45145,     0.45245,     0.45345,     0.45445,     0.45546,\n",
       "           0.45646,     0.45746,     0.45846,     0.45946,     0.46046,     0.46146,     0.46246,     0.46346,     0.46446,     0.46547,     0.46647,     0.46747,     0.46847,     0.46947,     0.47047,     0.47147,     0.47247,     0.47347,     0.47447,     0.47548,     0.47648,     0.47748,     0.47848,     0.47948,\n",
       "           0.48048,     0.48148,     0.48248,     0.48348,     0.48448,     0.48549,     0.48649,     0.48749,     0.48849,     0.48949,     0.49049,     0.49149,     0.49249,     0.49349,     0.49449,      0.4955,      0.4965,      0.4975,      0.4985,      0.4995,      0.5005,      0.5015,      0.5025,      0.5035,\n",
       "            0.5045,     0.50551,     0.50651,     0.50751,     0.50851,     0.50951,     0.51051,     0.51151,     0.51251,     0.51351,     0.51451,     0.51552,     0.51652,     0.51752,     0.51852,     0.51952,     0.52052,     0.52152,     0.52252,     0.52352,     0.52452,     0.52553,     0.52653,     0.52753,\n",
       "           0.52853,     0.52953,     0.53053,     0.53153,     0.53253,     0.53353,     0.53453,     0.53554,     0.53654,     0.53754,     0.53854,     0.53954,     0.54054,     0.54154,     0.54254,     0.54354,     0.54454,     0.54555,     0.54655,     0.54755,     0.54855,     0.54955,     0.55055,     0.55155,\n",
       "           0.55255,     0.55355,     0.55455,     0.55556,     0.55656,     0.55756,     0.55856,     0.55956,     0.56056,     0.56156,     0.56256,     0.56356,     0.56456,     0.56557,     0.56657,     0.56757,     0.56857,     0.56957,     0.57057,     0.57157,     0.57257,     0.57357,     0.57457,     0.57558,\n",
       "           0.57658,     0.57758,     0.57858,     0.57958,     0.58058,     0.58158,     0.58258,     0.58358,     0.58458,     0.58559,     0.58659,     0.58759,     0.58859,     0.58959,     0.59059,     0.59159,     0.59259,     0.59359,     0.59459,      0.5956,      0.5966,      0.5976,      0.5986,      0.5996,\n",
       "            0.6006,      0.6016,      0.6026,      0.6036,      0.6046,     0.60561,     0.60661,     0.60761,     0.60861,     0.60961,     0.61061,     0.61161,     0.61261,     0.61361,     0.61461,     0.61562,     0.61662,     0.61762,     0.61862,     0.61962,     0.62062,     0.62162,     0.62262,     0.62362,\n",
       "           0.62462,     0.62563,     0.62663,     0.62763,     0.62863,     0.62963,     0.63063,     0.63163,     0.63263,     0.63363,     0.63463,     0.63564,     0.63664,     0.63764,     0.63864,     0.63964,     0.64064,     0.64164,     0.64264,     0.64364,     0.64464,     0.64565,     0.64665,     0.64765,\n",
       "           0.64865,     0.64965,     0.65065,     0.65165,     0.65265,     0.65365,     0.65465,     0.65566,     0.65666,     0.65766,     0.65866,     0.65966,     0.66066,     0.66166,     0.66266,     0.66366,     0.66466,     0.66567,     0.66667,     0.66767,     0.66867,     0.66967,     0.67067,     0.67167,\n",
       "           0.67267,     0.67367,     0.67467,     0.67568,     0.67668,     0.67768,     0.67868,     0.67968,     0.68068,     0.68168,     0.68268,     0.68368,     0.68468,     0.68569,     0.68669,     0.68769,     0.68869,     0.68969,     0.69069,     0.69169,     0.69269,     0.69369,     0.69469,      0.6957,\n",
       "            0.6967,      0.6977,      0.6987,      0.6997,      0.7007,      0.7017,      0.7027,      0.7037,      0.7047,     0.70571,     0.70671,     0.70771,     0.70871,     0.70971,     0.71071,     0.71171,     0.71271,     0.71371,     0.71471,     0.71572,     0.71672,     0.71772,     0.71872,     0.71972,\n",
       "           0.72072,     0.72172,     0.72272,     0.72372,     0.72472,     0.72573,     0.72673,     0.72773,     0.72873,     0.72973,     0.73073,     0.73173,     0.73273,     0.73373,     0.73473,     0.73574,     0.73674,     0.73774,     0.73874,     0.73974,     0.74074,     0.74174,     0.74274,     0.74374,\n",
       "           0.74474,     0.74575,     0.74675,     0.74775,     0.74875,     0.74975,     0.75075,     0.75175,     0.75275,     0.75375,     0.75475,     0.75576,     0.75676,     0.75776,     0.75876,     0.75976,     0.76076,     0.76176,     0.76276,     0.76376,     0.76476,     0.76577,     0.76677,     0.76777,\n",
       "           0.76877,     0.76977,     0.77077,     0.77177,     0.77277,     0.77377,     0.77477,     0.77578,     0.77678,     0.77778,     0.77878,     0.77978,     0.78078,     0.78178,     0.78278,     0.78378,     0.78478,     0.78579,     0.78679,     0.78779,     0.78879,     0.78979,     0.79079,     0.79179,\n",
       "           0.79279,     0.79379,     0.79479,      0.7958,      0.7968,      0.7978,      0.7988,      0.7998,      0.8008,      0.8018,      0.8028,      0.8038,      0.8048,     0.80581,     0.80681,     0.80781,     0.80881,     0.80981,     0.81081,     0.81181,     0.81281,     0.81381,     0.81481,     0.81582,\n",
       "           0.81682,     0.81782,     0.81882,     0.81982,     0.82082,     0.82182,     0.82282,     0.82382,     0.82482,     0.82583,     0.82683,     0.82783,     0.82883,     0.82983,     0.83083,     0.83183,     0.83283,     0.83383,     0.83483,     0.83584,     0.83684,     0.83784,     0.83884,     0.83984,\n",
       "           0.84084,     0.84184,     0.84284,     0.84384,     0.84484,     0.84585,     0.84685,     0.84785,     0.84885,     0.84985,     0.85085,     0.85185,     0.85285,     0.85385,     0.85485,     0.85586,     0.85686,     0.85786,     0.85886,     0.85986,     0.86086,     0.86186,     0.86286,     0.86386,\n",
       "           0.86486,     0.86587,     0.86687,     0.86787,     0.86887,     0.86987,     0.87087,     0.87187,     0.87287,     0.87387,     0.87487,     0.87588,     0.87688,     0.87788,     0.87888,     0.87988,     0.88088,     0.88188,     0.88288,     0.88388,     0.88488,     0.88589,     0.88689,     0.88789,\n",
       "           0.88889,     0.88989,     0.89089,     0.89189,     0.89289,     0.89389,     0.89489,      0.8959,      0.8969,      0.8979,      0.8989,      0.8999,      0.9009,      0.9019,      0.9029,      0.9039,      0.9049,     0.90591,     0.90691,     0.90791,     0.90891,     0.90991,     0.91091,     0.91191,\n",
       "           0.91291,     0.91391,     0.91491,     0.91592,     0.91692,     0.91792,     0.91892,     0.91992,     0.92092,     0.92192,     0.92292,     0.92392,     0.92492,     0.92593,     0.92693,     0.92793,     0.92893,     0.92993,     0.93093,     0.93193,     0.93293,     0.93393,     0.93493,     0.93594,\n",
       "           0.93694,     0.93794,     0.93894,     0.93994,     0.94094,     0.94194,     0.94294,     0.94394,     0.94494,     0.94595,     0.94695,     0.94795,     0.94895,     0.94995,     0.95095,     0.95195,     0.95295,     0.95395,     0.95495,     0.95596,     0.95696,     0.95796,     0.95896,     0.95996,\n",
       "           0.96096,     0.96196,     0.96296,     0.96396,     0.96496,     0.96597,     0.96697,     0.96797,     0.96897,     0.96997,     0.97097,     0.97197,     0.97297,     0.97397,     0.97497,     0.97598,     0.97698,     0.97798,     0.97898,     0.97998,     0.98098,     0.98198,     0.98298,     0.98398,\n",
       "           0.98498,     0.98599,     0.98699,     0.98799,     0.98899,     0.98999,     0.99099,     0.99199,     0.99299,     0.99399,     0.99499,       0.996,       0.997,       0.998,       0.999,           1]), array([[          1,           1,           1,           1,           1,           1,           1,           1,           1,           1,           1,           1,           1,           1,           1,           1,           1,           1,           1,           1,           1,           1,           1,\n",
       "                  1,           1,           1,           1,           1,           1,           1,           1,           1,           1,           1,           1,           1,           1,           1,           1,           1,           1,           1,           1,           1,           1,           1,\n",
       "                  1,           1,           1,           1,           1,           1,           1,           1,           1,           1,           1,           1,           1,           1,           1,           1,           1,           1,           1,           1,           1,           1,           1,\n",
       "                  1,           1,           1,           1,           1,           1,           1,           1,           1,           1,           1,           1,           1,           1,           1,           1,           1,           1,           1,           1,           1,           1,           1,\n",
       "                  1,           1,           1,           1,           1,           1,           1,           1,           1,           1,           1,           1,           1,           1,           1,           1,           1,           1,           1,           1,           1,           1,           1,\n",
       "                  1,           1,           1,           1,           1,           1,           1,           1,           1,           1,           1,           1,           1,           1,           1,           1,           1,           1,           1,           1,           1,           1,           1,\n",
       "                  1,           1,           1,           1,           1,           1,           1,           1,           1,           1,           1,           1,           1,           1,           1,           1,           1,           1,           1,           1,           1,           1,           1,\n",
       "                  1,           1,           1,           1,           1,           1,           1,           1,           1,           1,           1,           1,           1,           1,           1,           1,           1,           1,           1,           1,           1,           1,           1,\n",
       "                  1,           1,           1,           1,           1,           1,           1,           1,           1,           1,           1,           1,           1,           1,           1,           1,           1,           1,           1,           1,           1,           1,           1,\n",
       "                  1,           1,           1,           1,           1,           1,           1,           1,           1,           1,           1,           1,           1,           1,           1,           1,           1,           1,           1,           1,           1,           1,           1,\n",
       "                  1,           1,           1,           1,           1,           1,           1,           1,           1,           1,           1,           1,           1,           1,           1,           1,           1,           1,           1,           1,           1,           1,           1,\n",
       "                  1,           1,           1,           1,           1,           1,           1,           1,           1,           1,           1,           1,           1,           1,           1,           1,           1,           1,           1,           1,           1,           1,           1,\n",
       "                  1,           1,           1,           1,           1,           1,           1,           1,           1,           1,           1,           1,           1,           1,           1,           1,           1,           1,           1,      0.9927,      0.9927,      0.9927,      0.9927,\n",
       "             0.9927,      0.9927,      0.9927,      0.9927,      0.9927,      0.9927,      0.9927,      0.9927,      0.9927,      0.9927,      0.9927,      0.9927,      0.9927,      0.9927,      0.9927,      0.9927,      0.9927,      0.9927,      0.9927,      0.9927,      0.9927,      0.9927,      0.9927,\n",
       "             0.9927,      0.9927,      0.9927,      0.9927,      0.9927,      0.9927,      0.9927,      0.9927,      0.9927,      0.9927,      0.9927,      0.9927,      0.9927,      0.9927,      0.9927,      0.9927,      0.9927,      0.9927,      0.9927,      0.9927,      0.9927,      0.9927,      0.9927,\n",
       "             0.9927,      0.9927,      0.9927,      0.9927,      0.9927,      0.9927,      0.9927,      0.9927,      0.9927,      0.9927,     0.98824,     0.98824,     0.98824,     0.98824,     0.98824,     0.98824,     0.98824,     0.98824,     0.98824,     0.98824,     0.98824,     0.98824,     0.98824,\n",
       "            0.98824,     0.98824,     0.98824,     0.98824,     0.98824,     0.98824,     0.98824,     0.98824,     0.98824,     0.98824,     0.98824,     0.98824,     0.98824,     0.98824,     0.98824,     0.98824,     0.98824,     0.98824,     0.98824,     0.98824,     0.98824,     0.98824,     0.98824,\n",
       "            0.98824,     0.98824,     0.98824,     0.98824,     0.98824,     0.98824,     0.98824,     0.98824,     0.98824,     0.98824,     0.98824,     0.98824,     0.98824,     0.98824,     0.98824,     0.98824,     0.98824,     0.98824,     0.98824,     0.98824,     0.98824,     0.98824,     0.98824,\n",
       "            0.98824,     0.98824,     0.98824,     0.98824,     0.98824,     0.98824,     0.98824,     0.98824,     0.98824,     0.98824,     0.98824,     0.98824,     0.98824,     0.98824,     0.98824,     0.98824,     0.98824,     0.98824,     0.98824,     0.98824,     0.98824,     0.98824,     0.98824,\n",
       "            0.98824,     0.98824,     0.98286,     0.98286,     0.98286,     0.98286,     0.98286,     0.98286,     0.98286,     0.98286,     0.98286,     0.98286,     0.97802,     0.97802,     0.97802,     0.97802,     0.97802,     0.97802,     0.97802,     0.97802,     0.97802,     0.97802,     0.97802,\n",
       "            0.97802,     0.97802,     0.97802,     0.97802,     0.97802,      0.9734,      0.9734,      0.9734,      0.9734,      0.9734,      0.9734,      0.9734,      0.9734,      0.9734,      0.9734,      0.9734,      0.9734,      0.9734,     0.96875,     0.96875,     0.96875,     0.96875,     0.96875,\n",
       "            0.96875,     0.96875,     0.96875,     0.96535,     0.96535,     0.96535,     0.96535,     0.96535,     0.96535,     0.96535,     0.96535,     0.96535,     0.96535,     0.96535,     0.96535,     0.96535,     0.96535,     0.96535,     0.96535,     0.96535,     0.96535,     0.96535,     0.96535,\n",
       "            0.96535,     0.96535,     0.96535,      0.9633,      0.9633,      0.9633,      0.9633,      0.9633,      0.9633,      0.9633,      0.9633,      0.9633,      0.9633,      0.9633,      0.9633,      0.9633,      0.9633,      0.9633,      0.9633,      0.9633,      0.9633,      0.9633,      0.9633,\n",
       "             0.9633,      0.9633,      0.9633,      0.9633,      0.9633,      0.9633,      0.9633,      0.9633,      0.9633,      0.9633,      0.9633,      0.9633,      0.9633,      0.9633,      0.9633,      0.9633,      0.9633,      0.9633,      0.9633,     0.95928,     0.95928,     0.95928,     0.95928,\n",
       "            0.95928,     0.95133,     0.95133,     0.95133,     0.95133,     0.95133,     0.95133,     0.95133,     0.95133,     0.94915,     0.94915,     0.94915,     0.94915,     0.94915,     0.94915,     0.94915,     0.94915,     0.94915,     0.94915,     0.94915,     0.94915,     0.94915,     0.94915,\n",
       "            0.94915,     0.94915,     0.94915,     0.94915,     0.94915,     0.94915,     0.94915,     0.94915,     0.94915,     0.94915,     0.94561,     0.94561,     0.94561,     0.94561,     0.94561,     0.94262,     0.94262,     0.94262,     0.94262,     0.94262,     0.94262,     0.94262,     0.94262,\n",
       "            0.94262,     0.94262,     0.93902,     0.93902,     0.93902,     0.93227,     0.93227,     0.93227,     0.93227,     0.93227,     0.93227,     0.93227,     0.93227,     0.92941,     0.92941,     0.92941,     0.92941,     0.92941,     0.92941,     0.92941,     0.92941,      0.9272,      0.9272,\n",
       "             0.9272,      0.9272,      0.9272,      0.9272,      0.9272,      0.9272,      0.9272,      0.9272,      0.9272,      0.9272,      0.9272,     0.91698,     0.91698,     0.91418,     0.91418,     0.91418,     0.91418,     0.91418,     0.91418,     0.90441,     0.90441,     0.89818,     0.89818,\n",
       "            0.89818,     0.88929,     0.88929,     0.88929,     0.88929,     0.88929,     0.88421,     0.88421,     0.88421,     0.88421,     0.88421,     0.88421,     0.88421,     0.88421,     0.87973,     0.87973,     0.87973,     0.87973,     0.87973,     0.87973,     0.87973,     0.87973,     0.87973,\n",
       "            0.87973,     0.87755,     0.87755,     0.87755,     0.87755,     0.87755,       0.875,       0.875,       0.875,     0.85809,     0.85809,     0.85809,     0.85761,     0.85761,     0.85761,     0.85761,     0.85761,     0.85761,     0.85761,     0.85761,     0.85761,     0.85761,     0.85761,\n",
       "            0.85761,     0.85761,     0.85577,     0.85577,     0.85577,     0.85577,     0.85577,     0.85079,     0.85079,     0.85079,     0.84375,     0.84375,     0.84375,     0.84375,     0.84375,     0.82622,     0.82622,     0.82424,     0.82424,     0.82424,     0.81493,     0.81493,     0.81493,\n",
       "            0.81361,     0.81361,     0.81361,     0.81361,     0.81361,     0.80938,     0.80938,     0.80523,     0.80523,     0.80523,     0.80347,     0.80347,     0.80347,     0.79487,     0.79487,     0.78652,     0.78652,     0.78652,     0.74933,     0.74933,     0.74406,     0.74406,     0.74406,\n",
       "            0.74278,     0.74278,     0.74278,     0.73385,     0.73385,     0.72589,     0.72589,     0.72589,     0.72589,     0.72589,     0.72111,     0.72111,     0.72111,     0.69231,     0.69231,     0.69231,     0.68632,     0.68632,     0.68632,     0.68632,     0.68632,     0.68632,     0.68632,\n",
       "            0.68632,     0.68384,     0.68384,     0.68298,     0.68298,     0.68298,     0.67742,     0.67742,     0.67198,     0.67198,     0.67198,     0.66219,     0.66219,     0.66219,     0.65708,     0.65708,     0.64579,     0.64579,     0.64579,     0.64579,     0.64579,     0.63025,     0.63025,\n",
       "            0.63025,      0.6219,      0.6219,      0.6219,     0.60279,     0.60279,     0.58429,     0.58429,     0.58429,     0.58429,     0.58429,     0.58429,     0.58429,     0.58429,     0.57845,     0.57845,     0.57845,     0.56957,     0.56957,     0.56307,     0.56307,     0.56307,      0.5469,\n",
       "             0.5469,     0.54482,     0.54482,     0.54482,     0.54435,     0.54435,     0.54435,     0.54435,     0.54435,     0.54435,     0.54435,     0.54435,     0.52951,     0.52951,     0.52951,     0.52941,     0.52941,     0.52922,     0.52922,     0.52922,     0.52922,     0.52922,     0.52902,\n",
       "            0.52902,     0.52902,     0.52902,     0.52902,     0.52902,     0.52805,     0.52805,     0.52451,     0.52451,     0.52451,      0.5152,      0.5152,     0.49388,     0.49388,     0.49388,     0.47507,     0.47507,     0.47507,     0.46898,     0.46898,     0.46307,     0.46307,     0.46307,\n",
       "            0.45992,     0.45992,     0.45874,     0.45874,     0.45874,      0.4434,      0.4434,      0.4434,     0.43651,     0.43651,     0.43553,     0.43553,     0.43553,     0.42839,     0.42839,     0.41315,     0.41315,     0.41315,     0.35532,     0.35532,     0.35532,     0.34715,     0.34715,\n",
       "            0.34711,     0.34711,     0.34711,     0.31973,     0.31973,     0.31973,     0.31857,     0.31857,     0.31742,     0.31742,     0.31742,     0.30741,     0.30741,     0.29145,     0.29145,     0.29145,     0.26187,     0.26187,     0.26187,      0.2537,      0.2537,     0.22094,     0.22094,\n",
       "            0.22094,     0.20771,     0.20771,     0.20317,     0.20317,     0.20317,     0.19398,     0.19398,     0.19398,     0.19398,     0.19398,     0.19186,     0.19186,     0.19186,     0.16925,     0.16925,     0.16417,     0.16417,     0.16417,     0.15735,     0.15735,     0.15735,     0.14551,\n",
       "            0.14551,     0.13501,     0.13501,     0.13501,     0.13119,     0.13119,     0.10355,     0.10355,     0.10355,    0.099916,    0.099916,    0.099916,    0.090427,    0.090427,    0.086527,    0.086527,    0.086527,    0.083818,    0.083818,    0.083818,    0.079814,    0.079814,    0.063231,\n",
       "           0.063231,    0.063231,    0.063076,    0.063076,    0.042247,    0.042247,    0.042247,    0.027475,    0.026914,    0.026354,    0.025793,    0.025232,    0.024672,    0.024111,     0.02355,    0.022989,    0.022429,    0.021868,    0.021307,    0.020746,    0.020186,    0.019625,    0.019064,\n",
       "           0.018504,    0.017943,    0.017382,    0.016821,    0.016261,      0.0157,    0.015139,    0.014579,    0.014018,    0.013457,    0.012896,    0.012336,    0.011775,    0.011214,    0.010654,    0.010093,   0.0095322,   0.0089715,   0.0084107,     0.00785,   0.0072893,   0.0067286,   0.0061679,\n",
       "          0.0056072,   0.0050464,   0.0044857,    0.003925,   0.0033643,   0.0028036,   0.0022429,   0.0016821,   0.0011214,  0.00056072,           0]]), 'Recall', 'Precision'], [array([          0,    0.001001,    0.002002,    0.003003,    0.004004,    0.005005,    0.006006,    0.007007,    0.008008,    0.009009,     0.01001,    0.011011,    0.012012,    0.013013,    0.014014,    0.015015,    0.016016,    0.017017,    0.018018,    0.019019,     0.02002,    0.021021,    0.022022,    0.023023,\n",
       "          0.024024,    0.025025,    0.026026,    0.027027,    0.028028,    0.029029,     0.03003,    0.031031,    0.032032,    0.033033,    0.034034,    0.035035,    0.036036,    0.037037,    0.038038,    0.039039,     0.04004,    0.041041,    0.042042,    0.043043,    0.044044,    0.045045,    0.046046,    0.047047,\n",
       "          0.048048,    0.049049,     0.05005,    0.051051,    0.052052,    0.053053,    0.054054,    0.055055,    0.056056,    0.057057,    0.058058,    0.059059,     0.06006,    0.061061,    0.062062,    0.063063,    0.064064,    0.065065,    0.066066,    0.067067,    0.068068,    0.069069,     0.07007,    0.071071,\n",
       "          0.072072,    0.073073,    0.074074,    0.075075,    0.076076,    0.077077,    0.078078,    0.079079,     0.08008,    0.081081,    0.082082,    0.083083,    0.084084,    0.085085,    0.086086,    0.087087,    0.088088,    0.089089,     0.09009,    0.091091,    0.092092,    0.093093,    0.094094,    0.095095,\n",
       "          0.096096,    0.097097,    0.098098,    0.099099,      0.1001,      0.1011,      0.1021,      0.1031,      0.1041,     0.10511,     0.10611,     0.10711,     0.10811,     0.10911,     0.11011,     0.11111,     0.11211,     0.11311,     0.11411,     0.11512,     0.11612,     0.11712,     0.11812,     0.11912,\n",
       "           0.12012,     0.12112,     0.12212,     0.12312,     0.12412,     0.12513,     0.12613,     0.12713,     0.12813,     0.12913,     0.13013,     0.13113,     0.13213,     0.13313,     0.13413,     0.13514,     0.13614,     0.13714,     0.13814,     0.13914,     0.14014,     0.14114,     0.14214,     0.14314,\n",
       "           0.14414,     0.14515,     0.14615,     0.14715,     0.14815,     0.14915,     0.15015,     0.15115,     0.15215,     0.15315,     0.15415,     0.15516,     0.15616,     0.15716,     0.15816,     0.15916,     0.16016,     0.16116,     0.16216,     0.16316,     0.16416,     0.16517,     0.16617,     0.16717,\n",
       "           0.16817,     0.16917,     0.17017,     0.17117,     0.17217,     0.17317,     0.17417,     0.17518,     0.17618,     0.17718,     0.17818,     0.17918,     0.18018,     0.18118,     0.18218,     0.18318,     0.18418,     0.18519,     0.18619,     0.18719,     0.18819,     0.18919,     0.19019,     0.19119,\n",
       "           0.19219,     0.19319,     0.19419,      0.1952,      0.1962,      0.1972,      0.1982,      0.1992,      0.2002,      0.2012,      0.2022,      0.2032,      0.2042,     0.20521,     0.20621,     0.20721,     0.20821,     0.20921,     0.21021,     0.21121,     0.21221,     0.21321,     0.21421,     0.21522,\n",
       "           0.21622,     0.21722,     0.21822,     0.21922,     0.22022,     0.22122,     0.22222,     0.22322,     0.22422,     0.22523,     0.22623,     0.22723,     0.22823,     0.22923,     0.23023,     0.23123,     0.23223,     0.23323,     0.23423,     0.23524,     0.23624,     0.23724,     0.23824,     0.23924,\n",
       "           0.24024,     0.24124,     0.24224,     0.24324,     0.24424,     0.24525,     0.24625,     0.24725,     0.24825,     0.24925,     0.25025,     0.25125,     0.25225,     0.25325,     0.25425,     0.25526,     0.25626,     0.25726,     0.25826,     0.25926,     0.26026,     0.26126,     0.26226,     0.26326,\n",
       "           0.26426,     0.26527,     0.26627,     0.26727,     0.26827,     0.26927,     0.27027,     0.27127,     0.27227,     0.27327,     0.27427,     0.27528,     0.27628,     0.27728,     0.27828,     0.27928,     0.28028,     0.28128,     0.28228,     0.28328,     0.28428,     0.28529,     0.28629,     0.28729,\n",
       "           0.28829,     0.28929,     0.29029,     0.29129,     0.29229,     0.29329,     0.29429,      0.2953,      0.2963,      0.2973,      0.2983,      0.2993,      0.3003,      0.3013,      0.3023,      0.3033,      0.3043,     0.30531,     0.30631,     0.30731,     0.30831,     0.30931,     0.31031,     0.31131,\n",
       "           0.31231,     0.31331,     0.31431,     0.31532,     0.31632,     0.31732,     0.31832,     0.31932,     0.32032,     0.32132,     0.32232,     0.32332,     0.32432,     0.32533,     0.32633,     0.32733,     0.32833,     0.32933,     0.33033,     0.33133,     0.33233,     0.33333,     0.33433,     0.33534,\n",
       "           0.33634,     0.33734,     0.33834,     0.33934,     0.34034,     0.34134,     0.34234,     0.34334,     0.34434,     0.34535,     0.34635,     0.34735,     0.34835,     0.34935,     0.35035,     0.35135,     0.35235,     0.35335,     0.35435,     0.35536,     0.35636,     0.35736,     0.35836,     0.35936,\n",
       "           0.36036,     0.36136,     0.36236,     0.36336,     0.36436,     0.36537,     0.36637,     0.36737,     0.36837,     0.36937,     0.37037,     0.37137,     0.37237,     0.37337,     0.37437,     0.37538,     0.37638,     0.37738,     0.37838,     0.37938,     0.38038,     0.38138,     0.38238,     0.38338,\n",
       "           0.38438,     0.38539,     0.38639,     0.38739,     0.38839,     0.38939,     0.39039,     0.39139,     0.39239,     0.39339,     0.39439,      0.3954,      0.3964,      0.3974,      0.3984,      0.3994,      0.4004,      0.4014,      0.4024,      0.4034,      0.4044,     0.40541,     0.40641,     0.40741,\n",
       "           0.40841,     0.40941,     0.41041,     0.41141,     0.41241,     0.41341,     0.41441,     0.41542,     0.41642,     0.41742,     0.41842,     0.41942,     0.42042,     0.42142,     0.42242,     0.42342,     0.42442,     0.42543,     0.42643,     0.42743,     0.42843,     0.42943,     0.43043,     0.43143,\n",
       "           0.43243,     0.43343,     0.43443,     0.43544,     0.43644,     0.43744,     0.43844,     0.43944,     0.44044,     0.44144,     0.44244,     0.44344,     0.44444,     0.44545,     0.44645,     0.44745,     0.44845,     0.44945,     0.45045,     0.45145,     0.45245,     0.45345,     0.45445,     0.45546,\n",
       "           0.45646,     0.45746,     0.45846,     0.45946,     0.46046,     0.46146,     0.46246,     0.46346,     0.46446,     0.46547,     0.46647,     0.46747,     0.46847,     0.46947,     0.47047,     0.47147,     0.47247,     0.47347,     0.47447,     0.47548,     0.47648,     0.47748,     0.47848,     0.47948,\n",
       "           0.48048,     0.48148,     0.48248,     0.48348,     0.48448,     0.48549,     0.48649,     0.48749,     0.48849,     0.48949,     0.49049,     0.49149,     0.49249,     0.49349,     0.49449,      0.4955,      0.4965,      0.4975,      0.4985,      0.4995,      0.5005,      0.5015,      0.5025,      0.5035,\n",
       "            0.5045,     0.50551,     0.50651,     0.50751,     0.50851,     0.50951,     0.51051,     0.51151,     0.51251,     0.51351,     0.51451,     0.51552,     0.51652,     0.51752,     0.51852,     0.51952,     0.52052,     0.52152,     0.52252,     0.52352,     0.52452,     0.52553,     0.52653,     0.52753,\n",
       "           0.52853,     0.52953,     0.53053,     0.53153,     0.53253,     0.53353,     0.53453,     0.53554,     0.53654,     0.53754,     0.53854,     0.53954,     0.54054,     0.54154,     0.54254,     0.54354,     0.54454,     0.54555,     0.54655,     0.54755,     0.54855,     0.54955,     0.55055,     0.55155,\n",
       "           0.55255,     0.55355,     0.55455,     0.55556,     0.55656,     0.55756,     0.55856,     0.55956,     0.56056,     0.56156,     0.56256,     0.56356,     0.56456,     0.56557,     0.56657,     0.56757,     0.56857,     0.56957,     0.57057,     0.57157,     0.57257,     0.57357,     0.57457,     0.57558,\n",
       "           0.57658,     0.57758,     0.57858,     0.57958,     0.58058,     0.58158,     0.58258,     0.58358,     0.58458,     0.58559,     0.58659,     0.58759,     0.58859,     0.58959,     0.59059,     0.59159,     0.59259,     0.59359,     0.59459,      0.5956,      0.5966,      0.5976,      0.5986,      0.5996,\n",
       "            0.6006,      0.6016,      0.6026,      0.6036,      0.6046,     0.60561,     0.60661,     0.60761,     0.60861,     0.60961,     0.61061,     0.61161,     0.61261,     0.61361,     0.61461,     0.61562,     0.61662,     0.61762,     0.61862,     0.61962,     0.62062,     0.62162,     0.62262,     0.62362,\n",
       "           0.62462,     0.62563,     0.62663,     0.62763,     0.62863,     0.62963,     0.63063,     0.63163,     0.63263,     0.63363,     0.63463,     0.63564,     0.63664,     0.63764,     0.63864,     0.63964,     0.64064,     0.64164,     0.64264,     0.64364,     0.64464,     0.64565,     0.64665,     0.64765,\n",
       "           0.64865,     0.64965,     0.65065,     0.65165,     0.65265,     0.65365,     0.65465,     0.65566,     0.65666,     0.65766,     0.65866,     0.65966,     0.66066,     0.66166,     0.66266,     0.66366,     0.66466,     0.66567,     0.66667,     0.66767,     0.66867,     0.66967,     0.67067,     0.67167,\n",
       "           0.67267,     0.67367,     0.67467,     0.67568,     0.67668,     0.67768,     0.67868,     0.67968,     0.68068,     0.68168,     0.68268,     0.68368,     0.68468,     0.68569,     0.68669,     0.68769,     0.68869,     0.68969,     0.69069,     0.69169,     0.69269,     0.69369,     0.69469,      0.6957,\n",
       "            0.6967,      0.6977,      0.6987,      0.6997,      0.7007,      0.7017,      0.7027,      0.7037,      0.7047,     0.70571,     0.70671,     0.70771,     0.70871,     0.70971,     0.71071,     0.71171,     0.71271,     0.71371,     0.71471,     0.71572,     0.71672,     0.71772,     0.71872,     0.71972,\n",
       "           0.72072,     0.72172,     0.72272,     0.72372,     0.72472,     0.72573,     0.72673,     0.72773,     0.72873,     0.72973,     0.73073,     0.73173,     0.73273,     0.73373,     0.73473,     0.73574,     0.73674,     0.73774,     0.73874,     0.73974,     0.74074,     0.74174,     0.74274,     0.74374,\n",
       "           0.74474,     0.74575,     0.74675,     0.74775,     0.74875,     0.74975,     0.75075,     0.75175,     0.75275,     0.75375,     0.75475,     0.75576,     0.75676,     0.75776,     0.75876,     0.75976,     0.76076,     0.76176,     0.76276,     0.76376,     0.76476,     0.76577,     0.76677,     0.76777,\n",
       "           0.76877,     0.76977,     0.77077,     0.77177,     0.77277,     0.77377,     0.77477,     0.77578,     0.77678,     0.77778,     0.77878,     0.77978,     0.78078,     0.78178,     0.78278,     0.78378,     0.78478,     0.78579,     0.78679,     0.78779,     0.78879,     0.78979,     0.79079,     0.79179,\n",
       "           0.79279,     0.79379,     0.79479,      0.7958,      0.7968,      0.7978,      0.7988,      0.7998,      0.8008,      0.8018,      0.8028,      0.8038,      0.8048,     0.80581,     0.80681,     0.80781,     0.80881,     0.80981,     0.81081,     0.81181,     0.81281,     0.81381,     0.81481,     0.81582,\n",
       "           0.81682,     0.81782,     0.81882,     0.81982,     0.82082,     0.82182,     0.82282,     0.82382,     0.82482,     0.82583,     0.82683,     0.82783,     0.82883,     0.82983,     0.83083,     0.83183,     0.83283,     0.83383,     0.83483,     0.83584,     0.83684,     0.83784,     0.83884,     0.83984,\n",
       "           0.84084,     0.84184,     0.84284,     0.84384,     0.84484,     0.84585,     0.84685,     0.84785,     0.84885,     0.84985,     0.85085,     0.85185,     0.85285,     0.85385,     0.85485,     0.85586,     0.85686,     0.85786,     0.85886,     0.85986,     0.86086,     0.86186,     0.86286,     0.86386,\n",
       "           0.86486,     0.86587,     0.86687,     0.86787,     0.86887,     0.86987,     0.87087,     0.87187,     0.87287,     0.87387,     0.87487,     0.87588,     0.87688,     0.87788,     0.87888,     0.87988,     0.88088,     0.88188,     0.88288,     0.88388,     0.88488,     0.88589,     0.88689,     0.88789,\n",
       "           0.88889,     0.88989,     0.89089,     0.89189,     0.89289,     0.89389,     0.89489,      0.8959,      0.8969,      0.8979,      0.8989,      0.8999,      0.9009,      0.9019,      0.9029,      0.9039,      0.9049,     0.90591,     0.90691,     0.90791,     0.90891,     0.90991,     0.91091,     0.91191,\n",
       "           0.91291,     0.91391,     0.91491,     0.91592,     0.91692,     0.91792,     0.91892,     0.91992,     0.92092,     0.92192,     0.92292,     0.92392,     0.92492,     0.92593,     0.92693,     0.92793,     0.92893,     0.92993,     0.93093,     0.93193,     0.93293,     0.93393,     0.93493,     0.93594,\n",
       "           0.93694,     0.93794,     0.93894,     0.93994,     0.94094,     0.94194,     0.94294,     0.94394,     0.94494,     0.94595,     0.94695,     0.94795,     0.94895,     0.94995,     0.95095,     0.95195,     0.95295,     0.95395,     0.95495,     0.95596,     0.95696,     0.95796,     0.95896,     0.95996,\n",
       "           0.96096,     0.96196,     0.96296,     0.96396,     0.96496,     0.96597,     0.96697,     0.96797,     0.96897,     0.96997,     0.97097,     0.97197,     0.97297,     0.97397,     0.97497,     0.97598,     0.97698,     0.97798,     0.97898,     0.97998,     0.98098,     0.98198,     0.98298,     0.98398,\n",
       "           0.98498,     0.98599,     0.98699,     0.98799,     0.98899,     0.98999,     0.99099,     0.99199,     0.99299,     0.99399,     0.99499,       0.996,       0.997,       0.998,       0.999,           1]), array([[   0.053998,    0.053998,    0.088774,     0.11605,     0.13887,     0.15802,     0.17713,     0.19319,     0.20828,     0.22304,     0.23588,     0.24873,     0.26046,     0.26988,     0.27939,     0.29059,     0.30007,     0.30934,     0.31635,     0.32445,     0.33173,     0.33947,      0.3471,\n",
       "              0.354,     0.35963,     0.36796,     0.37398,     0.38118,     0.38807,     0.39459,     0.40135,     0.40726,     0.41331,     0.41834,     0.42375,     0.42953,     0.43283,       0.438,     0.44015,     0.44297,     0.44962,     0.45662,     0.46145,       0.466,     0.46901,     0.47497,\n",
       "             0.4795,     0.48268,     0.48751,     0.49268,     0.49686,     0.49625,     0.50003,     0.50462,     0.50775,     0.51124,     0.51834,     0.52192,     0.52884,     0.53143,     0.53661,     0.54385,     0.54761,     0.55136,     0.55426,     0.55861,     0.56264,     0.56678,     0.57107,\n",
       "            0.57171,     0.57366,      0.5777,     0.57917,     0.57904,     0.58169,     0.58474,     0.58512,     0.59431,     0.59531,     0.59755,     0.59927,      0.6006,     0.60185,     0.60311,     0.60545,     0.60844,     0.60902,     0.61087,     0.61303,     0.61461,     0.61642,      0.6185,\n",
       "            0.61921,      0.6219,     0.62412,      0.6272,     0.63276,     0.63492,     0.63764,     0.63855,     0.63875,     0.64156,     0.64295,     0.64407,     0.64512,     0.64619,     0.64693,     0.64543,     0.64313,     0.64352,     0.64603,     0.64779,     0.64841,     0.64889,     0.64963,\n",
       "            0.65279,     0.65101,     0.64978,     0.65103,     0.65046,     0.65068,     0.65298,      0.6553,      0.6561,     0.65651,     0.65782,     0.65965,     0.66119,     0.66162,     0.66142,     0.66368,     0.66543,     0.66457,     0.66624,     0.66727,     0.66913,     0.67103,     0.67003,\n",
       "            0.67137,     0.67272,     0.67383,     0.67303,     0.67131,     0.67104,     0.67332,     0.67449,     0.67639,      0.6769,     0.67833,     0.68034,     0.68268,     0.68433,     0.68574,     0.68623,      0.6869,     0.69053,      0.6928,     0.69422,     0.69357,     0.69559,     0.69667,\n",
       "            0.69831,     0.70121,     0.70173,     0.70225,      0.7037,     0.70604,      0.7068,     0.70556,     0.70678,     0.71124,     0.71069,     0.71014,     0.71018,     0.71288,     0.71228,     0.71434,     0.71525,     0.71544,     0.71563,     0.71581,       0.716,     0.71735,     0.71759,\n",
       "            0.71674,     0.71737,     0.71808,     0.71856,     0.71966,     0.72111,     0.72079,      0.7195,     0.71968,     0.71987,     0.72005,     0.72023,     0.72079,     0.72017,     0.71653,     0.71765,     0.71857,     0.71922,      0.7194,     0.71958,     0.71976,     0.71994,     0.72043,\n",
       "            0.72012,     0.72052,     0.72098,     0.72145,     0.72191,       0.723,     0.72347,     0.72411,      0.7259,     0.72637,     0.72832,     0.72966,     0.73162,     0.73246,     0.73344,     0.73414,     0.73484,     0.73392,     0.73491,     0.73559,     0.73607,     0.73395,     0.73496,\n",
       "            0.73542,     0.73618,     0.73689,      0.7373,     0.73764,     0.73802,     0.73868,     0.73991,     0.74057,     0.73882,     0.73952,     0.73987,     0.74021,     0.74118,     0.74042,     0.73993,     0.74297,     0.74365,     0.74401,     0.74435,     0.74667,     0.74735,     0.74841,\n",
       "            0.74903,     0.74949,     0.75051,     0.75091,     0.75119,     0.75146,     0.75175,     0.75207,     0.75239,     0.75374,     0.75443,     0.75554,     0.75768,     0.75692,     0.75615,     0.75634,     0.75661,     0.75687,     0.75714,     0.75756,     0.75798,     0.75828,     0.75851,\n",
       "            0.75873,     0.75895,     0.75917,     0.75964,     0.76011,     0.75899,     0.75964,      0.7608,     0.76141,     0.76221,     0.76144,     0.76144,     0.76097,     0.76241,     0.76097,     0.76122,     0.76148,     0.76173,     0.76101,        0.76,     0.75968,      0.7604,      0.7595,\n",
       "            0.75905,     0.76032,      0.7616,     0.76277,     0.76201,     0.76162,     0.76142,     0.76127,     0.76262,     0.76392,     0.76455,     0.76542,     0.76634,     0.76804,     0.76474,     0.76703,     0.76768,      0.7663,     0.76655,      0.7668,     0.76705,      0.7674,     0.76805,\n",
       "            0.76703,     0.76603,     0.76537,     0.76483,     0.76516,     0.76548,      0.7658,     0.76415,     0.76359,     0.76307,     0.76255,     0.76172,     0.76067,      0.7574,     0.75797,     0.75734,      0.7566,     0.75674,     0.75763,     0.75828,     0.76098,     0.76139,     0.76189,\n",
       "            0.76003,     0.75898,     0.75858,     0.75649,     0.75389,      0.7536,      0.7533,     0.75301,     0.75272,     0.75242,     0.75281,     0.75374,     0.75431,     0.75046,     0.75003,      0.7496,     0.74917,       0.749,     0.74942,     0.74984,     0.74893,     0.74841,     0.74789,\n",
       "            0.74737,     0.74847,     0.74977,     0.75035,     0.75017,       0.749,     0.74942,     0.74985,     0.75028,      0.7507,     0.75113,     0.75075,     0.75034,     0.74993,     0.74951,     0.74938,      0.7498,     0.75023,     0.75057,     0.75087,     0.75116,     0.75146,     0.75204,\n",
       "            0.74885,     0.74906,     0.74926,     0.74947,     0.74968,     0.74988,     0.74958,     0.74859,     0.74863,     0.74957,     0.75025,     0.75086,     0.75146,       0.751,     0.75033,     0.74967,     0.74913,     0.74859,     0.74806,      0.7452,      0.7436,     0.74306,     0.74253,\n",
       "            0.74199,     0.74215,     0.74275,     0.74159,     0.73957,     0.73874,     0.73839,     0.73803,     0.73768,     0.73732,     0.73615,     0.73592,      0.7357,     0.73547,     0.73524,     0.73501,     0.73479,     0.73456,     0.73433,      0.7335,     0.73345,     0.73376,     0.73408,\n",
       "             0.7344,     0.73378,     0.73275,     0.73293,     0.73353,     0.73311,     0.73241,     0.73172,      0.7287,     0.72765,     0.72565,     0.72664,     0.72568,     0.72461,     0.72372,     0.72302,     0.72231,     0.72162,     0.72106,     0.72049,     0.71992,     0.71913,     0.71807,\n",
       "            0.71747,     0.71734,     0.71722,     0.71709,     0.71697,     0.71684,     0.71672,     0.71659,     0.71646,     0.71634,     0.71621,     0.71609,     0.71596,     0.71584,     0.71571,     0.71558,     0.71546,     0.71447,     0.71339,     0.71056,     0.70984,     0.70907,     0.70494,\n",
       "            0.70523,     0.70553,     0.70583,     0.70596,     0.70523,     0.70451,     0.70344,     0.70085,     0.70095,     0.70105,     0.70115,     0.70125,     0.70135,     0.70145,     0.70155,     0.70165,     0.70174,     0.70184,     0.70194,     0.70078,      0.6992,     0.69809,     0.69814,\n",
       "            0.69703,     0.69642,     0.69605,     0.69567,      0.6953,     0.69493,     0.69456,      0.6917,     0.69095,      0.6902,     0.68811,     0.68771,     0.68749,     0.68726,     0.68704,     0.68681,     0.68658,     0.68636,     0.68613,      0.6859,     0.68553,      0.6844,     0.67858,\n",
       "            0.67669,     0.67611,     0.67554,     0.67496,     0.67156,     0.66979,     0.66902,     0.66825,     0.66772,     0.66753,     0.66733,     0.66714,     0.66694,     0.66675,     0.66656,     0.66636,     0.66617,     0.66597,     0.66578,     0.66558,     0.66611,     0.66533,     0.66454,\n",
       "            0.66147,     0.66068,      0.6599,     0.65774,     0.65664,     0.65569,     0.65481,     0.65402,     0.65323,     0.65264,     0.65224,     0.65184,     0.65145,     0.65105,     0.65065,     0.65012,     0.64952,     0.64892,     0.64832,     0.64725,     0.64605,     0.64599,     0.64618,\n",
       "            0.64638,     0.64657,     0.64676,     0.64695,     0.64393,     0.64324,     0.64255,     0.64002,     0.64031,     0.64059,     0.64088,     0.63541,     0.63418,     0.63352,     0.63311,     0.63269,     0.63228,     0.63187,     0.63146,      0.6293,     0.62916,     0.62936,     0.62957,\n",
       "            0.62978,     0.62999,     0.62884,     0.62752,     0.62726,       0.627,     0.62673,     0.62647,     0.62621,     0.62594,     0.62568,     0.62542,     0.62506,     0.62443,     0.62381,     0.62318,     0.62258,     0.62202,     0.62146,      0.6209,     0.62034,      0.6191,     0.61782,\n",
       "            0.61543,     0.61632,     0.61378,     0.60897,     0.60865,     0.60833,     0.60801,     0.60769,     0.60737,     0.60704,     0.60672,     0.60659,     0.60687,     0.60715,     0.60743,     0.60488,     0.60441,     0.60394,     0.60347,     0.60299,     0.60253,     0.60218,     0.60183,\n",
       "            0.60149,     0.60114,     0.60079,     0.60044,      0.6001,     0.59669,     0.59564,     0.59157,     0.58893,     0.58538,     0.58415,     0.58366,     0.58318,     0.58269,     0.58221,     0.58131,     0.57997,     0.57893,     0.57816,     0.57739,     0.57665,     0.57616,     0.57567,\n",
       "            0.57518,     0.57469,      0.5742,     0.57378,      0.5734,     0.57301,     0.57262,     0.57224,     0.57185,     0.57146,     0.57071,     0.56994,     0.56916,     0.56866,     0.56843,      0.5682,     0.56798,     0.56775,     0.56752,     0.56729,     0.56707,     0.56684,     0.56661,\n",
       "            0.56638,     0.56615,     0.56548,      0.5647,     0.56392,     0.55798,      0.5578,     0.55761,     0.55743,     0.55724,     0.55706,     0.55687,     0.55669,      0.5565,     0.55632,     0.55613,     0.55595,     0.55576,     0.55558,     0.55539,     0.55396,     0.55247,     0.55191,\n",
       "            0.55136,      0.5508,     0.55024,     0.54979,     0.54949,      0.5492,      0.5489,     0.54861,     0.54831,     0.54802,     0.54772,     0.54742,     0.54416,     0.54228,     0.53557,     0.53475,     0.53394,     0.53041,     0.52993,     0.52945,     0.52897,     0.52849,     0.52801,\n",
       "            0.52694,     0.52501,     0.52216,     0.52119,      0.5145,     0.51391,     0.51332,     0.51273,     0.51214,     0.51135,     0.50938,      0.5074,      0.5057,     0.50503,     0.50437,     0.50371,     0.50304,      0.5021,      0.5011,      0.5001,      0.4973,     0.49319,     0.49218,\n",
       "            0.49117,     0.49066,     0.49015,     0.48964,     0.48913,     0.48863,     0.48492,     0.48287,     0.48082,     0.47183,     0.46898,     0.46742,     0.45929,      0.4575,     0.45644,     0.45538,     0.45497,      0.4556,      0.4527,      0.4505,     0.44911,     0.44853,     0.44794,\n",
       "            0.44735,     0.44677,     0.44622,     0.44595,     0.44568,     0.44541,     0.44514,     0.44487,      0.4446,     0.44433,     0.44406,     0.44379,     0.44352,     0.44325,     0.43938,     0.43808,     0.43677,     0.43141,     0.42542,     0.42269,     0.42039,     0.41404,     0.41359,\n",
       "            0.41314,     0.41269,     0.41224,     0.41179,     0.41134,     0.41089,     0.41035,     0.40979,     0.40922,     0.40866,     0.40809,     0.40753,     0.40539,     0.39926,     0.39682,     0.39545,     0.39405,     0.39233,     0.39054,     0.38823,     0.38176,     0.37963,     0.37822,\n",
       "            0.37698,     0.37634,      0.3757,     0.37506,     0.37441,     0.37377,     0.37267,     0.37149,      0.3703,      0.3689,     0.36747,     0.36501,     0.36312,     0.36287,     0.36263,     0.36238,     0.36213,     0.36188,     0.36164,     0.36139,     0.36114,     0.36089,     0.36065,\n",
       "             0.3604,     0.36015,      0.3599,     0.35942,     0.35852,     0.35761,     0.35671,     0.35511,      0.3527,     0.34873,     0.34791,      0.3471,     0.34629,     0.34185,     0.34062,     0.33939,     0.33431,     0.33183,     0.32844,     0.32102,     0.31724,     0.30845,     0.30653,\n",
       "            0.30438,     0.30181,     0.29807,     0.29419,     0.29251,     0.29095,     0.28885,     0.28626,      0.2843,     0.28176,     0.27408,     0.27294,      0.2718,     0.27057,     0.26897,     0.26736,     0.25882,     0.25781,     0.25679,     0.25577,     0.24816,     0.24167,     0.24002,\n",
       "            0.23817,      0.2361,       0.233,     0.23059,     0.22989,     0.22919,     0.22849,     0.22779,     0.22709,     0.22089,     0.21697,     0.21399,     0.21333,     0.21267,     0.21202,     0.21136,      0.2107,     0.20504,     0.20217,     0.19732,     0.19653,     0.19574,     0.19495,\n",
       "            0.19415,     0.19319,     0.18904,     0.18778,     0.18652,     0.18527,     0.18387,      0.1824,     0.18092,     0.18012,     0.17956,     0.17901,     0.17845,      0.1779,     0.17734,     0.17679,     0.17623,     0.17206,     0.16758,     0.16308,     0.16006,     0.15622,      0.1491,\n",
       "            0.12624,     0.12173,     0.12038,     0.11903,     0.11748,      0.1151,     0.11099,     0.10744,     0.10584,     0.10424,     0.10335,     0.10261,     0.10187,     0.10112,     0.10038,    0.099637,    0.098471,    0.096857,     0.09524,    0.088681,    0.086724,    0.084406,    0.078764,\n",
       "           0.073745,     0.07126,    0.067003,    0.058309,    0.053925,    0.051388,     0.04268,    0.036656,    0.033693,    0.031103,    0.030128,    0.029329,    0.028529,    0.027729,    0.026928,    0.026126,    0.020519,     0.01842,    0.016316,    0.015099,    0.014395,    0.013692,    0.012988,\n",
       "           0.012283,    0.011578,    0.010872,   0.0099699,   0.0086441,   0.0073166,   0.0059874,           0,           0,           0,           0]]), 'Confidence', 'F1'], [array([          0,    0.001001,    0.002002,    0.003003,    0.004004,    0.005005,    0.006006,    0.007007,    0.008008,    0.009009,     0.01001,    0.011011,    0.012012,    0.013013,    0.014014,    0.015015,    0.016016,    0.017017,    0.018018,    0.019019,     0.02002,    0.021021,    0.022022,    0.023023,\n",
       "          0.024024,    0.025025,    0.026026,    0.027027,    0.028028,    0.029029,     0.03003,    0.031031,    0.032032,    0.033033,    0.034034,    0.035035,    0.036036,    0.037037,    0.038038,    0.039039,     0.04004,    0.041041,    0.042042,    0.043043,    0.044044,    0.045045,    0.046046,    0.047047,\n",
       "          0.048048,    0.049049,     0.05005,    0.051051,    0.052052,    0.053053,    0.054054,    0.055055,    0.056056,    0.057057,    0.058058,    0.059059,     0.06006,    0.061061,    0.062062,    0.063063,    0.064064,    0.065065,    0.066066,    0.067067,    0.068068,    0.069069,     0.07007,    0.071071,\n",
       "          0.072072,    0.073073,    0.074074,    0.075075,    0.076076,    0.077077,    0.078078,    0.079079,     0.08008,    0.081081,    0.082082,    0.083083,    0.084084,    0.085085,    0.086086,    0.087087,    0.088088,    0.089089,     0.09009,    0.091091,    0.092092,    0.093093,    0.094094,    0.095095,\n",
       "          0.096096,    0.097097,    0.098098,    0.099099,      0.1001,      0.1011,      0.1021,      0.1031,      0.1041,     0.10511,     0.10611,     0.10711,     0.10811,     0.10911,     0.11011,     0.11111,     0.11211,     0.11311,     0.11411,     0.11512,     0.11612,     0.11712,     0.11812,     0.11912,\n",
       "           0.12012,     0.12112,     0.12212,     0.12312,     0.12412,     0.12513,     0.12613,     0.12713,     0.12813,     0.12913,     0.13013,     0.13113,     0.13213,     0.13313,     0.13413,     0.13514,     0.13614,     0.13714,     0.13814,     0.13914,     0.14014,     0.14114,     0.14214,     0.14314,\n",
       "           0.14414,     0.14515,     0.14615,     0.14715,     0.14815,     0.14915,     0.15015,     0.15115,     0.15215,     0.15315,     0.15415,     0.15516,     0.15616,     0.15716,     0.15816,     0.15916,     0.16016,     0.16116,     0.16216,     0.16316,     0.16416,     0.16517,     0.16617,     0.16717,\n",
       "           0.16817,     0.16917,     0.17017,     0.17117,     0.17217,     0.17317,     0.17417,     0.17518,     0.17618,     0.17718,     0.17818,     0.17918,     0.18018,     0.18118,     0.18218,     0.18318,     0.18418,     0.18519,     0.18619,     0.18719,     0.18819,     0.18919,     0.19019,     0.19119,\n",
       "           0.19219,     0.19319,     0.19419,      0.1952,      0.1962,      0.1972,      0.1982,      0.1992,      0.2002,      0.2012,      0.2022,      0.2032,      0.2042,     0.20521,     0.20621,     0.20721,     0.20821,     0.20921,     0.21021,     0.21121,     0.21221,     0.21321,     0.21421,     0.21522,\n",
       "           0.21622,     0.21722,     0.21822,     0.21922,     0.22022,     0.22122,     0.22222,     0.22322,     0.22422,     0.22523,     0.22623,     0.22723,     0.22823,     0.22923,     0.23023,     0.23123,     0.23223,     0.23323,     0.23423,     0.23524,     0.23624,     0.23724,     0.23824,     0.23924,\n",
       "           0.24024,     0.24124,     0.24224,     0.24324,     0.24424,     0.24525,     0.24625,     0.24725,     0.24825,     0.24925,     0.25025,     0.25125,     0.25225,     0.25325,     0.25425,     0.25526,     0.25626,     0.25726,     0.25826,     0.25926,     0.26026,     0.26126,     0.26226,     0.26326,\n",
       "           0.26426,     0.26527,     0.26627,     0.26727,     0.26827,     0.26927,     0.27027,     0.27127,     0.27227,     0.27327,     0.27427,     0.27528,     0.27628,     0.27728,     0.27828,     0.27928,     0.28028,     0.28128,     0.28228,     0.28328,     0.28428,     0.28529,     0.28629,     0.28729,\n",
       "           0.28829,     0.28929,     0.29029,     0.29129,     0.29229,     0.29329,     0.29429,      0.2953,      0.2963,      0.2973,      0.2983,      0.2993,      0.3003,      0.3013,      0.3023,      0.3033,      0.3043,     0.30531,     0.30631,     0.30731,     0.30831,     0.30931,     0.31031,     0.31131,\n",
       "           0.31231,     0.31331,     0.31431,     0.31532,     0.31632,     0.31732,     0.31832,     0.31932,     0.32032,     0.32132,     0.32232,     0.32332,     0.32432,     0.32533,     0.32633,     0.32733,     0.32833,     0.32933,     0.33033,     0.33133,     0.33233,     0.33333,     0.33433,     0.33534,\n",
       "           0.33634,     0.33734,     0.33834,     0.33934,     0.34034,     0.34134,     0.34234,     0.34334,     0.34434,     0.34535,     0.34635,     0.34735,     0.34835,     0.34935,     0.35035,     0.35135,     0.35235,     0.35335,     0.35435,     0.35536,     0.35636,     0.35736,     0.35836,     0.35936,\n",
       "           0.36036,     0.36136,     0.36236,     0.36336,     0.36436,     0.36537,     0.36637,     0.36737,     0.36837,     0.36937,     0.37037,     0.37137,     0.37237,     0.37337,     0.37437,     0.37538,     0.37638,     0.37738,     0.37838,     0.37938,     0.38038,     0.38138,     0.38238,     0.38338,\n",
       "           0.38438,     0.38539,     0.38639,     0.38739,     0.38839,     0.38939,     0.39039,     0.39139,     0.39239,     0.39339,     0.39439,      0.3954,      0.3964,      0.3974,      0.3984,      0.3994,      0.4004,      0.4014,      0.4024,      0.4034,      0.4044,     0.40541,     0.40641,     0.40741,\n",
       "           0.40841,     0.40941,     0.41041,     0.41141,     0.41241,     0.41341,     0.41441,     0.41542,     0.41642,     0.41742,     0.41842,     0.41942,     0.42042,     0.42142,     0.42242,     0.42342,     0.42442,     0.42543,     0.42643,     0.42743,     0.42843,     0.42943,     0.43043,     0.43143,\n",
       "           0.43243,     0.43343,     0.43443,     0.43544,     0.43644,     0.43744,     0.43844,     0.43944,     0.44044,     0.44144,     0.44244,     0.44344,     0.44444,     0.44545,     0.44645,     0.44745,     0.44845,     0.44945,     0.45045,     0.45145,     0.45245,     0.45345,     0.45445,     0.45546,\n",
       "           0.45646,     0.45746,     0.45846,     0.45946,     0.46046,     0.46146,     0.46246,     0.46346,     0.46446,     0.46547,     0.46647,     0.46747,     0.46847,     0.46947,     0.47047,     0.47147,     0.47247,     0.47347,     0.47447,     0.47548,     0.47648,     0.47748,     0.47848,     0.47948,\n",
       "           0.48048,     0.48148,     0.48248,     0.48348,     0.48448,     0.48549,     0.48649,     0.48749,     0.48849,     0.48949,     0.49049,     0.49149,     0.49249,     0.49349,     0.49449,      0.4955,      0.4965,      0.4975,      0.4985,      0.4995,      0.5005,      0.5015,      0.5025,      0.5035,\n",
       "            0.5045,     0.50551,     0.50651,     0.50751,     0.50851,     0.50951,     0.51051,     0.51151,     0.51251,     0.51351,     0.51451,     0.51552,     0.51652,     0.51752,     0.51852,     0.51952,     0.52052,     0.52152,     0.52252,     0.52352,     0.52452,     0.52553,     0.52653,     0.52753,\n",
       "           0.52853,     0.52953,     0.53053,     0.53153,     0.53253,     0.53353,     0.53453,     0.53554,     0.53654,     0.53754,     0.53854,     0.53954,     0.54054,     0.54154,     0.54254,     0.54354,     0.54454,     0.54555,     0.54655,     0.54755,     0.54855,     0.54955,     0.55055,     0.55155,\n",
       "           0.55255,     0.55355,     0.55455,     0.55556,     0.55656,     0.55756,     0.55856,     0.55956,     0.56056,     0.56156,     0.56256,     0.56356,     0.56456,     0.56557,     0.56657,     0.56757,     0.56857,     0.56957,     0.57057,     0.57157,     0.57257,     0.57357,     0.57457,     0.57558,\n",
       "           0.57658,     0.57758,     0.57858,     0.57958,     0.58058,     0.58158,     0.58258,     0.58358,     0.58458,     0.58559,     0.58659,     0.58759,     0.58859,     0.58959,     0.59059,     0.59159,     0.59259,     0.59359,     0.59459,      0.5956,      0.5966,      0.5976,      0.5986,      0.5996,\n",
       "            0.6006,      0.6016,      0.6026,      0.6036,      0.6046,     0.60561,     0.60661,     0.60761,     0.60861,     0.60961,     0.61061,     0.61161,     0.61261,     0.61361,     0.61461,     0.61562,     0.61662,     0.61762,     0.61862,     0.61962,     0.62062,     0.62162,     0.62262,     0.62362,\n",
       "           0.62462,     0.62563,     0.62663,     0.62763,     0.62863,     0.62963,     0.63063,     0.63163,     0.63263,     0.63363,     0.63463,     0.63564,     0.63664,     0.63764,     0.63864,     0.63964,     0.64064,     0.64164,     0.64264,     0.64364,     0.64464,     0.64565,     0.64665,     0.64765,\n",
       "           0.64865,     0.64965,     0.65065,     0.65165,     0.65265,     0.65365,     0.65465,     0.65566,     0.65666,     0.65766,     0.65866,     0.65966,     0.66066,     0.66166,     0.66266,     0.66366,     0.66466,     0.66567,     0.66667,     0.66767,     0.66867,     0.66967,     0.67067,     0.67167,\n",
       "           0.67267,     0.67367,     0.67467,     0.67568,     0.67668,     0.67768,     0.67868,     0.67968,     0.68068,     0.68168,     0.68268,     0.68368,     0.68468,     0.68569,     0.68669,     0.68769,     0.68869,     0.68969,     0.69069,     0.69169,     0.69269,     0.69369,     0.69469,      0.6957,\n",
       "            0.6967,      0.6977,      0.6987,      0.6997,      0.7007,      0.7017,      0.7027,      0.7037,      0.7047,     0.70571,     0.70671,     0.70771,     0.70871,     0.70971,     0.71071,     0.71171,     0.71271,     0.71371,     0.71471,     0.71572,     0.71672,     0.71772,     0.71872,     0.71972,\n",
       "           0.72072,     0.72172,     0.72272,     0.72372,     0.72472,     0.72573,     0.72673,     0.72773,     0.72873,     0.72973,     0.73073,     0.73173,     0.73273,     0.73373,     0.73473,     0.73574,     0.73674,     0.73774,     0.73874,     0.73974,     0.74074,     0.74174,     0.74274,     0.74374,\n",
       "           0.74474,     0.74575,     0.74675,     0.74775,     0.74875,     0.74975,     0.75075,     0.75175,     0.75275,     0.75375,     0.75475,     0.75576,     0.75676,     0.75776,     0.75876,     0.75976,     0.76076,     0.76176,     0.76276,     0.76376,     0.76476,     0.76577,     0.76677,     0.76777,\n",
       "           0.76877,     0.76977,     0.77077,     0.77177,     0.77277,     0.77377,     0.77477,     0.77578,     0.77678,     0.77778,     0.77878,     0.77978,     0.78078,     0.78178,     0.78278,     0.78378,     0.78478,     0.78579,     0.78679,     0.78779,     0.78879,     0.78979,     0.79079,     0.79179,\n",
       "           0.79279,     0.79379,     0.79479,      0.7958,      0.7968,      0.7978,      0.7988,      0.7998,      0.8008,      0.8018,      0.8028,      0.8038,      0.8048,     0.80581,     0.80681,     0.80781,     0.80881,     0.80981,     0.81081,     0.81181,     0.81281,     0.81381,     0.81481,     0.81582,\n",
       "           0.81682,     0.81782,     0.81882,     0.81982,     0.82082,     0.82182,     0.82282,     0.82382,     0.82482,     0.82583,     0.82683,     0.82783,     0.82883,     0.82983,     0.83083,     0.83183,     0.83283,     0.83383,     0.83483,     0.83584,     0.83684,     0.83784,     0.83884,     0.83984,\n",
       "           0.84084,     0.84184,     0.84284,     0.84384,     0.84484,     0.84585,     0.84685,     0.84785,     0.84885,     0.84985,     0.85085,     0.85185,     0.85285,     0.85385,     0.85485,     0.85586,     0.85686,     0.85786,     0.85886,     0.85986,     0.86086,     0.86186,     0.86286,     0.86386,\n",
       "           0.86486,     0.86587,     0.86687,     0.86787,     0.86887,     0.86987,     0.87087,     0.87187,     0.87287,     0.87387,     0.87487,     0.87588,     0.87688,     0.87788,     0.87888,     0.87988,     0.88088,     0.88188,     0.88288,     0.88388,     0.88488,     0.88589,     0.88689,     0.88789,\n",
       "           0.88889,     0.88989,     0.89089,     0.89189,     0.89289,     0.89389,     0.89489,      0.8959,      0.8969,      0.8979,      0.8989,      0.8999,      0.9009,      0.9019,      0.9029,      0.9039,      0.9049,     0.90591,     0.90691,     0.90791,     0.90891,     0.90991,     0.91091,     0.91191,\n",
       "           0.91291,     0.91391,     0.91491,     0.91592,     0.91692,     0.91792,     0.91892,     0.91992,     0.92092,     0.92192,     0.92292,     0.92392,     0.92492,     0.92593,     0.92693,     0.92793,     0.92893,     0.92993,     0.93093,     0.93193,     0.93293,     0.93393,     0.93493,     0.93594,\n",
       "           0.93694,     0.93794,     0.93894,     0.93994,     0.94094,     0.94194,     0.94294,     0.94394,     0.94494,     0.94595,     0.94695,     0.94795,     0.94895,     0.94995,     0.95095,     0.95195,     0.95295,     0.95395,     0.95495,     0.95596,     0.95696,     0.95796,     0.95896,     0.95996,\n",
       "           0.96096,     0.96196,     0.96296,     0.96396,     0.96496,     0.96597,     0.96697,     0.96797,     0.96897,     0.96997,     0.97097,     0.97197,     0.97297,     0.97397,     0.97497,     0.97598,     0.97698,     0.97798,     0.97898,     0.97998,     0.98098,     0.98198,     0.98298,     0.98398,\n",
       "           0.98498,     0.98599,     0.98699,     0.98799,     0.98899,     0.98999,     0.99099,     0.99199,     0.99299,     0.99399,     0.99499,       0.996,       0.997,       0.998,       0.999,           1]), array([[   0.027788,    0.027788,    0.046568,    0.061807,    0.074957,    0.086282,    0.097864,     0.10783,     0.11732,     0.12677,     0.13525,     0.14376,     0.15173,     0.15824,      0.1649,     0.17286,     0.17961,     0.18629,     0.19152,     0.19773,      0.2033,     0.20929,     0.21512,\n",
       "            0.22044,     0.22499,     0.23155,     0.23633,     0.24211,      0.2477,     0.25322,     0.25885,     0.26401,     0.26912,      0.2734,     0.27804,     0.28304,     0.28591,     0.29044,     0.29262,     0.29512,     0.30105,     0.30767,     0.31208,     0.31625,     0.32006,     0.32564,\n",
       "            0.32991,     0.33293,     0.33754,     0.34252,     0.34657,      0.3468,     0.35051,     0.35503,     0.35857,     0.36207,     0.36923,     0.37288,     0.37998,     0.38266,     0.38805,     0.39568,     0.39967,     0.40367,      0.4068,      0.4115,     0.41649,     0.42104,     0.42579,\n",
       "             0.4265,     0.42932,     0.43386,     0.43551,     0.43671,     0.43973,     0.44331,     0.44436,     0.45505,     0.45622,     0.45961,     0.46242,     0.46478,     0.46628,     0.46779,     0.47143,     0.47507,      0.4766,     0.47887,     0.48153,     0.48348,     0.48572,     0.48832,\n",
       "             0.4892,     0.49256,     0.49626,     0.50016,     0.50728,     0.51006,     0.51357,     0.51476,       0.516,     0.51968,     0.52151,     0.52298,      0.5254,     0.52786,     0.52885,      0.5291,     0.52882,     0.53071,     0.53414,     0.53654,     0.53739,     0.53806,     0.53908,\n",
       "            0.54398,     0.54298,     0.54275,     0.54449,     0.54487,     0.54638,     0.54964,     0.55294,     0.55407,     0.55466,     0.55653,     0.55916,     0.56137,     0.56266,     0.56298,     0.56628,     0.56883,     0.56889,     0.57133,     0.57285,      0.5756,     0.57843,     0.57789,\n",
       "             0.5803,     0.58232,     0.58418,     0.58375,     0.58281,     0.58403,      0.5875,     0.58927,     0.59218,     0.59297,     0.59517,     0.59827,      0.6019,     0.60601,     0.60822,     0.60899,     0.61006,      0.6158,     0.61942,     0.62183,     0.62229,     0.62556,      0.6273,\n",
       "            0.63166,     0.63642,     0.63728,     0.63814,     0.64054,     0.64443,      0.6457,     0.64514,     0.64928,     0.65701,     0.65674,     0.65647,     0.65691,     0.66155,     0.66243,       0.666,      0.6676,     0.66792,     0.66825,     0.66858,      0.6689,     0.67127,      0.6719,\n",
       "            0.67149,     0.67329,     0.67454,     0.67539,     0.67939,     0.68198,     0.68257,     0.68327,      0.6836,     0.68393,     0.68426,     0.68459,     0.68614,     0.68585,     0.68429,     0.68634,     0.68802,     0.68921,     0.68954,     0.68987,      0.6902,     0.69053,     0.69144,\n",
       "            0.69195,     0.69383,     0.69469,     0.69555,     0.69642,     0.69845,     0.69932,     0.70053,     0.70387,     0.70475,     0.70845,     0.71098,     0.71471,     0.71632,     0.71819,     0.71954,     0.72088,     0.72154,     0.72345,     0.72477,     0.72571,     0.72654,     0.72852,\n",
       "            0.72942,     0.73092,     0.73489,      0.7357,     0.73638,     0.73715,     0.73846,     0.74091,     0.74224,     0.74352,     0.74545,     0.74616,     0.74686,     0.74923,     0.74893,     0.74901,     0.75527,     0.75666,     0.75741,     0.75811,     0.76295,     0.76438,     0.76658,\n",
       "             0.7679,     0.76886,     0.77101,     0.77186,     0.77245,     0.77303,     0.77363,     0.77431,     0.77498,     0.77786,     0.77934,     0.78171,     0.78648,     0.78621,     0.78593,     0.78645,     0.78702,     0.78758,     0.78816,     0.78908,     0.78999,     0.79066,     0.79114,\n",
       "            0.79162,     0.79211,     0.79259,      0.7936,     0.79463,      0.7953,     0.79674,     0.79929,     0.80064,     0.80331,     0.80305,     0.80391,      0.8061,     0.80933,     0.80939,     0.80996,     0.81054,     0.81112,     0.81302,      0.8127,     0.81316,     0.81482,     0.81462,\n",
       "            0.81513,     0.81807,     0.82103,     0.82376,     0.82395,     0.82461,     0.82595,     0.82735,     0.83054,     0.83364,     0.83515,     0.83723,     0.83944,     0.84372,     0.84306,     0.84865,     0.85023,     0.85072,     0.85133,     0.85195,     0.85257,     0.85344,     0.85504,\n",
       "            0.85542,     0.85516,     0.85499,     0.85494,     0.85575,     0.85656,     0.85737,     0.85715,     0.85701,     0.85687,     0.85674,     0.85652,     0.85625,     0.85651,     0.85796,     0.85791,     0.85772,     0.85899,      0.8613,     0.86298,     0.86999,     0.87108,     0.87237,\n",
       "            0.87706,     0.87794,     0.87949,     0.87901,     0.87842,     0.87836,     0.87829,     0.87822,     0.87816,     0.87809,     0.87962,     0.88214,     0.88372,     0.88333,     0.88323,     0.88314,     0.88304,     0.88333,      0.8845,     0.88567,     0.88882,     0.88871,      0.8886,\n",
       "            0.88849,     0.89165,     0.89535,     0.89702,     0.89807,     0.89821,     0.89944,     0.90066,     0.90189,     0.90313,     0.90436,     0.90434,     0.90426,     0.90419,     0.90411,     0.90447,     0.90571,     0.90696,     0.90796,     0.90883,     0.90969,     0.91056,     0.91226,\n",
       "            0.91355,     0.91417,     0.91478,      0.9154,     0.91601,     0.91663,     0.91691,     0.91675,     0.91836,     0.92118,     0.92323,      0.9251,     0.92691,     0.92712,     0.92703,     0.92693,     0.92685,     0.92678,      0.9267,     0.92628,     0.92605,     0.92597,     0.92589,\n",
       "            0.92581,     0.92693,      0.9288,     0.92922,     0.92893,     0.92882,     0.92877,     0.92872,     0.92867,     0.92862,       0.932,     0.93197,     0.93193,      0.9319,     0.93187,     0.93184,     0.93181,     0.93178,     0.93175,     0.93163,     0.93559,     0.93663,     0.93767,\n",
       "            0.93871,     0.93894,     0.93881,     0.94024,     0.94221,     0.94256,     0.94248,      0.9424,     0.94204,     0.94192,     0.94168,     0.94545,     0.94549,     0.94538,     0.94915,     0.94908,       0.949,     0.94893,     0.94887,     0.94881,     0.94875,     0.94867,     0.94855,\n",
       "            0.94849,     0.94848,     0.94846,     0.94845,     0.94844,     0.94842,     0.94841,      0.9484,     0.94838,     0.94837,     0.94836,     0.94834,     0.94833,     0.94832,      0.9483,     0.94829,     0.94828,     0.94817,     0.94806,     0.94775,     0.94767,     0.94759,      0.9472,\n",
       "            0.94828,     0.94935,     0.95042,     0.95132,     0.95124,     0.95117,     0.95106,     0.95505,     0.95542,     0.95579,     0.95616,     0.95653,     0.95689,     0.95726,     0.95763,       0.958,     0.95837,     0.95874,     0.95911,     0.95917,     0.95904,     0.95894,     0.96325,\n",
       "            0.96316,     0.96311,     0.96308,     0.96306,     0.96303,       0.963,     0.96297,     0.96274,     0.96268,     0.96262,     0.96246,     0.96242,     0.96241,     0.96239,     0.96237,     0.96235,     0.96233,     0.96232,      0.9623,     0.96228,     0.96225,     0.96216,     0.96168,\n",
       "            0.96153,     0.96148,     0.96143,     0.96138,      0.9611,     0.96095,     0.96089,     0.96082,     0.96078,     0.96076,     0.96074,     0.96073,     0.96071,     0.96069,     0.96068,     0.96066,     0.96065,     0.96063,     0.96061,      0.9606,      0.9653,     0.96525,     0.96519,\n",
       "            0.96495,     0.96489,     0.96483,     0.96467,     0.96458,     0.96451,     0.96444,     0.96438,     0.96432,     0.96427,     0.96424,     0.96421,     0.96418,     0.96414,     0.96411,     0.96407,     0.96402,     0.96398,     0.96393,     0.96384,     0.96375,     0.96443,     0.96529,\n",
       "            0.96615,     0.96701,     0.96786,     0.96872,     0.96854,     0.96849,     0.96844,     0.96898,      0.9703,     0.97162,     0.97294,     0.97307,       0.973,     0.97296,     0.97293,     0.97291,     0.97288,     0.97286,     0.97283,      0.9727,     0.97354,     0.97454,     0.97553,\n",
       "            0.97653,     0.97753,     0.97796,     0.97789,     0.97788,     0.97787,     0.97785,     0.97784,     0.97783,     0.97781,      0.9778,     0.97779,     0.97777,     0.97774,     0.97771,     0.97767,     0.97764,     0.97761,     0.97759,     0.97756,     0.97753,     0.97747,      0.9774,\n",
       "             0.9775,     0.98285,     0.98275,     0.98256,     0.98254,     0.98253,     0.98252,      0.9825,     0.98249,     0.98248,     0.98247,     0.98291,     0.98439,     0.98587,     0.98736,     0.98816,     0.98815,     0.98813,     0.98812,     0.98811,     0.98809,     0.98809,     0.98808,\n",
       "            0.98807,     0.98806,     0.98805,     0.98804,     0.98803,     0.98793,      0.9879,     0.98778,     0.98771,      0.9876,     0.98757,     0.98755,     0.98754,     0.98752,     0.98751,     0.98748,     0.98744,     0.98741,     0.98739,     0.98736,     0.98734,     0.98733,     0.98731,\n",
       "            0.98729,     0.98728,     0.98726,     0.98725,     0.98724,     0.98723,     0.98722,      0.9872,     0.98719,     0.98718,     0.98716,     0.98713,     0.98711,     0.98709,     0.98709,     0.98708,     0.98707,     0.98706,     0.98706,     0.98705,     0.98704,     0.98704,     0.98703,\n",
       "            0.98702,     0.98701,     0.98699,     0.98697,     0.98694,     0.98675,     0.98675,     0.98674,     0.98673,     0.98673,     0.98672,     0.98672,     0.98671,      0.9867,      0.9867,     0.98669,     0.98669,     0.98668,     0.98667,     0.98667,     0.98662,     0.98657,     0.98655,\n",
       "            0.98653,     0.98652,      0.9865,     0.98648,     0.98647,     0.98646,     0.98645,     0.98644,     0.98643,     0.98642,     0.98641,      0.9864,     0.98629,     0.98623,     0.98599,     0.98597,     0.98594,     0.98581,     0.98579,     0.98578,     0.98576,     0.98574,     0.98572,\n",
       "            0.98569,     0.98562,     0.99268,     0.99267,     0.99254,     0.99253,     0.99251,      0.9925,     0.99249,     0.99248,     0.99244,      0.9924,     0.99236,     0.99235,     0.99234,     0.99232,     0.99231,     0.99229,     0.99227,     0.99225,     0.99219,     0.99211,     0.99208,\n",
       "            0.99206,     0.99205,     0.99204,     0.99203,     0.99202,     0.99201,     0.99193,     0.99188,     0.99184,     0.99164,     0.99157,     0.99153,     0.99134,      0.9913,     0.99127,     0.99124,     0.99353,     0.99953,           1,           1,           1,           1,           1,\n",
       "                  1,           1,           1,           1,           1,           1,           1,           1,           1,           1,           1,           1,           1,           1,           1,           1,           1,           1,           1,           1,           1,           1,           1,\n",
       "                  1,           1,           1,           1,           1,           1,           1,           1,           1,           1,           1,           1,           1,           1,           1,           1,           1,           1,           1,           1,           1,           1,           1,\n",
       "                  1,           1,           1,           1,           1,           1,           1,           1,           1,           1,           1,           1,           1,           1,           1,           1,           1,           1,           1,           1,           1,           1,           1,\n",
       "                  1,           1,           1,           1,           1,           1,           1,           1,           1,           1,           1,           1,           1,           1,           1,           1,           1,           1,           1,           1,           1,           1,           1,\n",
       "                  1,           1,           1,           1,           1,           1,           1,           1,           1,           1,           1,           1,           1,           1,           1,           1,           1,           1,           1,           1,           1,           1,           1,\n",
       "                  1,           1,           1,           1,           1,           1,           1,           1,           1,           1,           1,           1,           1,           1,           1,           1,           1,           1,           1,           1,           1,           1,           1,\n",
       "                  1,           1,           1,           1,           1,           1,           1,           1,           1,           1,           1,           1,           1,           1,           1,           1,           1,           1,           1,           1,           1,           1,           1,\n",
       "                  1,           1,           1,           1,           1,           1,           1,           1,           1,           1,           1,           1,           1,           1,           1,           1,           1,           1,           1,           1,           1,           1,           1,\n",
       "                  1,           1,           1,           1,           1,           1,           1,           1,           1,           1,           1,           1,           1,           1,           1,           1,           1,           1,           1,           1,           1,           1,           1,\n",
       "                  1,           1,           1,           1,           1,           1,           1,           1,           1,           1,           1]]), 'Confidence', 'Precision'], [array([          0,    0.001001,    0.002002,    0.003003,    0.004004,    0.005005,    0.006006,    0.007007,    0.008008,    0.009009,     0.01001,    0.011011,    0.012012,    0.013013,    0.014014,    0.015015,    0.016016,    0.017017,    0.018018,    0.019019,     0.02002,    0.021021,    0.022022,    0.023023,\n",
       "          0.024024,    0.025025,    0.026026,    0.027027,    0.028028,    0.029029,     0.03003,    0.031031,    0.032032,    0.033033,    0.034034,    0.035035,    0.036036,    0.037037,    0.038038,    0.039039,     0.04004,    0.041041,    0.042042,    0.043043,    0.044044,    0.045045,    0.046046,    0.047047,\n",
       "          0.048048,    0.049049,     0.05005,    0.051051,    0.052052,    0.053053,    0.054054,    0.055055,    0.056056,    0.057057,    0.058058,    0.059059,     0.06006,    0.061061,    0.062062,    0.063063,    0.064064,    0.065065,    0.066066,    0.067067,    0.068068,    0.069069,     0.07007,    0.071071,\n",
       "          0.072072,    0.073073,    0.074074,    0.075075,    0.076076,    0.077077,    0.078078,    0.079079,     0.08008,    0.081081,    0.082082,    0.083083,    0.084084,    0.085085,    0.086086,    0.087087,    0.088088,    0.089089,     0.09009,    0.091091,    0.092092,    0.093093,    0.094094,    0.095095,\n",
       "          0.096096,    0.097097,    0.098098,    0.099099,      0.1001,      0.1011,      0.1021,      0.1031,      0.1041,     0.10511,     0.10611,     0.10711,     0.10811,     0.10911,     0.11011,     0.11111,     0.11211,     0.11311,     0.11411,     0.11512,     0.11612,     0.11712,     0.11812,     0.11912,\n",
       "           0.12012,     0.12112,     0.12212,     0.12312,     0.12412,     0.12513,     0.12613,     0.12713,     0.12813,     0.12913,     0.13013,     0.13113,     0.13213,     0.13313,     0.13413,     0.13514,     0.13614,     0.13714,     0.13814,     0.13914,     0.14014,     0.14114,     0.14214,     0.14314,\n",
       "           0.14414,     0.14515,     0.14615,     0.14715,     0.14815,     0.14915,     0.15015,     0.15115,     0.15215,     0.15315,     0.15415,     0.15516,     0.15616,     0.15716,     0.15816,     0.15916,     0.16016,     0.16116,     0.16216,     0.16316,     0.16416,     0.16517,     0.16617,     0.16717,\n",
       "           0.16817,     0.16917,     0.17017,     0.17117,     0.17217,     0.17317,     0.17417,     0.17518,     0.17618,     0.17718,     0.17818,     0.17918,     0.18018,     0.18118,     0.18218,     0.18318,     0.18418,     0.18519,     0.18619,     0.18719,     0.18819,     0.18919,     0.19019,     0.19119,\n",
       "           0.19219,     0.19319,     0.19419,      0.1952,      0.1962,      0.1972,      0.1982,      0.1992,      0.2002,      0.2012,      0.2022,      0.2032,      0.2042,     0.20521,     0.20621,     0.20721,     0.20821,     0.20921,     0.21021,     0.21121,     0.21221,     0.21321,     0.21421,     0.21522,\n",
       "           0.21622,     0.21722,     0.21822,     0.21922,     0.22022,     0.22122,     0.22222,     0.22322,     0.22422,     0.22523,     0.22623,     0.22723,     0.22823,     0.22923,     0.23023,     0.23123,     0.23223,     0.23323,     0.23423,     0.23524,     0.23624,     0.23724,     0.23824,     0.23924,\n",
       "           0.24024,     0.24124,     0.24224,     0.24324,     0.24424,     0.24525,     0.24625,     0.24725,     0.24825,     0.24925,     0.25025,     0.25125,     0.25225,     0.25325,     0.25425,     0.25526,     0.25626,     0.25726,     0.25826,     0.25926,     0.26026,     0.26126,     0.26226,     0.26326,\n",
       "           0.26426,     0.26527,     0.26627,     0.26727,     0.26827,     0.26927,     0.27027,     0.27127,     0.27227,     0.27327,     0.27427,     0.27528,     0.27628,     0.27728,     0.27828,     0.27928,     0.28028,     0.28128,     0.28228,     0.28328,     0.28428,     0.28529,     0.28629,     0.28729,\n",
       "           0.28829,     0.28929,     0.29029,     0.29129,     0.29229,     0.29329,     0.29429,      0.2953,      0.2963,      0.2973,      0.2983,      0.2993,      0.3003,      0.3013,      0.3023,      0.3033,      0.3043,     0.30531,     0.30631,     0.30731,     0.30831,     0.30931,     0.31031,     0.31131,\n",
       "           0.31231,     0.31331,     0.31431,     0.31532,     0.31632,     0.31732,     0.31832,     0.31932,     0.32032,     0.32132,     0.32232,     0.32332,     0.32432,     0.32533,     0.32633,     0.32733,     0.32833,     0.32933,     0.33033,     0.33133,     0.33233,     0.33333,     0.33433,     0.33534,\n",
       "           0.33634,     0.33734,     0.33834,     0.33934,     0.34034,     0.34134,     0.34234,     0.34334,     0.34434,     0.34535,     0.34635,     0.34735,     0.34835,     0.34935,     0.35035,     0.35135,     0.35235,     0.35335,     0.35435,     0.35536,     0.35636,     0.35736,     0.35836,     0.35936,\n",
       "           0.36036,     0.36136,     0.36236,     0.36336,     0.36436,     0.36537,     0.36637,     0.36737,     0.36837,     0.36937,     0.37037,     0.37137,     0.37237,     0.37337,     0.37437,     0.37538,     0.37638,     0.37738,     0.37838,     0.37938,     0.38038,     0.38138,     0.38238,     0.38338,\n",
       "           0.38438,     0.38539,     0.38639,     0.38739,     0.38839,     0.38939,     0.39039,     0.39139,     0.39239,     0.39339,     0.39439,      0.3954,      0.3964,      0.3974,      0.3984,      0.3994,      0.4004,      0.4014,      0.4024,      0.4034,      0.4044,     0.40541,     0.40641,     0.40741,\n",
       "           0.40841,     0.40941,     0.41041,     0.41141,     0.41241,     0.41341,     0.41441,     0.41542,     0.41642,     0.41742,     0.41842,     0.41942,     0.42042,     0.42142,     0.42242,     0.42342,     0.42442,     0.42543,     0.42643,     0.42743,     0.42843,     0.42943,     0.43043,     0.43143,\n",
       "           0.43243,     0.43343,     0.43443,     0.43544,     0.43644,     0.43744,     0.43844,     0.43944,     0.44044,     0.44144,     0.44244,     0.44344,     0.44444,     0.44545,     0.44645,     0.44745,     0.44845,     0.44945,     0.45045,     0.45145,     0.45245,     0.45345,     0.45445,     0.45546,\n",
       "           0.45646,     0.45746,     0.45846,     0.45946,     0.46046,     0.46146,     0.46246,     0.46346,     0.46446,     0.46547,     0.46647,     0.46747,     0.46847,     0.46947,     0.47047,     0.47147,     0.47247,     0.47347,     0.47447,     0.47548,     0.47648,     0.47748,     0.47848,     0.47948,\n",
       "           0.48048,     0.48148,     0.48248,     0.48348,     0.48448,     0.48549,     0.48649,     0.48749,     0.48849,     0.48949,     0.49049,     0.49149,     0.49249,     0.49349,     0.49449,      0.4955,      0.4965,      0.4975,      0.4985,      0.4995,      0.5005,      0.5015,      0.5025,      0.5035,\n",
       "            0.5045,     0.50551,     0.50651,     0.50751,     0.50851,     0.50951,     0.51051,     0.51151,     0.51251,     0.51351,     0.51451,     0.51552,     0.51652,     0.51752,     0.51852,     0.51952,     0.52052,     0.52152,     0.52252,     0.52352,     0.52452,     0.52553,     0.52653,     0.52753,\n",
       "           0.52853,     0.52953,     0.53053,     0.53153,     0.53253,     0.53353,     0.53453,     0.53554,     0.53654,     0.53754,     0.53854,     0.53954,     0.54054,     0.54154,     0.54254,     0.54354,     0.54454,     0.54555,     0.54655,     0.54755,     0.54855,     0.54955,     0.55055,     0.55155,\n",
       "           0.55255,     0.55355,     0.55455,     0.55556,     0.55656,     0.55756,     0.55856,     0.55956,     0.56056,     0.56156,     0.56256,     0.56356,     0.56456,     0.56557,     0.56657,     0.56757,     0.56857,     0.56957,     0.57057,     0.57157,     0.57257,     0.57357,     0.57457,     0.57558,\n",
       "           0.57658,     0.57758,     0.57858,     0.57958,     0.58058,     0.58158,     0.58258,     0.58358,     0.58458,     0.58559,     0.58659,     0.58759,     0.58859,     0.58959,     0.59059,     0.59159,     0.59259,     0.59359,     0.59459,      0.5956,      0.5966,      0.5976,      0.5986,      0.5996,\n",
       "            0.6006,      0.6016,      0.6026,      0.6036,      0.6046,     0.60561,     0.60661,     0.60761,     0.60861,     0.60961,     0.61061,     0.61161,     0.61261,     0.61361,     0.61461,     0.61562,     0.61662,     0.61762,     0.61862,     0.61962,     0.62062,     0.62162,     0.62262,     0.62362,\n",
       "           0.62462,     0.62563,     0.62663,     0.62763,     0.62863,     0.62963,     0.63063,     0.63163,     0.63263,     0.63363,     0.63463,     0.63564,     0.63664,     0.63764,     0.63864,     0.63964,     0.64064,     0.64164,     0.64264,     0.64364,     0.64464,     0.64565,     0.64665,     0.64765,\n",
       "           0.64865,     0.64965,     0.65065,     0.65165,     0.65265,     0.65365,     0.65465,     0.65566,     0.65666,     0.65766,     0.65866,     0.65966,     0.66066,     0.66166,     0.66266,     0.66366,     0.66466,     0.66567,     0.66667,     0.66767,     0.66867,     0.66967,     0.67067,     0.67167,\n",
       "           0.67267,     0.67367,     0.67467,     0.67568,     0.67668,     0.67768,     0.67868,     0.67968,     0.68068,     0.68168,     0.68268,     0.68368,     0.68468,     0.68569,     0.68669,     0.68769,     0.68869,     0.68969,     0.69069,     0.69169,     0.69269,     0.69369,     0.69469,      0.6957,\n",
       "            0.6967,      0.6977,      0.6987,      0.6997,      0.7007,      0.7017,      0.7027,      0.7037,      0.7047,     0.70571,     0.70671,     0.70771,     0.70871,     0.70971,     0.71071,     0.71171,     0.71271,     0.71371,     0.71471,     0.71572,     0.71672,     0.71772,     0.71872,     0.71972,\n",
       "           0.72072,     0.72172,     0.72272,     0.72372,     0.72472,     0.72573,     0.72673,     0.72773,     0.72873,     0.72973,     0.73073,     0.73173,     0.73273,     0.73373,     0.73473,     0.73574,     0.73674,     0.73774,     0.73874,     0.73974,     0.74074,     0.74174,     0.74274,     0.74374,\n",
       "           0.74474,     0.74575,     0.74675,     0.74775,     0.74875,     0.74975,     0.75075,     0.75175,     0.75275,     0.75375,     0.75475,     0.75576,     0.75676,     0.75776,     0.75876,     0.75976,     0.76076,     0.76176,     0.76276,     0.76376,     0.76476,     0.76577,     0.76677,     0.76777,\n",
       "           0.76877,     0.76977,     0.77077,     0.77177,     0.77277,     0.77377,     0.77477,     0.77578,     0.77678,     0.77778,     0.77878,     0.77978,     0.78078,     0.78178,     0.78278,     0.78378,     0.78478,     0.78579,     0.78679,     0.78779,     0.78879,     0.78979,     0.79079,     0.79179,\n",
       "           0.79279,     0.79379,     0.79479,      0.7958,      0.7968,      0.7978,      0.7988,      0.7998,      0.8008,      0.8018,      0.8028,      0.8038,      0.8048,     0.80581,     0.80681,     0.80781,     0.80881,     0.80981,     0.81081,     0.81181,     0.81281,     0.81381,     0.81481,     0.81582,\n",
       "           0.81682,     0.81782,     0.81882,     0.81982,     0.82082,     0.82182,     0.82282,     0.82382,     0.82482,     0.82583,     0.82683,     0.82783,     0.82883,     0.82983,     0.83083,     0.83183,     0.83283,     0.83383,     0.83483,     0.83584,     0.83684,     0.83784,     0.83884,     0.83984,\n",
       "           0.84084,     0.84184,     0.84284,     0.84384,     0.84484,     0.84585,     0.84685,     0.84785,     0.84885,     0.84985,     0.85085,     0.85185,     0.85285,     0.85385,     0.85485,     0.85586,     0.85686,     0.85786,     0.85886,     0.85986,     0.86086,     0.86186,     0.86286,     0.86386,\n",
       "           0.86486,     0.86587,     0.86687,     0.86787,     0.86887,     0.86987,     0.87087,     0.87187,     0.87287,     0.87387,     0.87487,     0.87588,     0.87688,     0.87788,     0.87888,     0.87988,     0.88088,     0.88188,     0.88288,     0.88388,     0.88488,     0.88589,     0.88689,     0.88789,\n",
       "           0.88889,     0.88989,     0.89089,     0.89189,     0.89289,     0.89389,     0.89489,      0.8959,      0.8969,      0.8979,      0.8989,      0.8999,      0.9009,      0.9019,      0.9029,      0.9039,      0.9049,     0.90591,     0.90691,     0.90791,     0.90891,     0.90991,     0.91091,     0.91191,\n",
       "           0.91291,     0.91391,     0.91491,     0.91592,     0.91692,     0.91792,     0.91892,     0.91992,     0.92092,     0.92192,     0.92292,     0.92392,     0.92492,     0.92593,     0.92693,     0.92793,     0.92893,     0.92993,     0.93093,     0.93193,     0.93293,     0.93393,     0.93493,     0.93594,\n",
       "           0.93694,     0.93794,     0.93894,     0.93994,     0.94094,     0.94194,     0.94294,     0.94394,     0.94494,     0.94595,     0.94695,     0.94795,     0.94895,     0.94995,     0.95095,     0.95195,     0.95295,     0.95395,     0.95495,     0.95596,     0.95696,     0.95796,     0.95896,     0.95996,\n",
       "           0.96096,     0.96196,     0.96296,     0.96396,     0.96496,     0.96597,     0.96697,     0.96797,     0.96897,     0.96997,     0.97097,     0.97197,     0.97297,     0.97397,     0.97497,     0.97598,     0.97698,     0.97798,     0.97898,     0.97998,     0.98098,     0.98198,     0.98298,     0.98398,\n",
       "           0.98498,     0.98599,     0.98699,     0.98799,     0.98899,     0.98999,     0.99099,     0.99199,     0.99299,     0.99399,     0.99499,       0.996,       0.997,       0.998,       0.999,           1]), array([[    0.95039,     0.95039,     0.94778,     0.94778,     0.94256,     0.93734,     0.93211,     0.92689,     0.92689,     0.92689,     0.92167,     0.92167,     0.91906,     0.91645,     0.91384,     0.91123,     0.91123,     0.91123,     0.90862,     0.90339,     0.90078,     0.89817,     0.89817,\n",
       "            0.89817,     0.89556,     0.89556,     0.89556,     0.89556,     0.89556,     0.89331,     0.89295,     0.89034,     0.89034,     0.89034,     0.89034,     0.89034,     0.89034,     0.89034,     0.88773,     0.88773,     0.88773,     0.88512,     0.88512,     0.88512,     0.87728,     0.87728,\n",
       "            0.87728,     0.87728,     0.87728,     0.87728,     0.87728,     0.87206,     0.87206,     0.87206,     0.86945,     0.86945,     0.86945,     0.86945,     0.86945,     0.86945,     0.86945,     0.86945,     0.86945,     0.86945,     0.86945,     0.86945,     0.86684,     0.86684,     0.86684,\n",
       "            0.86684,     0.86423,     0.86423,     0.86423,     0.85901,     0.85901,     0.85871,      0.8564,      0.8564,      0.8564,     0.85379,     0.85117,     0.84856,     0.84856,     0.84856,     0.84595,     0.84594,     0.84334,     0.84334,     0.84334,     0.84334,     0.84334,     0.84334,\n",
       "            0.84334,     0.84334,     0.84073,     0.84073,     0.84073,     0.84073,     0.84073,     0.84073,     0.83812,     0.83812,     0.83812,     0.83812,     0.83551,      0.8329,      0.8329,     0.82731,      0.8205,     0.81723,     0.81723,     0.81723,     0.81723,     0.81723,     0.81723,\n",
       "            0.81602,     0.81272,      0.8094,      0.8094,     0.80679,     0.80418,     0.80418,     0.80418,     0.80418,     0.80418,     0.80418,     0.80418,     0.80418,     0.80283,     0.80157,     0.80157,     0.80157,     0.79896,     0.79896,     0.79896,     0.79896,     0.79891,     0.79712,\n",
       "            0.79634,     0.79634,     0.79599,     0.79456,      0.7915,     0.78851,     0.78851,     0.78851,     0.78851,     0.78851,     0.78851,     0.78851,     0.78851,      0.7859,      0.7859,      0.7859,      0.7859,      0.7859,      0.7859,     0.78568,     0.78329,     0.78329,     0.78329,\n",
       "            0.78068,     0.78068,     0.78068,     0.78068,     0.78068,     0.78068,     0.78068,     0.77846,     0.77546,     0.77523,      0.7743,     0.77336,     0.77285,     0.77285,     0.77023,     0.77023,     0.77023,     0.77023,     0.77023,     0.77023,     0.77023,     0.77023,     0.76995,\n",
       "            0.76852,     0.76762,     0.76762,     0.76762,     0.76501,     0.76501,     0.76355,     0.75979,     0.75979,     0.75979,     0.75979,     0.75979,     0.75914,     0.75812,     0.75196,     0.75196,     0.75196,     0.75196,     0.75196,     0.75196,     0.75196,     0.75196,     0.75196,\n",
       "            0.75068,     0.74935,     0.74935,     0.74935,     0.74935,     0.74935,     0.74935,     0.74935,     0.74935,     0.74935,     0.74935,     0.74935,     0.74935,     0.74935,     0.74935,     0.74935,     0.74935,     0.74674,     0.74674,     0.74674,     0.74674,     0.74151,     0.74151,\n",
       "            0.74151,     0.74151,      0.7389,      0.7389,      0.7389,      0.7389,      0.7389,      0.7389,      0.7389,     0.73418,     0.73368,     0.73368,     0.73368,      0.7333,     0.73211,     0.73107,     0.73107,     0.73107,     0.73107,     0.73107,     0.73107,     0.73107,     0.73107,\n",
       "            0.73107,     0.73107,     0.73107,     0.73107,     0.73107,     0.73107,     0.73107,     0.73107,     0.73107,     0.73107,     0.73107,     0.73107,     0.73092,     0.72973,     0.72854,     0.72846,     0.72846,     0.72846,     0.72846,     0.72846,     0.72846,     0.72846,     0.72846,\n",
       "            0.72846,     0.72846,     0.72846,     0.72846,     0.72846,     0.72585,     0.72585,     0.72585,     0.72585,     0.72512,     0.72393,     0.72324,     0.72063,     0.72063,     0.71802,     0.71802,     0.71802,     0.71802,     0.71524,     0.71372,     0.71279,     0.71279,     0.71137,\n",
       "            0.71018,     0.71018,     0.71018,     0.71018,     0.70873,     0.70757,     0.70624,     0.70496,     0.70496,     0.70496,     0.70496,     0.70496,     0.70496,     0.70481,     0.69974,     0.69974,     0.69974,     0.69713,     0.69713,     0.69713,     0.69713,     0.69713,     0.69713,\n",
       "            0.69519,     0.69373,     0.69275,     0.69191,     0.69191,     0.69191,     0.69191,     0.68935,     0.68854,     0.68778,     0.68701,     0.68581,     0.68428,     0.67885,     0.67885,     0.67788,     0.67681,     0.67624,     0.67624,     0.67624,     0.67624,     0.67624,     0.67624,\n",
       "            0.67055,     0.66841,      0.6669,     0.66395,     0.66028,     0.65987,     0.65946,     0.65904,     0.65863,     0.65822,     0.65796,     0.65796,     0.65796,     0.65233,     0.65174,     0.65114,     0.65055,     0.65013,     0.65013,     0.65013,     0.64708,     0.64636,     0.64565,\n",
       "            0.64494,     0.64491,     0.64491,     0.64491,      0.6441,      0.6423,      0.6423,      0.6423,      0.6423,      0.6423,      0.6423,     0.64176,     0.64119,     0.64063,     0.64007,     0.63969,     0.63969,     0.63969,     0.63969,     0.63969,     0.63969,     0.63969,     0.63969,\n",
       "            0.63446,     0.63446,     0.63446,     0.63446,     0.63446,     0.63446,      0.6339,     0.63256,     0.63185,     0.63185,     0.63185,     0.63185,     0.63185,     0.63111,     0.63021,     0.62932,     0.62859,     0.62788,     0.62716,     0.62334,     0.62121,      0.6205,     0.61978,\n",
       "            0.61907,      0.6188,      0.6188,     0.61701,     0.61433,     0.61324,     0.61278,     0.61231,     0.61185,     0.61138,     0.60832,     0.60803,     0.60773,     0.60743,     0.60713,     0.60684,     0.60654,     0.60624,     0.60594,     0.60487,     0.60313,     0.60313,     0.60313,\n",
       "            0.60313,     0.60221,     0.60087,     0.60052,     0.60052,     0.59982,     0.59892,     0.59803,     0.59414,     0.59281,     0.59024,     0.59008,     0.58879,     0.58744,     0.58482,     0.58393,     0.58304,     0.58217,     0.58145,     0.58074,     0.58003,     0.57903,     0.57769,\n",
       "            0.57694,     0.57679,     0.57663,     0.57647,     0.57632,     0.57616,       0.576,     0.57584,     0.57569,     0.57553,     0.57537,     0.57521,     0.57506,      0.5749,     0.57474,     0.57458,     0.57443,     0.57319,     0.57185,     0.56833,     0.56744,     0.56648,     0.56136,\n",
       "            0.56136,     0.56136,     0.56136,     0.56122,     0.56032,     0.55943,     0.55813,     0.55352,     0.55352,     0.55352,     0.55352,     0.55352,     0.55352,     0.55352,     0.55352,     0.55352,     0.55352,     0.55352,     0.55352,     0.55206,     0.55015,     0.54881,     0.54747,\n",
       "            0.54613,     0.54539,     0.54495,      0.5445,     0.54405,     0.54361,     0.54316,     0.53974,     0.53885,     0.53796,     0.53548,       0.535,     0.53474,     0.53447,      0.5342,     0.53393,     0.53366,      0.5334,     0.53313,     0.53286,     0.53242,     0.53109,     0.52425,\n",
       "            0.52204,     0.52137,      0.5207,     0.52003,     0.51609,     0.51404,     0.51315,     0.51226,     0.51165,     0.51143,     0.51121,     0.51098,     0.51076,     0.51054,     0.51032,     0.51009,     0.50987,     0.50965,     0.50942,      0.5092,      0.5085,      0.5076,     0.50671,\n",
       "            0.50321,     0.50232,     0.50142,     0.49898,     0.49774,     0.49667,     0.49568,     0.49479,      0.4939,     0.49324,     0.49279,     0.49235,      0.4919,     0.49145,     0.49101,     0.49041,     0.48974,     0.48907,      0.4884,     0.48722,     0.48588,     0.48564,     0.48564,\n",
       "            0.48564,     0.48564,     0.48564,     0.48564,     0.48229,     0.48153,     0.48076,     0.47781,     0.47781,     0.47781,     0.47781,     0.47172,     0.47038,     0.46966,     0.46922,     0.46877,     0.46832,     0.46788,     0.46743,      0.4651,     0.46475,     0.46475,     0.46475,\n",
       "            0.46475,     0.46475,     0.46341,     0.46199,     0.46171,     0.46143,     0.46115,     0.46087,     0.46058,      0.4603,     0.46002,     0.45974,     0.45936,     0.45869,     0.45802,     0.45735,     0.45671,     0.45611,     0.45552,     0.45492,     0.45433,     0.45302,     0.45166,\n",
       "            0.44909,     0.44891,     0.44624,     0.44122,     0.44088,     0.44055,     0.44021,     0.43988,     0.43954,     0.43921,     0.43887,     0.43864,     0.43864,     0.43864,     0.43864,     0.43583,     0.43535,     0.43486,     0.43437,     0.43389,     0.43341,     0.43305,     0.43269,\n",
       "            0.43234,     0.43198,     0.43162,     0.43127,     0.43091,     0.42742,     0.42635,     0.42222,     0.41954,     0.41597,     0.41473,     0.41425,     0.41376,     0.41327,     0.41279,     0.41189,     0.41055,     0.40952,     0.40875,     0.40799,     0.40726,     0.40677,     0.40628,\n",
       "             0.4058,     0.40531,     0.40482,     0.40441,     0.40403,     0.40365,     0.40327,     0.40288,      0.4025,     0.40212,     0.40139,     0.40062,     0.39986,     0.39937,     0.39914,     0.39892,      0.3987,     0.39847,     0.39825,     0.39803,      0.3978,     0.39758,     0.39736,\n",
       "            0.39714,     0.39691,     0.39626,     0.39549,     0.39473,     0.38897,     0.38879,     0.38861,     0.38843,     0.38825,     0.38807,      0.3879,     0.38772,     0.38754,     0.38736,     0.38718,       0.387,     0.38682,     0.38665,     0.38647,     0.38509,     0.38366,     0.38312,\n",
       "            0.38259,     0.38205,     0.38152,     0.38109,      0.3808,     0.38052,     0.38024,     0.37996,     0.37968,      0.3794,     0.37911,     0.37883,     0.37573,     0.37395,     0.36763,     0.36686,      0.3661,     0.36281,     0.36236,     0.36192,     0.36147,     0.36102,     0.36058,\n",
       "            0.35958,      0.3578,     0.35425,     0.35336,     0.34725,     0.34671,     0.34618,     0.34564,     0.34511,      0.3444,     0.34261,     0.34083,      0.3393,      0.3387,     0.33811,     0.33751,     0.33692,     0.33608,     0.33519,      0.3343,      0.3318,     0.32816,     0.32727,\n",
       "            0.32638,     0.32593,     0.32548,     0.32504,     0.32459,     0.32414,      0.3209,     0.31911,     0.31733,     0.30956,     0.30712,     0.30578,     0.29888,     0.29737,     0.29648,     0.29559,     0.29504,     0.29504,     0.29257,     0.29074,     0.28958,      0.2891,     0.28861,\n",
       "            0.28812,     0.28764,     0.28718,     0.28696,     0.28673,     0.28651,     0.28629,     0.28607,     0.28584,     0.28562,      0.2854,     0.28517,     0.28495,     0.28473,     0.28155,     0.28048,      0.2794,     0.27503,     0.27018,     0.26798,     0.26614,     0.26106,     0.26071,\n",
       "            0.26035,     0.25999,     0.25964,     0.25928,     0.25892,     0.25857,     0.25814,     0.25769,     0.25725,      0.2568,     0.25636,     0.25591,     0.25423,     0.24942,     0.24752,     0.24645,     0.24537,     0.24403,     0.24265,     0.24087,     0.23591,     0.23429,     0.23322,\n",
       "            0.23227,     0.23178,      0.2313,     0.23081,     0.23032,     0.22984,     0.22901,     0.22811,     0.22722,     0.22617,      0.2251,     0.22325,     0.22184,     0.22165,     0.22147,     0.22128,      0.2211,     0.22092,     0.22073,     0.22055,     0.22036,     0.22018,     0.21999,\n",
       "            0.21981,     0.21962,     0.21944,     0.21908,     0.21841,     0.21774,     0.21707,     0.21589,     0.21411,     0.21119,     0.21059,        0.21,      0.2094,     0.20616,     0.20527,     0.20438,      0.2007,     0.19892,     0.19648,      0.1912,     0.18852,     0.18235,     0.18101,\n",
       "            0.17951,     0.17773,     0.17514,     0.17246,     0.17131,     0.17024,      0.1688,     0.16704,      0.1657,     0.16398,      0.1588,     0.15804,     0.15728,     0.15645,     0.15538,     0.15431,     0.14865,     0.14798,     0.14731,     0.14664,     0.14166,     0.13744,     0.13637,\n",
       "            0.13519,     0.13385,     0.13186,     0.13032,     0.12987,     0.12943,     0.12898,     0.12854,     0.12809,     0.12416,     0.12168,     0.11981,      0.1194,     0.11899,     0.11858,     0.11817,     0.11776,     0.11423,     0.11245,     0.10946,     0.10897,     0.10849,       0.108,\n",
       "            0.10751,     0.10692,     0.10438,     0.10362,     0.10285,     0.10209,     0.10124,     0.10035,    0.099458,    0.098973,    0.098638,    0.098303,    0.097969,    0.097634,      0.0973,    0.096965,    0.096631,    0.094129,    0.091453,    0.088777,    0.086991,     0.08473,    0.080556,\n",
       "            0.06737,    0.064809,    0.064044,     0.06328,    0.062404,    0.061066,    0.058753,    0.056768,    0.055876,    0.054984,    0.054489,    0.054078,    0.053666,    0.053254,    0.052842,    0.052431,    0.051785,    0.050893,    0.050001,    0.046398,    0.045327,    0.044062,    0.040997,\n",
       "           0.038284,    0.036946,    0.034663,     0.03003,     0.02771,    0.026372,    0.021805,     0.01867,    0.017135,    0.015797,    0.015294,    0.014883,    0.014471,    0.014059,    0.013648,    0.013236,    0.010366,   0.0092955,   0.0082249,   0.0076067,   0.0072499,   0.0068931,   0.0065362,\n",
       "          0.0061794,   0.0058225,   0.0054657,   0.0050099,   0.0043408,   0.0036718,   0.0030027,           0,           0,           0,           0]]), 'Confidence', 'Recall']]\n",
       "fitness: np.float64(0.5503316795809021)\n",
       "keys: ['metrics/precision(B)', 'metrics/recall(B)', 'metrics/mAP50(B)', 'metrics/mAP50-95(B)']\n",
       "maps: array([    0.52211])\n",
       "names: {0: 'lesion'}\n",
       "nt_per_class: array([383])\n",
       "nt_per_image: array([300])\n",
       "results_dict: {'metrics/precision(B)': np.float64(0.8305404980251607), 'metrics/recall(B)': np.float64(0.7049608355091384), 'metrics/mAP50(B)': np.float64(0.8042853842841657), 'metrics/mAP50-95(B)': np.float64(0.5221146012805395), 'fitness': np.float64(0.5503316795809021)}\n",
       "save_dir: WindowsPath('C:/Users/PC/Desktop/final project/CBIS-DDSM/calc/YOLO model/CBIS_YOLO_PROJECT_output/yolov8s_optimized2')\n",
       "speed: {'preprocess': 0.3038229999462298, 'inference': 3.1320410001111063, 'loss': 0.0013679999392479658, 'postprocess': 1.878214333410142}\n",
       "stats: {'tp': [], 'conf': [], 'pred_cls': [], 'target_cls': [], 'target_img': []}\n",
       "task: 'detect'"
      ]
     },
     "execution_count": 7,
     "metadata": {},
     "output_type": "execute_result"
    }
   ],
   "source": [
    "# Prevent memory fragmentation\n",
    "os.environ[\"PYTORCH_CUDA_ALLOC_CONF\"] = \"expandable_segments:True\"\n",
    "\n",
    "model = YOLO(\"yolov8s.pt\")  # Lightweight model with good performance\n",
    "\n",
    "model.train(\n",
    "    data=str(yaml_path),\n",
    "    epochs=150,\n",
    "    imgsz=800,\n",
    "    batch=4,\n",
    "    device=0,\n",
    "    lr0=0.001,\n",
    "    optimizer=\"SGD\",\n",
    "    patience=20,\n",
    "    workers=4,\n",
    "    project=str(PROJECT_DIR / \"CBIS_YOLO_PROJECT_output\"),\n",
    "    name=\"yolov8s_optimized\",\n",
    "    verbose=True,\n",
    "    pretrained=True,\n",
    "    close_mosaic=10,\n",
    "    warmup_epochs=5,\n",
    "    dropout=0.2,\n",
    "    seed=42,\n",
    ")"
   ]
  },
  {
   "cell_type": "code",
   "execution_count": null,
   "id": "7f4513a7",
   "metadata": {},
   "outputs": [],
   "source": []
  }
 ],
 "metadata": {
  "kernelspec": {
   "display_name": "base",
   "language": "python",
   "name": "python3"
  },
  "language_info": {
   "codemirror_mode": {
    "name": "ipython",
    "version": 3
   },
   "file_extension": ".py",
   "mimetype": "text/x-python",
   "name": "python",
   "nbconvert_exporter": "python",
   "pygments_lexer": "ipython3",
   "version": "3.13.5"
  }
 },
 "nbformat": 4,
 "nbformat_minor": 5
}
